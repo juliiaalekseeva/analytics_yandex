{
 "cells": [
  {
   "cell_type": "markdown",
   "metadata": {},
   "source": [
    "# Проект по SQL. Анализ книг"
   ]
  },
  {
   "cell_type": "markdown",
   "metadata": {},
   "source": [
    "## Описание проблемы:"
   ]
  },
  {
   "cell_type": "markdown",
   "metadata": {},
   "source": [
    "Коронавирус застал мир врасплох, изменив привычный порядок вещей. В свободное время жители городов больше не выходят на улицу, не посещают кафе и торговые центры. Зато стало больше времени для книг. Это заметили стартаперы — и бросились создавать приложения для тех, кто любит читать.\n",
    "\n",
    "компания решила быть на волне и купила крупный сервис для чтения книг по подписке. \n",
    "\n",
    "задача — проанализировать базу данных — информация о книгах, издательствах, авторах, а также пользовательские обзоры книг.\n",
    "\n",
    "Цель: сформулировать ценностное предложение для нового продукта."
   ]
  },
  {
   "cell_type": "markdown",
   "metadata": {},
   "source": [
    "## Данные"
   ]
  },
  {
   "cell_type": "code",
   "execution_count": 1,
   "metadata": {},
   "outputs": [],
   "source": [
    "# импортируем библиотеки\n",
    "import pandas as pd\n",
    "from sqlalchemy import create_engine"
   ]
  },
  {
   "cell_type": "code",
   "execution_count": 2,
   "metadata": {},
   "outputs": [],
   "source": [
    "# устанавливаем параметры\n",
    "db_config = {'user': 'praktikum_student', # имя пользователя\n",
    "'pwd': 'Sdf4$2;d-d30pp', # пароль\n",
    "'host': 'rc1b-wcoijxj3yxfsf3fs.mdb.yandexcloud.net',\n",
    "'port': 6432, # порт подключения\n",
    "'db': 'data-analyst-final-project-db'} # название базы данных\n",
    "connection_string = 'postgresql://{}:{}@{}:{}/{}'.format(db_config['user'],\n",
    " db_config['pwd'],\n",
    " db_config['host'],\n",
    " db_config['port'],\n",
    " db_config['db'])\n",
    "# сохраняем коннектор\n",
    "engine = create_engine(connection_string, connect_args={'sslmode':'require'})\n",
    "\n",
    "# чтобы выполнить SQL-запрос, используем Pandas\n",
    "#pd.io.sql.read_sql(query, con = engine)"
   ]
  },
  {
   "cell_type": "code",
   "execution_count": 3,
   "metadata": {},
   "outputs": [
    {
     "data": {
      "text/html": [
       "<div>\n",
       "<style scoped>\n",
       "    .dataframe tbody tr th:only-of-type {\n",
       "        vertical-align: middle;\n",
       "    }\n",
       "\n",
       "    .dataframe tbody tr th {\n",
       "        vertical-align: top;\n",
       "    }\n",
       "\n",
       "    .dataframe thead th {\n",
       "        text-align: right;\n",
       "    }\n",
       "</style>\n",
       "<table border=\"1\" class=\"dataframe\">\n",
       "  <thead>\n",
       "    <tr style=\"text-align: right;\">\n",
       "      <th></th>\n",
       "      <th>book_id</th>\n",
       "      <th>author_id</th>\n",
       "      <th>title</th>\n",
       "      <th>num_pages</th>\n",
       "      <th>publication_date</th>\n",
       "      <th>publisher_id</th>\n",
       "    </tr>\n",
       "  </thead>\n",
       "  <tbody>\n",
       "    <tr>\n",
       "      <th>0</th>\n",
       "      <td>1</td>\n",
       "      <td>546</td>\n",
       "      <td>'Salem's Lot</td>\n",
       "      <td>594</td>\n",
       "      <td>2005-11-01</td>\n",
       "      <td>93</td>\n",
       "    </tr>\n",
       "    <tr>\n",
       "      <th>1</th>\n",
       "      <td>2</td>\n",
       "      <td>465</td>\n",
       "      <td>1 000 Places to See Before You Die</td>\n",
       "      <td>992</td>\n",
       "      <td>2003-05-22</td>\n",
       "      <td>336</td>\n",
       "    </tr>\n",
       "    <tr>\n",
       "      <th>2</th>\n",
       "      <td>3</td>\n",
       "      <td>407</td>\n",
       "      <td>13 Little Blue Envelopes (Little Blue Envelope...</td>\n",
       "      <td>322</td>\n",
       "      <td>2010-12-21</td>\n",
       "      <td>135</td>\n",
       "    </tr>\n",
       "    <tr>\n",
       "      <th>3</th>\n",
       "      <td>4</td>\n",
       "      <td>82</td>\n",
       "      <td>1491: New Revelations of the Americas Before C...</td>\n",
       "      <td>541</td>\n",
       "      <td>2006-10-10</td>\n",
       "      <td>309</td>\n",
       "    </tr>\n",
       "    <tr>\n",
       "      <th>4</th>\n",
       "      <td>5</td>\n",
       "      <td>125</td>\n",
       "      <td>1776</td>\n",
       "      <td>386</td>\n",
       "      <td>2006-07-04</td>\n",
       "      <td>268</td>\n",
       "    </tr>\n",
       "  </tbody>\n",
       "</table>\n",
       "</div>"
      ],
      "text/plain": [
       "   book_id  author_id                                              title  \\\n",
       "0        1        546                                       'Salem's Lot   \n",
       "1        2        465                 1 000 Places to See Before You Die   \n",
       "2        3        407  13 Little Blue Envelopes (Little Blue Envelope...   \n",
       "3        4         82  1491: New Revelations of the Americas Before C...   \n",
       "4        5        125                                               1776   \n",
       "\n",
       "   num_pages publication_date  publisher_id  \n",
       "0        594       2005-11-01            93  \n",
       "1        992       2003-05-22           336  \n",
       "2        322       2010-12-21           135  \n",
       "3        541       2006-10-10           309  \n",
       "4        386       2006-07-04           268  "
      ]
     },
     "execution_count": 3,
     "metadata": {},
     "output_type": "execute_result"
    }
   ],
   "source": [
    "query= ('''\n",
    "select * from books\n",
    "limit 5\n",
    "''')\n",
    "pd.io.sql.read_sql(query, con = engine)"
   ]
  },
  {
   "cell_type": "code",
   "execution_count": 4,
   "metadata": {},
   "outputs": [
    {
     "data": {
      "text/html": [
       "<div>\n",
       "<style scoped>\n",
       "    .dataframe tbody tr th:only-of-type {\n",
       "        vertical-align: middle;\n",
       "    }\n",
       "\n",
       "    .dataframe tbody tr th {\n",
       "        vertical-align: top;\n",
       "    }\n",
       "\n",
       "    .dataframe thead th {\n",
       "        text-align: right;\n",
       "    }\n",
       "</style>\n",
       "<table border=\"1\" class=\"dataframe\">\n",
       "  <thead>\n",
       "    <tr style=\"text-align: right;\">\n",
       "      <th></th>\n",
       "      <th>author_id</th>\n",
       "      <th>author</th>\n",
       "    </tr>\n",
       "  </thead>\n",
       "  <tbody>\n",
       "    <tr>\n",
       "      <th>0</th>\n",
       "      <td>1</td>\n",
       "      <td>A.S. Byatt</td>\n",
       "    </tr>\n",
       "    <tr>\n",
       "      <th>1</th>\n",
       "      <td>2</td>\n",
       "      <td>Aesop/Laura Harris/Laura Gibbs</td>\n",
       "    </tr>\n",
       "    <tr>\n",
       "      <th>2</th>\n",
       "      <td>3</td>\n",
       "      <td>Agatha Christie</td>\n",
       "    </tr>\n",
       "    <tr>\n",
       "      <th>3</th>\n",
       "      <td>4</td>\n",
       "      <td>Alan Brennert</td>\n",
       "    </tr>\n",
       "    <tr>\n",
       "      <th>4</th>\n",
       "      <td>5</td>\n",
       "      <td>Alan Moore/David   Lloyd</td>\n",
       "    </tr>\n",
       "  </tbody>\n",
       "</table>\n",
       "</div>"
      ],
      "text/plain": [
       "   author_id                          author\n",
       "0          1                      A.S. Byatt\n",
       "1          2  Aesop/Laura Harris/Laura Gibbs\n",
       "2          3                 Agatha Christie\n",
       "3          4                   Alan Brennert\n",
       "4          5        Alan Moore/David   Lloyd"
      ]
     },
     "execution_count": 4,
     "metadata": {},
     "output_type": "execute_result"
    }
   ],
   "source": [
    "query= ('''\n",
    "select * from authors\n",
    "limit 5\n",
    "''')\n",
    "pd.io.sql.read_sql(query, con = engine)"
   ]
  },
  {
   "cell_type": "code",
   "execution_count": 5,
   "metadata": {},
   "outputs": [
    {
     "data": {
      "text/html": [
       "<div>\n",
       "<style scoped>\n",
       "    .dataframe tbody tr th:only-of-type {\n",
       "        vertical-align: middle;\n",
       "    }\n",
       "\n",
       "    .dataframe tbody tr th {\n",
       "        vertical-align: top;\n",
       "    }\n",
       "\n",
       "    .dataframe thead th {\n",
       "        text-align: right;\n",
       "    }\n",
       "</style>\n",
       "<table border=\"1\" class=\"dataframe\">\n",
       "  <thead>\n",
       "    <tr style=\"text-align: right;\">\n",
       "      <th></th>\n",
       "      <th>review_id</th>\n",
       "      <th>book_id</th>\n",
       "      <th>username</th>\n",
       "      <th>text</th>\n",
       "    </tr>\n",
       "  </thead>\n",
       "  <tbody>\n",
       "    <tr>\n",
       "      <th>0</th>\n",
       "      <td>1</td>\n",
       "      <td>1</td>\n",
       "      <td>brandtandrea</td>\n",
       "      <td>Mention society tell send professor analysis. ...</td>\n",
       "    </tr>\n",
       "    <tr>\n",
       "      <th>1</th>\n",
       "      <td>2</td>\n",
       "      <td>1</td>\n",
       "      <td>ryanfranco</td>\n",
       "      <td>Foot glass pretty audience hit themselves. Amo...</td>\n",
       "    </tr>\n",
       "    <tr>\n",
       "      <th>2</th>\n",
       "      <td>3</td>\n",
       "      <td>2</td>\n",
       "      <td>lorichen</td>\n",
       "      <td>Listen treat keep worry. Miss husband tax but ...</td>\n",
       "    </tr>\n",
       "    <tr>\n",
       "      <th>3</th>\n",
       "      <td>4</td>\n",
       "      <td>3</td>\n",
       "      <td>johnsonamanda</td>\n",
       "      <td>Finally month interesting blue could nature cu...</td>\n",
       "    </tr>\n",
       "    <tr>\n",
       "      <th>4</th>\n",
       "      <td>5</td>\n",
       "      <td>3</td>\n",
       "      <td>scotttamara</td>\n",
       "      <td>Nation purpose heavy give wait song will. List...</td>\n",
       "    </tr>\n",
       "  </tbody>\n",
       "</table>\n",
       "</div>"
      ],
      "text/plain": [
       "   review_id  book_id       username  \\\n",
       "0          1        1   brandtandrea   \n",
       "1          2        1     ryanfranco   \n",
       "2          3        2       lorichen   \n",
       "3          4        3  johnsonamanda   \n",
       "4          5        3    scotttamara   \n",
       "\n",
       "                                                text  \n",
       "0  Mention society tell send professor analysis. ...  \n",
       "1  Foot glass pretty audience hit themselves. Amo...  \n",
       "2  Listen treat keep worry. Miss husband tax but ...  \n",
       "3  Finally month interesting blue could nature cu...  \n",
       "4  Nation purpose heavy give wait song will. List...  "
      ]
     },
     "execution_count": 5,
     "metadata": {},
     "output_type": "execute_result"
    }
   ],
   "source": [
    "query= ('''\n",
    "select * from reviews\n",
    "limit 5\n",
    "''')\n",
    "pd.io.sql.read_sql(query, con = engine)"
   ]
  },
  {
   "cell_type": "code",
   "execution_count": 6,
   "metadata": {},
   "outputs": [
    {
     "data": {
      "text/html": [
       "<div>\n",
       "<style scoped>\n",
       "    .dataframe tbody tr th:only-of-type {\n",
       "        vertical-align: middle;\n",
       "    }\n",
       "\n",
       "    .dataframe tbody tr th {\n",
       "        vertical-align: top;\n",
       "    }\n",
       "\n",
       "    .dataframe thead th {\n",
       "        text-align: right;\n",
       "    }\n",
       "</style>\n",
       "<table border=\"1\" class=\"dataframe\">\n",
       "  <thead>\n",
       "    <tr style=\"text-align: right;\">\n",
       "      <th></th>\n",
       "      <th>rating_id</th>\n",
       "      <th>book_id</th>\n",
       "      <th>username</th>\n",
       "      <th>rating</th>\n",
       "    </tr>\n",
       "  </thead>\n",
       "  <tbody>\n",
       "    <tr>\n",
       "      <th>0</th>\n",
       "      <td>1</td>\n",
       "      <td>1</td>\n",
       "      <td>ryanfranco</td>\n",
       "      <td>4</td>\n",
       "    </tr>\n",
       "    <tr>\n",
       "      <th>1</th>\n",
       "      <td>2</td>\n",
       "      <td>1</td>\n",
       "      <td>grantpatricia</td>\n",
       "      <td>2</td>\n",
       "    </tr>\n",
       "    <tr>\n",
       "      <th>2</th>\n",
       "      <td>3</td>\n",
       "      <td>1</td>\n",
       "      <td>brandtandrea</td>\n",
       "      <td>5</td>\n",
       "    </tr>\n",
       "    <tr>\n",
       "      <th>3</th>\n",
       "      <td>4</td>\n",
       "      <td>2</td>\n",
       "      <td>lorichen</td>\n",
       "      <td>3</td>\n",
       "    </tr>\n",
       "    <tr>\n",
       "      <th>4</th>\n",
       "      <td>5</td>\n",
       "      <td>2</td>\n",
       "      <td>mariokeller</td>\n",
       "      <td>2</td>\n",
       "    </tr>\n",
       "  </tbody>\n",
       "</table>\n",
       "</div>"
      ],
      "text/plain": [
       "   rating_id  book_id       username  rating\n",
       "0          1        1     ryanfranco       4\n",
       "1          2        1  grantpatricia       2\n",
       "2          3        1   brandtandrea       5\n",
       "3          4        2       lorichen       3\n",
       "4          5        2    mariokeller       2"
      ]
     },
     "execution_count": 6,
     "metadata": {},
     "output_type": "execute_result"
    }
   ],
   "source": [
    "query= ('''\n",
    "select * from ratings\n",
    "limit 5\n",
    "''')\n",
    "pd.io.sql.read_sql(query, con = engine)"
   ]
  },
  {
   "cell_type": "code",
   "execution_count": 7,
   "metadata": {},
   "outputs": [
    {
     "data": {
      "text/html": [
       "<div>\n",
       "<style scoped>\n",
       "    .dataframe tbody tr th:only-of-type {\n",
       "        vertical-align: middle;\n",
       "    }\n",
       "\n",
       "    .dataframe tbody tr th {\n",
       "        vertical-align: top;\n",
       "    }\n",
       "\n",
       "    .dataframe thead th {\n",
       "        text-align: right;\n",
       "    }\n",
       "</style>\n",
       "<table border=\"1\" class=\"dataframe\">\n",
       "  <thead>\n",
       "    <tr style=\"text-align: right;\">\n",
       "      <th></th>\n",
       "      <th>publisher_id</th>\n",
       "      <th>publisher</th>\n",
       "    </tr>\n",
       "  </thead>\n",
       "  <tbody>\n",
       "    <tr>\n",
       "      <th>0</th>\n",
       "      <td>1</td>\n",
       "      <td>Ace</td>\n",
       "    </tr>\n",
       "    <tr>\n",
       "      <th>1</th>\n",
       "      <td>2</td>\n",
       "      <td>Ace Book</td>\n",
       "    </tr>\n",
       "    <tr>\n",
       "      <th>2</th>\n",
       "      <td>3</td>\n",
       "      <td>Ace Books</td>\n",
       "    </tr>\n",
       "    <tr>\n",
       "      <th>3</th>\n",
       "      <td>4</td>\n",
       "      <td>Ace Hardcover</td>\n",
       "    </tr>\n",
       "    <tr>\n",
       "      <th>4</th>\n",
       "      <td>5</td>\n",
       "      <td>Addison Wesley Publishing Company</td>\n",
       "    </tr>\n",
       "  </tbody>\n",
       "</table>\n",
       "</div>"
      ],
      "text/plain": [
       "   publisher_id                          publisher\n",
       "0             1                                Ace\n",
       "1             2                           Ace Book\n",
       "2             3                          Ace Books\n",
       "3             4                      Ace Hardcover\n",
       "4             5  Addison Wesley Publishing Company"
      ]
     },
     "execution_count": 7,
     "metadata": {},
     "output_type": "execute_result"
    }
   ],
   "source": [
    "query= ('''\n",
    "select * from publishers\n",
    "limit 5\n",
    "''')\n",
    "pd.io.sql.read_sql(query, con = engine)"
   ]
  },
  {
   "cell_type": "markdown",
   "metadata": {},
   "source": [
    "## Анализ данных"
   ]
  },
  {
   "cell_type": "code",
   "execution_count": 8,
   "metadata": {},
   "outputs": [
    {
     "data": {
      "text/html": [
       "<div>\n",
       "<style scoped>\n",
       "    .dataframe tbody tr th:only-of-type {\n",
       "        vertical-align: middle;\n",
       "    }\n",
       "\n",
       "    .dataframe tbody tr th {\n",
       "        vertical-align: top;\n",
       "    }\n",
       "\n",
       "    .dataframe thead th {\n",
       "        text-align: right;\n",
       "    }\n",
       "</style>\n",
       "<table border=\"1\" class=\"dataframe\">\n",
       "  <thead>\n",
       "    <tr style=\"text-align: right;\">\n",
       "      <th></th>\n",
       "      <th>count</th>\n",
       "    </tr>\n",
       "  </thead>\n",
       "  <tbody>\n",
       "    <tr>\n",
       "      <th>0</th>\n",
       "      <td>819</td>\n",
       "    </tr>\n",
       "  </tbody>\n",
       "</table>\n",
       "</div>"
      ],
      "text/plain": [
       "   count\n",
       "0    819"
      ]
     },
     "execution_count": 8,
     "metadata": {},
     "output_type": "execute_result"
    }
   ],
   "source": [
    "# сколько книг вышло после 1 января 2000 года;\n",
    "query= ('''\n",
    "select count(book_id)\n",
    "from books\n",
    "where publication_date::date>'2000-01-01'\n",
    "''')\n",
    "pd.io.sql.read_sql(query, con = engine)"
   ]
  },
  {
   "cell_type": "code",
   "execution_count": 9,
   "metadata": {
    "scrolled": true
   },
   "outputs": [
    {
     "data": {
      "text/html": [
       "<div>\n",
       "<style scoped>\n",
       "    .dataframe tbody tr th:only-of-type {\n",
       "        vertical-align: middle;\n",
       "    }\n",
       "\n",
       "    .dataframe tbody tr th {\n",
       "        vertical-align: top;\n",
       "    }\n",
       "\n",
       "    .dataframe thead th {\n",
       "        text-align: right;\n",
       "    }\n",
       "</style>\n",
       "<table border=\"1\" class=\"dataframe\">\n",
       "  <thead>\n",
       "    <tr style=\"text-align: right;\">\n",
       "      <th></th>\n",
       "      <th>book_id</th>\n",
       "      <th>title</th>\n",
       "      <th>round</th>\n",
       "      <th>count</th>\n",
       "    </tr>\n",
       "  </thead>\n",
       "  <tbody>\n",
       "    <tr>\n",
       "      <th>0</th>\n",
       "      <td>948</td>\n",
       "      <td>Twilight (Twilight  #1)</td>\n",
       "      <td>3.66</td>\n",
       "      <td>7</td>\n",
       "    </tr>\n",
       "    <tr>\n",
       "      <th>1</th>\n",
       "      <td>302</td>\n",
       "      <td>Harry Potter and the Prisoner of Azkaban (Harr...</td>\n",
       "      <td>4.41</td>\n",
       "      <td>6</td>\n",
       "    </tr>\n",
       "    <tr>\n",
       "      <th>2</th>\n",
       "      <td>299</td>\n",
       "      <td>Harry Potter and the Chamber of Secrets (Harry...</td>\n",
       "      <td>4.29</td>\n",
       "      <td>6</td>\n",
       "    </tr>\n",
       "    <tr>\n",
       "      <th>3</th>\n",
       "      <td>656</td>\n",
       "      <td>The Book Thief</td>\n",
       "      <td>4.26</td>\n",
       "      <td>6</td>\n",
       "    </tr>\n",
       "    <tr>\n",
       "      <th>4</th>\n",
       "      <td>734</td>\n",
       "      <td>The Glass Castle</td>\n",
       "      <td>4.21</td>\n",
       "      <td>6</td>\n",
       "    </tr>\n",
       "    <tr>\n",
       "      <th>...</th>\n",
       "      <td>...</td>\n",
       "      <td>...</td>\n",
       "      <td>...</td>\n",
       "      <td>...</td>\n",
       "    </tr>\n",
       "    <tr>\n",
       "      <th>995</th>\n",
       "      <td>191</td>\n",
       "      <td>Disney's Beauty and the Beast (A Little Golden...</td>\n",
       "      <td>4.00</td>\n",
       "      <td>0</td>\n",
       "    </tr>\n",
       "    <tr>\n",
       "      <th>996</th>\n",
       "      <td>387</td>\n",
       "      <td>Leonardo's Notebooks</td>\n",
       "      <td>4.00</td>\n",
       "      <td>0</td>\n",
       "    </tr>\n",
       "    <tr>\n",
       "      <th>997</th>\n",
       "      <td>221</td>\n",
       "      <td>Essential Tales and Poems</td>\n",
       "      <td>4.00</td>\n",
       "      <td>0</td>\n",
       "    </tr>\n",
       "    <tr>\n",
       "      <th>998</th>\n",
       "      <td>83</td>\n",
       "      <td>Anne Rice's The Vampire Lestat: A Graphic Novel</td>\n",
       "      <td>3.67</td>\n",
       "      <td>0</td>\n",
       "    </tr>\n",
       "    <tr>\n",
       "      <th>999</th>\n",
       "      <td>808</td>\n",
       "      <td>The Natural Way to Draw</td>\n",
       "      <td>3.00</td>\n",
       "      <td>0</td>\n",
       "    </tr>\n",
       "  </tbody>\n",
       "</table>\n",
       "<p>1000 rows × 4 columns</p>\n",
       "</div>"
      ],
      "text/plain": [
       "     book_id                                              title  round  count\n",
       "0        948                            Twilight (Twilight  #1)   3.66      7\n",
       "1        302  Harry Potter and the Prisoner of Azkaban (Harr...   4.41      6\n",
       "2        299  Harry Potter and the Chamber of Secrets (Harry...   4.29      6\n",
       "3        656                                     The Book Thief   4.26      6\n",
       "4        734                                   The Glass Castle   4.21      6\n",
       "..       ...                                                ...    ...    ...\n",
       "995      191  Disney's Beauty and the Beast (A Little Golden...   4.00      0\n",
       "996      387                               Leonardo's Notebooks   4.00      0\n",
       "997      221                          Essential Tales and Poems   4.00      0\n",
       "998       83    Anne Rice's The Vampire Lestat: A Graphic Novel   3.67      0\n",
       "999      808                            The Natural Way to Draw   3.00      0\n",
       "\n",
       "[1000 rows x 4 columns]"
      ]
     },
     "execution_count": 9,
     "metadata": {},
     "output_type": "execute_result"
    }
   ],
   "source": [
    "#Для каждой книги посчитайте количество обзоров и среднюю оценку;\n",
    "query= ('''\n",
    "select book_id, title, round(avg(rating),2), count(distinct review_id)\n",
    "from books \n",
    "left join ratings ra using(book_id)\n",
    "left join reviews re using(book_id)\n",
    "group by 1\n",
    "order by 4 desc,3 desc \n",
    "''')\n",
    "pd.io.sql.read_sql(query, con = engine)"
   ]
  },
  {
   "cell_type": "code",
   "execution_count": 10,
   "metadata": {},
   "outputs": [
    {
     "data": {
      "text/html": [
       "<div>\n",
       "<style scoped>\n",
       "    .dataframe tbody tr th:only-of-type {\n",
       "        vertical-align: middle;\n",
       "    }\n",
       "\n",
       "    .dataframe tbody tr th {\n",
       "        vertical-align: top;\n",
       "    }\n",
       "\n",
       "    .dataframe thead th {\n",
       "        text-align: right;\n",
       "    }\n",
       "</style>\n",
       "<table border=\"1\" class=\"dataframe\">\n",
       "  <thead>\n",
       "    <tr style=\"text-align: right;\">\n",
       "      <th></th>\n",
       "      <th>publisher</th>\n",
       "      <th>number_of_books</th>\n",
       "    </tr>\n",
       "  </thead>\n",
       "  <tbody>\n",
       "    <tr>\n",
       "      <th>0</th>\n",
       "      <td>Penguin Books</td>\n",
       "      <td>42</td>\n",
       "    </tr>\n",
       "  </tbody>\n",
       "</table>\n",
       "</div>"
      ],
      "text/plain": [
       "       publisher  number_of_books\n",
       "0  Penguin Books               42"
      ]
     },
     "execution_count": 10,
     "metadata": {},
     "output_type": "execute_result"
    }
   ],
   "source": [
    "#Определите издательство, которое выпустило наибольшее число книг толще 50 страниц — так вы исключите из анализа брошюры;\n",
    "query= ('''\n",
    "select publisher, count(book_id) as number_of_books\n",
    "from publishers\n",
    "inner join books using(publisher_id)\n",
    "where num_pages>50\n",
    "group by 1\n",
    "having count(book_id)=(select count(book_id)\n",
    "                            from books\n",
    "                            group by publisher_id\n",
    "                            order by 1 desc\n",
    "                            limit 1)\n",
    "''')\n",
    "pd.io.sql.read_sql(query, con = engine)"
   ]
  },
  {
   "cell_type": "code",
   "execution_count": 14,
   "metadata": {},
   "outputs": [
    {
     "data": {
      "text/html": [
       "<div>\n",
       "<style scoped>\n",
       "    .dataframe tbody tr th:only-of-type {\n",
       "        vertical-align: middle;\n",
       "    }\n",
       "\n",
       "    .dataframe tbody tr th {\n",
       "        vertical-align: top;\n",
       "    }\n",
       "\n",
       "    .dataframe thead th {\n",
       "        text-align: right;\n",
       "    }\n",
       "</style>\n",
       "<table border=\"1\" class=\"dataframe\">\n",
       "  <thead>\n",
       "    <tr style=\"text-align: right;\">\n",
       "      <th></th>\n",
       "      <th>author</th>\n",
       "      <th>rating</th>\n",
       "    </tr>\n",
       "  </thead>\n",
       "  <tbody>\n",
       "    <tr>\n",
       "      <th>0</th>\n",
       "      <td>J.K. Rowling/Mary GrandPré</td>\n",
       "      <td>4.29</td>\n",
       "    </tr>\n",
       "  </tbody>\n",
       "</table>\n",
       "</div>"
      ],
      "text/plain": [
       "                       author  rating\n",
       "0  J.K. Rowling/Mary GrandPré    4.29"
      ]
     },
     "execution_count": 14,
     "metadata": {},
     "output_type": "execute_result"
    }
   ],
   "source": [
    "query= (''' select author, round(avg(rating),2) as rating\n",
    "from authors inner join books using(author_id)\n",
    "inner join ratings ra using(book_id)\n",
    "where book_id in\n",
    "        (select book_id\n",
    "        from books inner join ratings ra using(book_id)\n",
    "        group by 1\n",
    "        having count(rating_id)>=50)\n",
    "group by 1 \n",
    "order by 2 desc\n",
    "limit 1\n",
    "                            ''')\n",
    "pd.io.sql.read_sql(query, con = engine)"
   ]
  },
  {
   "cell_type": "code",
   "execution_count": 12,
   "metadata": {},
   "outputs": [
    {
     "data": {
      "text/html": [
       "<div>\n",
       "<style scoped>\n",
       "    .dataframe tbody tr th:only-of-type {\n",
       "        vertical-align: middle;\n",
       "    }\n",
       "\n",
       "    .dataframe tbody tr th {\n",
       "        vertical-align: top;\n",
       "    }\n",
       "\n",
       "    .dataframe thead th {\n",
       "        text-align: right;\n",
       "    }\n",
       "</style>\n",
       "<table border=\"1\" class=\"dataframe\">\n",
       "  <thead>\n",
       "    <tr style=\"text-align: right;\">\n",
       "      <th></th>\n",
       "      <th>average_reviews_number</th>\n",
       "    </tr>\n",
       "  </thead>\n",
       "  <tbody>\n",
       "    <tr>\n",
       "      <th>0</th>\n",
       "      <td>24.0</td>\n",
       "    </tr>\n",
       "  </tbody>\n",
       "</table>\n",
       "</div>"
      ],
      "text/plain": [
       "   average_reviews_number\n",
       "0                    24.0"
      ]
     },
     "execution_count": 12,
     "metadata": {},
     "output_type": "execute_result"
    }
   ],
   "source": [
    "#Посчитайте среднее количество обзоров от пользователей, которые поставили больше 50 оценок.\n",
    "query= ('''\n",
    "\n",
    "select round(avg(reviews_number)) average_reviews_number from \n",
    "    (select r.username, count(review_id) as reviews_number\n",
    "        from (select username, count(rating_id)\n",
    "        from ratings\n",
    "        group by 1\n",
    "        having count(rating_id)>50) r\n",
    "    inner join reviews using(username)\n",
    "    group by 1) q1\n",
    "\n",
    "\n",
    "\n",
    "                            ''')\n",
    "pd.io.sql.read_sql(query, con = engine)"
   ]
  },
  {
   "cell_type": "markdown",
   "metadata": {},
   "source": [
    "## Вывод:"
   ]
  },
  {
   "cell_type": "markdown",
   "metadata": {},
   "source": [
    "после 1 января 2000 года вышло 819 книг.\n",
    "\n",
    "книги, с самым большим количеством обзоров:\n",
    "\n",
    "- Twilight (Twilight #1) - 7\n",
    "- Harry Potter and the Prisoner of Azkaban 6\n",
    "- Harry Potter and the Chamber of Secrets 6 \n",
    "- The Book Thief\t6\n",
    "- The Glass Castle\t6\n",
    "\n",
    "Эти книги можно считать самимыи популярными.\n",
    "\n",
    "издательство, которое выпустило наибольшее число книг толще 50 страниц - Penguin Books\n",
    "\n",
    "автор с самой высокой средней оценкой книг - J.K. Rowling/Mary GrandPré\n",
    "\n",
    "среднее количество обзоров от пользователей, которые поставили больше 50 оценок - 24\n",
    "\n",
    "**Ценностное предложение для нового продукта:**\n",
    "\n",
    "исходя из анализа информации о книгах, издательствах, авторах, а также пользовательские обзоры книг, можно вывести то, что новое приложение для тех, кто любит читать, должно обязательно содержать книги, которые попадают в топ рейтинга по количеству отзывов и по оценкам (учесть авторов с самой выосокой оценкой книг (один из таких авторов - J.K. Rowling/Mary GrandPré). Опираться на изательства, выпускающие наибольшее количество книг (одно из них - Penguin Books). Это приложение может служить как онлайн библиотекой, так и мобильной версией для скачивания книг и чтения в оффлайн режиме. \n",
    "С другой стороны, это может быть не только библиотекой, но и игрой, созданной по мотивам одной из книг самого высокооцениваниемого автора (J.K. Rowling/Mary GrandPré), что будет являться не менее интересным предложением для книжных фанатов, которые будут готовы погрузиться в игровую атмосферу , созданную по мотивам книг(и) люимого автора.\n",
    "\n"
   ]
  }
 ],
 "metadata": {
  "ExecuteTimeLog": [
   {
    "duration": 12918,
    "start_time": "2023-04-05T10:45:40.737Z"
   },
   {
    "duration": 263,
    "start_time": "2023-04-05T10:46:00.296Z"
   },
   {
    "duration": 85,
    "start_time": "2023-04-05T10:46:12.470Z"
   },
   {
    "duration": 78,
    "start_time": "2023-04-05T10:46:25.531Z"
   },
   {
    "duration": 73,
    "start_time": "2023-04-05T10:46:36.310Z"
   },
   {
    "duration": 75,
    "start_time": "2023-04-05T10:46:46.840Z"
   },
   {
    "duration": 75,
    "start_time": "2023-04-05T10:46:59.577Z"
   },
   {
    "duration": 113,
    "start_time": "2023-04-05T10:47:41.646Z"
   },
   {
    "duration": 73,
    "start_time": "2023-04-05T10:47:59.314Z"
   },
   {
    "duration": 80,
    "start_time": "2023-04-05T10:48:18.619Z"
   },
   {
    "duration": 77,
    "start_time": "2023-04-05T10:48:45.926Z"
   },
   {
    "duration": 13596,
    "start_time": "2023-04-05T19:49:59.371Z"
   },
   {
    "duration": 64,
    "start_time": "2023-04-05T19:50:12.972Z"
   },
   {
    "duration": 12,
    "start_time": "2023-04-05T19:50:13.038Z"
   },
   {
    "duration": 30,
    "start_time": "2023-04-05T19:50:13.052Z"
   },
   {
    "duration": 13,
    "start_time": "2023-04-05T19:50:13.086Z"
   },
   {
    "duration": 12,
    "start_time": "2023-04-05T19:50:13.101Z"
   },
   {
    "duration": 13,
    "start_time": "2023-04-05T19:50:13.115Z"
   },
   {
    "duration": 36,
    "start_time": "2023-04-05T19:50:13.129Z"
   },
   {
    "duration": 23,
    "start_time": "2023-04-05T19:50:13.167Z"
   },
   {
    "duration": 17,
    "start_time": "2023-04-05T19:50:13.192Z"
   },
   {
    "duration": 13,
    "start_time": "2023-04-05T19:50:13.211Z"
   },
   {
    "duration": 21,
    "start_time": "2023-04-05T20:06:29.620Z"
   },
   {
    "duration": 20,
    "start_time": "2023-04-05T20:06:31.097Z"
   },
   {
    "duration": 548,
    "start_time": "2023-04-06T07:19:01.028Z"
   },
   {
    "duration": 3,
    "start_time": "2023-04-06T07:20:30.799Z"
   },
   {
    "duration": 309,
    "start_time": "2023-04-06T07:20:46.332Z"
   },
   {
    "duration": 74,
    "start_time": "2023-04-06T07:21:47.285Z"
   },
   {
    "duration": 73,
    "start_time": "2023-04-06T07:22:05.256Z"
   },
   {
    "duration": 240,
    "start_time": "2023-04-06T07:23:38.210Z"
   },
   {
    "duration": 100,
    "start_time": "2023-04-06T07:23:46.219Z"
   },
   {
    "duration": 100,
    "start_time": "2023-04-06T07:24:14.061Z"
   },
   {
    "duration": 102,
    "start_time": "2023-04-06T07:24:23.837Z"
   },
   {
    "duration": 80,
    "start_time": "2023-04-06T07:26:48.272Z"
   },
   {
    "duration": 107,
    "start_time": "2023-04-06T07:31:47.989Z"
   },
   {
    "duration": 105,
    "start_time": "2023-04-06T07:33:41.801Z"
   },
   {
    "duration": 110,
    "start_time": "2023-04-06T07:34:30.963Z"
   },
   {
    "duration": 252,
    "start_time": "2023-04-06T07:40:21.862Z"
   },
   {
    "duration": 76,
    "start_time": "2023-04-06T07:40:50.623Z"
   },
   {
    "duration": 76,
    "start_time": "2023-04-06T07:46:42.187Z"
   },
   {
    "duration": 51,
    "start_time": "2023-04-06T07:49:26.631Z"
   },
   {
    "duration": 464,
    "start_time": "2023-04-06T07:49:29.903Z"
   },
   {
    "duration": 12880,
    "start_time": "2023-04-06T07:49:30.368Z"
   },
   {
    "duration": 290,
    "start_time": "2023-04-06T07:49:43.250Z"
   },
   {
    "duration": 73,
    "start_time": "2023-04-06T07:49:43.543Z"
   },
   {
    "duration": 73,
    "start_time": "2023-04-06T07:49:43.618Z"
   },
   {
    "duration": 73,
    "start_time": "2023-04-06T07:49:43.693Z"
   },
   {
    "duration": 71,
    "start_time": "2023-04-06T07:49:43.767Z"
   },
   {
    "duration": 71,
    "start_time": "2023-04-06T07:49:43.840Z"
   },
   {
    "duration": 673,
    "start_time": "2023-04-06T07:49:43.912Z"
   },
   {
    "duration": 74,
    "start_time": "2023-04-06T07:49:44.588Z"
   },
   {
    "duration": 76,
    "start_time": "2023-04-06T07:49:44.664Z"
   },
   {
    "duration": 74,
    "start_time": "2023-04-06T07:49:44.742Z"
   },
   {
    "duration": 207,
    "start_time": "2023-04-06T07:49:44.818Z"
   },
   {
    "duration": 0,
    "start_time": "2023-04-06T07:49:45.034Z"
   },
   {
    "duration": 218,
    "start_time": "2023-04-06T07:50:05.301Z"
   },
   {
    "duration": 228,
    "start_time": "2023-04-06T07:50:15.148Z"
   },
   {
    "duration": 75,
    "start_time": "2023-04-06T07:51:30.316Z"
   },
   {
    "duration": 75,
    "start_time": "2023-04-06T07:53:07.379Z"
   },
   {
    "duration": 78,
    "start_time": "2023-04-06T07:53:14.570Z"
   },
   {
    "duration": 499,
    "start_time": "2023-04-06T16:55:28.743Z"
   },
   {
    "duration": 40873,
    "start_time": "2023-04-06T16:55:29.245Z"
   },
   {
    "duration": 49,
    "start_time": "2023-04-06T16:56:10.120Z"
   },
   {
    "duration": 10,
    "start_time": "2023-04-06T16:56:10.172Z"
   },
   {
    "duration": 14,
    "start_time": "2023-04-06T16:56:10.184Z"
   },
   {
    "duration": 15,
    "start_time": "2023-04-06T16:56:10.200Z"
   },
   {
    "duration": 11,
    "start_time": "2023-04-06T16:56:10.217Z"
   },
   {
    "duration": 9,
    "start_time": "2023-04-06T16:56:10.229Z"
   },
   {
    "duration": 57,
    "start_time": "2023-04-06T16:56:10.239Z"
   },
   {
    "duration": 13,
    "start_time": "2023-04-06T16:56:10.300Z"
   },
   {
    "duration": 14,
    "start_time": "2023-04-06T16:56:10.315Z"
   },
   {
    "duration": 12,
    "start_time": "2023-04-06T16:56:10.331Z"
   },
   {
    "duration": 19,
    "start_time": "2023-04-06T16:57:01.006Z"
   },
   {
    "duration": 16,
    "start_time": "2023-04-06T16:57:03.543Z"
   }
  ],
  "kernelspec": {
   "display_name": "Python 3 (ipykernel)",
   "language": "python",
   "name": "python3"
  },
  "language_info": {
   "codemirror_mode": {
    "name": "ipython",
    "version": 3
   },
   "file_extension": ".py",
   "mimetype": "text/x-python",
   "name": "python",
   "nbconvert_exporter": "python",
   "pygments_lexer": "ipython3",
   "version": "3.9.5"
  },
  "toc": {
   "base_numbering": 1,
   "nav_menu": {},
   "number_sections": true,
   "sideBar": true,
   "skip_h1_title": true,
   "title_cell": "Table of Contents",
   "title_sidebar": "Contents",
   "toc_cell": false,
   "toc_position": {},
   "toc_section_display": true,
   "toc_window_display": false
  }
 },
 "nbformat": 4,
 "nbformat_minor": 2
}
