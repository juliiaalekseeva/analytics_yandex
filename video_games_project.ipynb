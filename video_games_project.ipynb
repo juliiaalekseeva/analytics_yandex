{
 "cells": [
  {
   "cell_type": "markdown",
   "metadata": {},
   "source": [
    "**Проект \"Интернет-магазин компьютерных игр\"**"
   ]
  },
  {
   "cell_type": "markdown",
   "metadata": {},
   "source": [
    "*Цель проекта: выявить определяющие успешность игры закономерности. Найти потенциально популярный продукт, чтобы спланировать рекламные кампании. \n",
    "\n",
    "План исследования: на основании входных данных о играх, годами из релиза, платформах, количества продаж в разных регионах и оценок критиков и пользователей выделить портреты пользователей по регионам, посмотреть влияет ли рейтинг игр и их оценки на количество продаж в определенном регионе, найти 1-2 платформы, на которых потенциально можно выпускаь прибыльные игры и определить их жанр, рейтинг ESRB и в каком регионе рекламировать. Проверить гипотезы о равенстве средних рейтингов игр по разным платформам и жанрам*"
   ]
  },
  {
   "cell_type": "code",
   "execution_count": 1,
   "metadata": {},
   "outputs": [],
   "source": [
    "#импортируем библиотеки\n",
    "import pandas as pd\n",
    "import numpy as np\n",
    "import matplotlib.pyplot as plt"
   ]
  },
  {
   "cell_type": "code",
   "execution_count": 2,
   "metadata": {},
   "outputs": [
    {
     "data": {
      "text/html": [
       "<div>\n",
       "<style scoped>\n",
       "    .dataframe tbody tr th:only-of-type {\n",
       "        vertical-align: middle;\n",
       "    }\n",
       "\n",
       "    .dataframe tbody tr th {\n",
       "        vertical-align: top;\n",
       "    }\n",
       "\n",
       "    .dataframe thead th {\n",
       "        text-align: right;\n",
       "    }\n",
       "</style>\n",
       "<table border=\"1\" class=\"dataframe\">\n",
       "  <thead>\n",
       "    <tr style=\"text-align: right;\">\n",
       "      <th></th>\n",
       "      <th>Name</th>\n",
       "      <th>Platform</th>\n",
       "      <th>Year_of_Release</th>\n",
       "      <th>Genre</th>\n",
       "      <th>NA_sales</th>\n",
       "      <th>EU_sales</th>\n",
       "      <th>JP_sales</th>\n",
       "      <th>Other_sales</th>\n",
       "      <th>Critic_Score</th>\n",
       "      <th>User_Score</th>\n",
       "      <th>Rating</th>\n",
       "    </tr>\n",
       "  </thead>\n",
       "  <tbody>\n",
       "    <tr>\n",
       "      <th>0</th>\n",
       "      <td>Wii Sports</td>\n",
       "      <td>Wii</td>\n",
       "      <td>2006.0</td>\n",
       "      <td>Sports</td>\n",
       "      <td>41.36</td>\n",
       "      <td>28.96</td>\n",
       "      <td>3.77</td>\n",
       "      <td>8.45</td>\n",
       "      <td>76.0</td>\n",
       "      <td>8</td>\n",
       "      <td>E</td>\n",
       "    </tr>\n",
       "    <tr>\n",
       "      <th>1</th>\n",
       "      <td>Super Mario Bros.</td>\n",
       "      <td>NES</td>\n",
       "      <td>1985.0</td>\n",
       "      <td>Platform</td>\n",
       "      <td>29.08</td>\n",
       "      <td>3.58</td>\n",
       "      <td>6.81</td>\n",
       "      <td>0.77</td>\n",
       "      <td>NaN</td>\n",
       "      <td>NaN</td>\n",
       "      <td>NaN</td>\n",
       "    </tr>\n",
       "    <tr>\n",
       "      <th>2</th>\n",
       "      <td>Mario Kart Wii</td>\n",
       "      <td>Wii</td>\n",
       "      <td>2008.0</td>\n",
       "      <td>Racing</td>\n",
       "      <td>15.68</td>\n",
       "      <td>12.76</td>\n",
       "      <td>3.79</td>\n",
       "      <td>3.29</td>\n",
       "      <td>82.0</td>\n",
       "      <td>8.3</td>\n",
       "      <td>E</td>\n",
       "    </tr>\n",
       "    <tr>\n",
       "      <th>3</th>\n",
       "      <td>Wii Sports Resort</td>\n",
       "      <td>Wii</td>\n",
       "      <td>2009.0</td>\n",
       "      <td>Sports</td>\n",
       "      <td>15.61</td>\n",
       "      <td>10.93</td>\n",
       "      <td>3.28</td>\n",
       "      <td>2.95</td>\n",
       "      <td>80.0</td>\n",
       "      <td>8</td>\n",
       "      <td>E</td>\n",
       "    </tr>\n",
       "    <tr>\n",
       "      <th>4</th>\n",
       "      <td>Pokemon Red/Pokemon Blue</td>\n",
       "      <td>GB</td>\n",
       "      <td>1996.0</td>\n",
       "      <td>Role-Playing</td>\n",
       "      <td>11.27</td>\n",
       "      <td>8.89</td>\n",
       "      <td>10.22</td>\n",
       "      <td>1.00</td>\n",
       "      <td>NaN</td>\n",
       "      <td>NaN</td>\n",
       "      <td>NaN</td>\n",
       "    </tr>\n",
       "    <tr>\n",
       "      <th>5</th>\n",
       "      <td>Tetris</td>\n",
       "      <td>GB</td>\n",
       "      <td>1989.0</td>\n",
       "      <td>Puzzle</td>\n",
       "      <td>23.20</td>\n",
       "      <td>2.26</td>\n",
       "      <td>4.22</td>\n",
       "      <td>0.58</td>\n",
       "      <td>NaN</td>\n",
       "      <td>NaN</td>\n",
       "      <td>NaN</td>\n",
       "    </tr>\n",
       "    <tr>\n",
       "      <th>6</th>\n",
       "      <td>New Super Mario Bros.</td>\n",
       "      <td>DS</td>\n",
       "      <td>2006.0</td>\n",
       "      <td>Platform</td>\n",
       "      <td>11.28</td>\n",
       "      <td>9.14</td>\n",
       "      <td>6.50</td>\n",
       "      <td>2.88</td>\n",
       "      <td>89.0</td>\n",
       "      <td>8.5</td>\n",
       "      <td>E</td>\n",
       "    </tr>\n",
       "    <tr>\n",
       "      <th>7</th>\n",
       "      <td>Wii Play</td>\n",
       "      <td>Wii</td>\n",
       "      <td>2006.0</td>\n",
       "      <td>Misc</td>\n",
       "      <td>13.96</td>\n",
       "      <td>9.18</td>\n",
       "      <td>2.93</td>\n",
       "      <td>2.84</td>\n",
       "      <td>58.0</td>\n",
       "      <td>6.6</td>\n",
       "      <td>E</td>\n",
       "    </tr>\n",
       "    <tr>\n",
       "      <th>8</th>\n",
       "      <td>New Super Mario Bros. Wii</td>\n",
       "      <td>Wii</td>\n",
       "      <td>2009.0</td>\n",
       "      <td>Platform</td>\n",
       "      <td>14.44</td>\n",
       "      <td>6.94</td>\n",
       "      <td>4.70</td>\n",
       "      <td>2.24</td>\n",
       "      <td>87.0</td>\n",
       "      <td>8.4</td>\n",
       "      <td>E</td>\n",
       "    </tr>\n",
       "    <tr>\n",
       "      <th>9</th>\n",
       "      <td>Duck Hunt</td>\n",
       "      <td>NES</td>\n",
       "      <td>1984.0</td>\n",
       "      <td>Shooter</td>\n",
       "      <td>26.93</td>\n",
       "      <td>0.63</td>\n",
       "      <td>0.28</td>\n",
       "      <td>0.47</td>\n",
       "      <td>NaN</td>\n",
       "      <td>NaN</td>\n",
       "      <td>NaN</td>\n",
       "    </tr>\n",
       "    <tr>\n",
       "      <th>10</th>\n",
       "      <td>Nintendogs</td>\n",
       "      <td>DS</td>\n",
       "      <td>2005.0</td>\n",
       "      <td>Simulation</td>\n",
       "      <td>9.05</td>\n",
       "      <td>10.95</td>\n",
       "      <td>1.93</td>\n",
       "      <td>2.74</td>\n",
       "      <td>NaN</td>\n",
       "      <td>NaN</td>\n",
       "      <td>NaN</td>\n",
       "    </tr>\n",
       "    <tr>\n",
       "      <th>11</th>\n",
       "      <td>Mario Kart DS</td>\n",
       "      <td>DS</td>\n",
       "      <td>2005.0</td>\n",
       "      <td>Racing</td>\n",
       "      <td>9.71</td>\n",
       "      <td>7.47</td>\n",
       "      <td>4.13</td>\n",
       "      <td>1.90</td>\n",
       "      <td>91.0</td>\n",
       "      <td>8.6</td>\n",
       "      <td>E</td>\n",
       "    </tr>\n",
       "    <tr>\n",
       "      <th>12</th>\n",
       "      <td>Pokemon Gold/Pokemon Silver</td>\n",
       "      <td>GB</td>\n",
       "      <td>1999.0</td>\n",
       "      <td>Role-Playing</td>\n",
       "      <td>9.00</td>\n",
       "      <td>6.18</td>\n",
       "      <td>7.20</td>\n",
       "      <td>0.71</td>\n",
       "      <td>NaN</td>\n",
       "      <td>NaN</td>\n",
       "      <td>NaN</td>\n",
       "    </tr>\n",
       "    <tr>\n",
       "      <th>13</th>\n",
       "      <td>Wii Fit</td>\n",
       "      <td>Wii</td>\n",
       "      <td>2007.0</td>\n",
       "      <td>Sports</td>\n",
       "      <td>8.92</td>\n",
       "      <td>8.03</td>\n",
       "      <td>3.60</td>\n",
       "      <td>2.15</td>\n",
       "      <td>80.0</td>\n",
       "      <td>7.7</td>\n",
       "      <td>E</td>\n",
       "    </tr>\n",
       "    <tr>\n",
       "      <th>14</th>\n",
       "      <td>Kinect Adventures!</td>\n",
       "      <td>X360</td>\n",
       "      <td>2010.0</td>\n",
       "      <td>Misc</td>\n",
       "      <td>15.00</td>\n",
       "      <td>4.89</td>\n",
       "      <td>0.24</td>\n",
       "      <td>1.69</td>\n",
       "      <td>61.0</td>\n",
       "      <td>6.3</td>\n",
       "      <td>E</td>\n",
       "    </tr>\n",
       "    <tr>\n",
       "      <th>15</th>\n",
       "      <td>Wii Fit Plus</td>\n",
       "      <td>Wii</td>\n",
       "      <td>2009.0</td>\n",
       "      <td>Sports</td>\n",
       "      <td>9.01</td>\n",
       "      <td>8.49</td>\n",
       "      <td>2.53</td>\n",
       "      <td>1.77</td>\n",
       "      <td>80.0</td>\n",
       "      <td>7.4</td>\n",
       "      <td>E</td>\n",
       "    </tr>\n",
       "    <tr>\n",
       "      <th>16</th>\n",
       "      <td>Grand Theft Auto V</td>\n",
       "      <td>PS3</td>\n",
       "      <td>2013.0</td>\n",
       "      <td>Action</td>\n",
       "      <td>7.02</td>\n",
       "      <td>9.09</td>\n",
       "      <td>0.98</td>\n",
       "      <td>3.96</td>\n",
       "      <td>97.0</td>\n",
       "      <td>8.2</td>\n",
       "      <td>M</td>\n",
       "    </tr>\n",
       "    <tr>\n",
       "      <th>17</th>\n",
       "      <td>Grand Theft Auto: San Andreas</td>\n",
       "      <td>PS2</td>\n",
       "      <td>2004.0</td>\n",
       "      <td>Action</td>\n",
       "      <td>9.43</td>\n",
       "      <td>0.40</td>\n",
       "      <td>0.41</td>\n",
       "      <td>10.57</td>\n",
       "      <td>95.0</td>\n",
       "      <td>9</td>\n",
       "      <td>M</td>\n",
       "    </tr>\n",
       "    <tr>\n",
       "      <th>18</th>\n",
       "      <td>Super Mario World</td>\n",
       "      <td>SNES</td>\n",
       "      <td>1990.0</td>\n",
       "      <td>Platform</td>\n",
       "      <td>12.78</td>\n",
       "      <td>3.75</td>\n",
       "      <td>3.54</td>\n",
       "      <td>0.55</td>\n",
       "      <td>NaN</td>\n",
       "      <td>NaN</td>\n",
       "      <td>NaN</td>\n",
       "    </tr>\n",
       "    <tr>\n",
       "      <th>19</th>\n",
       "      <td>Brain Age: Train Your Brain in Minutes a Day</td>\n",
       "      <td>DS</td>\n",
       "      <td>2005.0</td>\n",
       "      <td>Misc</td>\n",
       "      <td>4.74</td>\n",
       "      <td>9.20</td>\n",
       "      <td>4.16</td>\n",
       "      <td>2.04</td>\n",
       "      <td>77.0</td>\n",
       "      <td>7.9</td>\n",
       "      <td>E</td>\n",
       "    </tr>\n",
       "    <tr>\n",
       "      <th>20</th>\n",
       "      <td>Pokemon Diamond/Pokemon Pearl</td>\n",
       "      <td>DS</td>\n",
       "      <td>2006.0</td>\n",
       "      <td>Role-Playing</td>\n",
       "      <td>6.38</td>\n",
       "      <td>4.46</td>\n",
       "      <td>6.04</td>\n",
       "      <td>1.36</td>\n",
       "      <td>NaN</td>\n",
       "      <td>NaN</td>\n",
       "      <td>NaN</td>\n",
       "    </tr>\n",
       "    <tr>\n",
       "      <th>21</th>\n",
       "      <td>Super Mario Land</td>\n",
       "      <td>GB</td>\n",
       "      <td>1989.0</td>\n",
       "      <td>Platform</td>\n",
       "      <td>10.83</td>\n",
       "      <td>2.71</td>\n",
       "      <td>4.18</td>\n",
       "      <td>0.42</td>\n",
       "      <td>NaN</td>\n",
       "      <td>NaN</td>\n",
       "      <td>NaN</td>\n",
       "    </tr>\n",
       "    <tr>\n",
       "      <th>22</th>\n",
       "      <td>Super Mario Bros. 3</td>\n",
       "      <td>NES</td>\n",
       "      <td>1988.0</td>\n",
       "      <td>Platform</td>\n",
       "      <td>9.54</td>\n",
       "      <td>3.44</td>\n",
       "      <td>3.84</td>\n",
       "      <td>0.46</td>\n",
       "      <td>NaN</td>\n",
       "      <td>NaN</td>\n",
       "      <td>NaN</td>\n",
       "    </tr>\n",
       "    <tr>\n",
       "      <th>23</th>\n",
       "      <td>Grand Theft Auto V</td>\n",
       "      <td>X360</td>\n",
       "      <td>2013.0</td>\n",
       "      <td>Action</td>\n",
       "      <td>9.66</td>\n",
       "      <td>5.14</td>\n",
       "      <td>0.06</td>\n",
       "      <td>1.41</td>\n",
       "      <td>97.0</td>\n",
       "      <td>8.1</td>\n",
       "      <td>M</td>\n",
       "    </tr>\n",
       "    <tr>\n",
       "      <th>24</th>\n",
       "      <td>Grand Theft Auto: Vice City</td>\n",
       "      <td>PS2</td>\n",
       "      <td>2002.0</td>\n",
       "      <td>Action</td>\n",
       "      <td>8.41</td>\n",
       "      <td>5.49</td>\n",
       "      <td>0.47</td>\n",
       "      <td>1.78</td>\n",
       "      <td>95.0</td>\n",
       "      <td>8.7</td>\n",
       "      <td>M</td>\n",
       "    </tr>\n",
       "    <tr>\n",
       "      <th>25</th>\n",
       "      <td>Pokemon Ruby/Pokemon Sapphire</td>\n",
       "      <td>GBA</td>\n",
       "      <td>2002.0</td>\n",
       "      <td>Role-Playing</td>\n",
       "      <td>6.06</td>\n",
       "      <td>3.90</td>\n",
       "      <td>5.38</td>\n",
       "      <td>0.50</td>\n",
       "      <td>NaN</td>\n",
       "      <td>NaN</td>\n",
       "      <td>NaN</td>\n",
       "    </tr>\n",
       "    <tr>\n",
       "      <th>26</th>\n",
       "      <td>Brain Age 2: More Training in Minutes a Day</td>\n",
       "      <td>DS</td>\n",
       "      <td>2005.0</td>\n",
       "      <td>Puzzle</td>\n",
       "      <td>3.43</td>\n",
       "      <td>5.35</td>\n",
       "      <td>5.32</td>\n",
       "      <td>1.18</td>\n",
       "      <td>77.0</td>\n",
       "      <td>7.1</td>\n",
       "      <td>E</td>\n",
       "    </tr>\n",
       "    <tr>\n",
       "      <th>27</th>\n",
       "      <td>Pokemon Black/Pokemon White</td>\n",
       "      <td>DS</td>\n",
       "      <td>2010.0</td>\n",
       "      <td>Role-Playing</td>\n",
       "      <td>5.51</td>\n",
       "      <td>3.17</td>\n",
       "      <td>5.65</td>\n",
       "      <td>0.80</td>\n",
       "      <td>NaN</td>\n",
       "      <td>NaN</td>\n",
       "      <td>NaN</td>\n",
       "    </tr>\n",
       "    <tr>\n",
       "      <th>28</th>\n",
       "      <td>Gran Turismo 3: A-Spec</td>\n",
       "      <td>PS2</td>\n",
       "      <td>2001.0</td>\n",
       "      <td>Racing</td>\n",
       "      <td>6.85</td>\n",
       "      <td>5.09</td>\n",
       "      <td>1.87</td>\n",
       "      <td>1.16</td>\n",
       "      <td>95.0</td>\n",
       "      <td>8.4</td>\n",
       "      <td>E</td>\n",
       "    </tr>\n",
       "    <tr>\n",
       "      <th>29</th>\n",
       "      <td>Call of Duty: Modern Warfare 3</td>\n",
       "      <td>X360</td>\n",
       "      <td>2011.0</td>\n",
       "      <td>Shooter</td>\n",
       "      <td>9.04</td>\n",
       "      <td>4.24</td>\n",
       "      <td>0.13</td>\n",
       "      <td>1.32</td>\n",
       "      <td>88.0</td>\n",
       "      <td>3.4</td>\n",
       "      <td>M</td>\n",
       "    </tr>\n",
       "  </tbody>\n",
       "</table>\n",
       "</div>"
      ],
      "text/plain": [
       "                                            Name Platform  Year_of_Release  \\\n",
       "0                                     Wii Sports      Wii           2006.0   \n",
       "1                              Super Mario Bros.      NES           1985.0   \n",
       "2                                 Mario Kart Wii      Wii           2008.0   \n",
       "3                              Wii Sports Resort      Wii           2009.0   \n",
       "4                       Pokemon Red/Pokemon Blue       GB           1996.0   \n",
       "5                                         Tetris       GB           1989.0   \n",
       "6                          New Super Mario Bros.       DS           2006.0   \n",
       "7                                       Wii Play      Wii           2006.0   \n",
       "8                      New Super Mario Bros. Wii      Wii           2009.0   \n",
       "9                                      Duck Hunt      NES           1984.0   \n",
       "10                                    Nintendogs       DS           2005.0   \n",
       "11                                 Mario Kart DS       DS           2005.0   \n",
       "12                   Pokemon Gold/Pokemon Silver       GB           1999.0   \n",
       "13                                       Wii Fit      Wii           2007.0   \n",
       "14                            Kinect Adventures!     X360           2010.0   \n",
       "15                                  Wii Fit Plus      Wii           2009.0   \n",
       "16                            Grand Theft Auto V      PS3           2013.0   \n",
       "17                 Grand Theft Auto: San Andreas      PS2           2004.0   \n",
       "18                             Super Mario World     SNES           1990.0   \n",
       "19  Brain Age: Train Your Brain in Minutes a Day       DS           2005.0   \n",
       "20                 Pokemon Diamond/Pokemon Pearl       DS           2006.0   \n",
       "21                              Super Mario Land       GB           1989.0   \n",
       "22                           Super Mario Bros. 3      NES           1988.0   \n",
       "23                            Grand Theft Auto V     X360           2013.0   \n",
       "24                   Grand Theft Auto: Vice City      PS2           2002.0   \n",
       "25                 Pokemon Ruby/Pokemon Sapphire      GBA           2002.0   \n",
       "26   Brain Age 2: More Training in Minutes a Day       DS           2005.0   \n",
       "27                   Pokemon Black/Pokemon White       DS           2010.0   \n",
       "28                        Gran Turismo 3: A-Spec      PS2           2001.0   \n",
       "29                Call of Duty: Modern Warfare 3     X360           2011.0   \n",
       "\n",
       "           Genre  NA_sales  EU_sales  JP_sales  Other_sales  Critic_Score  \\\n",
       "0         Sports     41.36     28.96      3.77         8.45          76.0   \n",
       "1       Platform     29.08      3.58      6.81         0.77           NaN   \n",
       "2         Racing     15.68     12.76      3.79         3.29          82.0   \n",
       "3         Sports     15.61     10.93      3.28         2.95          80.0   \n",
       "4   Role-Playing     11.27      8.89     10.22         1.00           NaN   \n",
       "5         Puzzle     23.20      2.26      4.22         0.58           NaN   \n",
       "6       Platform     11.28      9.14      6.50         2.88          89.0   \n",
       "7           Misc     13.96      9.18      2.93         2.84          58.0   \n",
       "8       Platform     14.44      6.94      4.70         2.24          87.0   \n",
       "9        Shooter     26.93      0.63      0.28         0.47           NaN   \n",
       "10    Simulation      9.05     10.95      1.93         2.74           NaN   \n",
       "11        Racing      9.71      7.47      4.13         1.90          91.0   \n",
       "12  Role-Playing      9.00      6.18      7.20         0.71           NaN   \n",
       "13        Sports      8.92      8.03      3.60         2.15          80.0   \n",
       "14          Misc     15.00      4.89      0.24         1.69          61.0   \n",
       "15        Sports      9.01      8.49      2.53         1.77          80.0   \n",
       "16        Action      7.02      9.09      0.98         3.96          97.0   \n",
       "17        Action      9.43      0.40      0.41        10.57          95.0   \n",
       "18      Platform     12.78      3.75      3.54         0.55           NaN   \n",
       "19          Misc      4.74      9.20      4.16         2.04          77.0   \n",
       "20  Role-Playing      6.38      4.46      6.04         1.36           NaN   \n",
       "21      Platform     10.83      2.71      4.18         0.42           NaN   \n",
       "22      Platform      9.54      3.44      3.84         0.46           NaN   \n",
       "23        Action      9.66      5.14      0.06         1.41          97.0   \n",
       "24        Action      8.41      5.49      0.47         1.78          95.0   \n",
       "25  Role-Playing      6.06      3.90      5.38         0.50           NaN   \n",
       "26        Puzzle      3.43      5.35      5.32         1.18          77.0   \n",
       "27  Role-Playing      5.51      3.17      5.65         0.80           NaN   \n",
       "28        Racing      6.85      5.09      1.87         1.16          95.0   \n",
       "29       Shooter      9.04      4.24      0.13         1.32          88.0   \n",
       "\n",
       "   User_Score Rating  \n",
       "0           8      E  \n",
       "1         NaN    NaN  \n",
       "2         8.3      E  \n",
       "3           8      E  \n",
       "4         NaN    NaN  \n",
       "5         NaN    NaN  \n",
       "6         8.5      E  \n",
       "7         6.6      E  \n",
       "8         8.4      E  \n",
       "9         NaN    NaN  \n",
       "10        NaN    NaN  \n",
       "11        8.6      E  \n",
       "12        NaN    NaN  \n",
       "13        7.7      E  \n",
       "14        6.3      E  \n",
       "15        7.4      E  \n",
       "16        8.2      M  \n",
       "17          9      M  \n",
       "18        NaN    NaN  \n",
       "19        7.9      E  \n",
       "20        NaN    NaN  \n",
       "21        NaN    NaN  \n",
       "22        NaN    NaN  \n",
       "23        8.1      M  \n",
       "24        8.7      M  \n",
       "25        NaN    NaN  \n",
       "26        7.1      E  \n",
       "27        NaN    NaN  \n",
       "28        8.4      E  \n",
       "29        3.4      M  "
      ]
     },
     "execution_count": 2,
     "metadata": {},
     "output_type": "execute_result"
    }
   ],
   "source": [
    "df=pd.read_csv('/datasets/games.csv')\n",
    "df.head(30)"
   ]
  },
  {
   "cell_type": "code",
   "execution_count": 3,
   "metadata": {},
   "outputs": [
    {
     "name": "stdout",
     "output_type": "stream",
     "text": [
      "<class 'pandas.core.frame.DataFrame'>\n",
      "RangeIndex: 16715 entries, 0 to 16714\n",
      "Data columns (total 11 columns):\n",
      " #   Column           Non-Null Count  Dtype  \n",
      "---  ------           --------------  -----  \n",
      " 0   Name             16713 non-null  object \n",
      " 1   Platform         16715 non-null  object \n",
      " 2   Year_of_Release  16446 non-null  float64\n",
      " 3   Genre            16713 non-null  object \n",
      " 4   NA_sales         16715 non-null  float64\n",
      " 5   EU_sales         16715 non-null  float64\n",
      " 6   JP_sales         16715 non-null  float64\n",
      " 7   Other_sales      16715 non-null  float64\n",
      " 8   Critic_Score     8137 non-null   float64\n",
      " 9   User_Score       10014 non-null  object \n",
      " 10  Rating           9949 non-null   object \n",
      "dtypes: float64(6), object(5)\n",
      "memory usage: 1.4+ MB\n"
     ]
    }
   ],
   "source": [
    "df.info()\n",
    "#year_of_release имеет тип данных float,нужно заменить на целочисленный\n",
    "#User_Score нужно заменить на float"
   ]
  },
  {
   "cell_type": "markdown",
   "metadata": {},
   "source": [
    "На первый взгляд все не так критично, -всего лишь изменить типы данных 2х столбцов"
   ]
  },
  {
   "cell_type": "markdown",
   "metadata": {},
   "source": [
    "**Обработка данных**"
   ]
  },
  {
   "cell_type": "code",
   "execution_count": 4,
   "metadata": {},
   "outputs": [],
   "source": [
    "#приведем к нижнему регистру\n",
    "df=df.rename(columns={'Name':'name','Platform':'platform','Year_of_Release':'year_of_release','Genre':'genre','NA_sales':'na_sales','EU_sales':'eu_sales','JP_sales':'jp_sales','Other_sales':'other_sales','Critic_Score':'critic_score','User_Score':'user_score','Rating':'rating'})"
   ]
  },
  {
   "cell_type": "code",
   "execution_count": 5,
   "metadata": {},
   "outputs": [
    {
     "data": {
      "text/plain": [
       "name                  2\n",
       "platform              0\n",
       "year_of_release     269\n",
       "genre                 2\n",
       "na_sales              0\n",
       "eu_sales              0\n",
       "jp_sales              0\n",
       "other_sales           0\n",
       "critic_score       8578\n",
       "user_score         6701\n",
       "rating             6766\n",
       "dtype: int64"
      ]
     },
     "execution_count": 5,
     "metadata": {},
     "output_type": "execute_result"
    }
   ],
   "source": [
    "df.isna().sum()\n",
    "#видим зависимость, что количество пропущенных данных в рейтинге зависит от пропущенных данных в оценке пользователей"
   ]
  },
  {
   "cell_type": "code",
   "execution_count": 6,
   "metadata": {},
   "outputs": [
    {
     "data": {
      "text/plain": [
       "name                  0\n",
       "platform              0\n",
       "year_of_release       0\n",
       "genre                 0\n",
       "na_sales              0\n",
       "eu_sales              0\n",
       "jp_sales              0\n",
       "other_sales           0\n",
       "critic_score       8461\n",
       "user_score         6605\n",
       "rating                0\n",
       "dtype: int64"
      ]
     },
     "execution_count": 6,
     "metadata": {},
     "output_type": "execute_result"
    }
   ],
   "source": [
    "df['rating']=df['rating'].fillna('unknown')\n",
    "df.dropna(subset = ['name', 'year_of_release', 'genre'], inplace = True)\n",
    "#если избавиться от пропущенных значений в этих столбцах, то они не повлияют на конечные результаты + их количество небольшое\n",
    "#чтобы привести к целочисленному типу данных по году, избавимся от пропущенных\n",
    "df.isna().sum()\n"
   ]
  },
  {
   "cell_type": "markdown",
   "metadata": {},
   "source": [
    "Если избавиться от пропущенных значений  в оценках путем замены на среднее или медиану при таком большом количестве пропущенных , можно исказить данные, тк рейтинг может быть как высокий, так и низкий"
   ]
  },
  {
   "cell_type": "code",
   "execution_count": 7,
   "metadata": {},
   "outputs": [
    {
     "data": {
      "text/html": [
       "<div>\n",
       "<style scoped>\n",
       "    .dataframe tbody tr th:only-of-type {\n",
       "        vertical-align: middle;\n",
       "    }\n",
       "\n",
       "    .dataframe tbody tr th {\n",
       "        vertical-align: top;\n",
       "    }\n",
       "\n",
       "    .dataframe thead th {\n",
       "        text-align: right;\n",
       "    }\n",
       "</style>\n",
       "<table border=\"1\" class=\"dataframe\">\n",
       "  <thead>\n",
       "    <tr style=\"text-align: right;\">\n",
       "      <th></th>\n",
       "      <th>name</th>\n",
       "      <th>platform</th>\n",
       "      <th>year_of_release</th>\n",
       "      <th>genre</th>\n",
       "      <th>na_sales</th>\n",
       "      <th>eu_sales</th>\n",
       "      <th>jp_sales</th>\n",
       "      <th>other_sales</th>\n",
       "      <th>critic_score</th>\n",
       "      <th>user_score</th>\n",
       "      <th>rating</th>\n",
       "    </tr>\n",
       "  </thead>\n",
       "  <tbody>\n",
       "    <tr>\n",
       "      <th>1</th>\n",
       "      <td>Super Mario Bros.</td>\n",
       "      <td>NES</td>\n",
       "      <td>1985.0</td>\n",
       "      <td>Platform</td>\n",
       "      <td>29.08</td>\n",
       "      <td>3.58</td>\n",
       "      <td>6.81</td>\n",
       "      <td>0.77</td>\n",
       "      <td>NaN</td>\n",
       "      <td>NaN</td>\n",
       "      <td>unknown</td>\n",
       "    </tr>\n",
       "    <tr>\n",
       "      <th>4</th>\n",
       "      <td>Pokemon Red/Pokemon Blue</td>\n",
       "      <td>GB</td>\n",
       "      <td>1996.0</td>\n",
       "      <td>Role-Playing</td>\n",
       "      <td>11.27</td>\n",
       "      <td>8.89</td>\n",
       "      <td>10.22</td>\n",
       "      <td>1.00</td>\n",
       "      <td>NaN</td>\n",
       "      <td>NaN</td>\n",
       "      <td>unknown</td>\n",
       "    </tr>\n",
       "    <tr>\n",
       "      <th>5</th>\n",
       "      <td>Tetris</td>\n",
       "      <td>GB</td>\n",
       "      <td>1989.0</td>\n",
       "      <td>Puzzle</td>\n",
       "      <td>23.20</td>\n",
       "      <td>2.26</td>\n",
       "      <td>4.22</td>\n",
       "      <td>0.58</td>\n",
       "      <td>NaN</td>\n",
       "      <td>NaN</td>\n",
       "      <td>unknown</td>\n",
       "    </tr>\n",
       "    <tr>\n",
       "      <th>9</th>\n",
       "      <td>Duck Hunt</td>\n",
       "      <td>NES</td>\n",
       "      <td>1984.0</td>\n",
       "      <td>Shooter</td>\n",
       "      <td>26.93</td>\n",
       "      <td>0.63</td>\n",
       "      <td>0.28</td>\n",
       "      <td>0.47</td>\n",
       "      <td>NaN</td>\n",
       "      <td>NaN</td>\n",
       "      <td>unknown</td>\n",
       "    </tr>\n",
       "    <tr>\n",
       "      <th>10</th>\n",
       "      <td>Nintendogs</td>\n",
       "      <td>DS</td>\n",
       "      <td>2005.0</td>\n",
       "      <td>Simulation</td>\n",
       "      <td>9.05</td>\n",
       "      <td>10.95</td>\n",
       "      <td>1.93</td>\n",
       "      <td>2.74</td>\n",
       "      <td>NaN</td>\n",
       "      <td>NaN</td>\n",
       "      <td>unknown</td>\n",
       "    </tr>\n",
       "    <tr>\n",
       "      <th>...</th>\n",
       "      <td>...</td>\n",
       "      <td>...</td>\n",
       "      <td>...</td>\n",
       "      <td>...</td>\n",
       "      <td>...</td>\n",
       "      <td>...</td>\n",
       "      <td>...</td>\n",
       "      <td>...</td>\n",
       "      <td>...</td>\n",
       "      <td>...</td>\n",
       "      <td>...</td>\n",
       "    </tr>\n",
       "    <tr>\n",
       "      <th>16710</th>\n",
       "      <td>Samurai Warriors: Sanada Maru</td>\n",
       "      <td>PS3</td>\n",
       "      <td>2016.0</td>\n",
       "      <td>Action</td>\n",
       "      <td>0.00</td>\n",
       "      <td>0.00</td>\n",
       "      <td>0.01</td>\n",
       "      <td>0.00</td>\n",
       "      <td>NaN</td>\n",
       "      <td>NaN</td>\n",
       "      <td>unknown</td>\n",
       "    </tr>\n",
       "    <tr>\n",
       "      <th>16711</th>\n",
       "      <td>LMA Manager 2007</td>\n",
       "      <td>X360</td>\n",
       "      <td>2006.0</td>\n",
       "      <td>Sports</td>\n",
       "      <td>0.00</td>\n",
       "      <td>0.01</td>\n",
       "      <td>0.00</td>\n",
       "      <td>0.00</td>\n",
       "      <td>NaN</td>\n",
       "      <td>NaN</td>\n",
       "      <td>unknown</td>\n",
       "    </tr>\n",
       "    <tr>\n",
       "      <th>16712</th>\n",
       "      <td>Haitaka no Psychedelica</td>\n",
       "      <td>PSV</td>\n",
       "      <td>2016.0</td>\n",
       "      <td>Adventure</td>\n",
       "      <td>0.00</td>\n",
       "      <td>0.00</td>\n",
       "      <td>0.01</td>\n",
       "      <td>0.00</td>\n",
       "      <td>NaN</td>\n",
       "      <td>NaN</td>\n",
       "      <td>unknown</td>\n",
       "    </tr>\n",
       "    <tr>\n",
       "      <th>16713</th>\n",
       "      <td>Spirits &amp; Spells</td>\n",
       "      <td>GBA</td>\n",
       "      <td>2003.0</td>\n",
       "      <td>Platform</td>\n",
       "      <td>0.01</td>\n",
       "      <td>0.00</td>\n",
       "      <td>0.00</td>\n",
       "      <td>0.00</td>\n",
       "      <td>NaN</td>\n",
       "      <td>NaN</td>\n",
       "      <td>unknown</td>\n",
       "    </tr>\n",
       "    <tr>\n",
       "      <th>16714</th>\n",
       "      <td>Winning Post 8 2016</td>\n",
       "      <td>PSV</td>\n",
       "      <td>2016.0</td>\n",
       "      <td>Simulation</td>\n",
       "      <td>0.00</td>\n",
       "      <td>0.00</td>\n",
       "      <td>0.01</td>\n",
       "      <td>0.00</td>\n",
       "      <td>NaN</td>\n",
       "      <td>NaN</td>\n",
       "      <td>unknown</td>\n",
       "    </tr>\n",
       "  </tbody>\n",
       "</table>\n",
       "<p>6676 rows × 11 columns</p>\n",
       "</div>"
      ],
      "text/plain": [
       "                                name platform  year_of_release         genre  \\\n",
       "1                  Super Mario Bros.      NES           1985.0      Platform   \n",
       "4           Pokemon Red/Pokemon Blue       GB           1996.0  Role-Playing   \n",
       "5                             Tetris       GB           1989.0        Puzzle   \n",
       "9                          Duck Hunt      NES           1984.0       Shooter   \n",
       "10                        Nintendogs       DS           2005.0    Simulation   \n",
       "...                              ...      ...              ...           ...   \n",
       "16710  Samurai Warriors: Sanada Maru      PS3           2016.0        Action   \n",
       "16711               LMA Manager 2007     X360           2006.0        Sports   \n",
       "16712        Haitaka no Psychedelica      PSV           2016.0     Adventure   \n",
       "16713               Spirits & Spells      GBA           2003.0      Platform   \n",
       "16714            Winning Post 8 2016      PSV           2016.0    Simulation   \n",
       "\n",
       "       na_sales  eu_sales  jp_sales  other_sales  critic_score user_score  \\\n",
       "1         29.08      3.58      6.81         0.77           NaN        NaN   \n",
       "4         11.27      8.89     10.22         1.00           NaN        NaN   \n",
       "5         23.20      2.26      4.22         0.58           NaN        NaN   \n",
       "9         26.93      0.63      0.28         0.47           NaN        NaN   \n",
       "10         9.05     10.95      1.93         2.74           NaN        NaN   \n",
       "...         ...       ...       ...          ...           ...        ...   \n",
       "16710      0.00      0.00      0.01         0.00           NaN        NaN   \n",
       "16711      0.00      0.01      0.00         0.00           NaN        NaN   \n",
       "16712      0.00      0.00      0.01         0.00           NaN        NaN   \n",
       "16713      0.01      0.00      0.00         0.00           NaN        NaN   \n",
       "16714      0.00      0.00      0.01         0.00           NaN        NaN   \n",
       "\n",
       "        rating  \n",
       "1      unknown  \n",
       "4      unknown  \n",
       "5      unknown  \n",
       "9      unknown  \n",
       "10     unknown  \n",
       "...        ...  \n",
       "16710  unknown  \n",
       "16711  unknown  \n",
       "16712  unknown  \n",
       "16713  unknown  \n",
       "16714  unknown  \n",
       "\n",
       "[6676 rows x 11 columns]"
      ]
     },
     "execution_count": 7,
     "metadata": {},
     "output_type": "execute_result"
    }
   ],
   "source": [
    "df.query('rating==\"unknown\"')\n",
    "#действительно, рейтинг неизвестен, когда неизвестны оценки, логично, но я хотела проверить гипотезу о том, что оценки неизвестны у более ранних игр- в данном случае сложно подтвердить эту гипотезу"
   ]
  },
  {
   "cell_type": "code",
   "execution_count": 8,
   "metadata": {},
   "outputs": [
    {
     "name": "stdout",
     "output_type": "stream",
     "text": [
      "2004.8834631515879\n",
      "2006.4862563853078\n"
     ]
    }
   ],
   "source": [
    "print(df.query('rating==\"unknown\"')['year_of_release'].mean())\n",
    "print(df['year_of_release'].mean())"
   ]
  },
  {
   "cell_type": "code",
   "execution_count": 9,
   "metadata": {},
   "outputs": [
    {
     "data": {
      "text/html": [
       "<div>\n",
       "<style scoped>\n",
       "    .dataframe tbody tr th:only-of-type {\n",
       "        vertical-align: middle;\n",
       "    }\n",
       "\n",
       "    .dataframe tbody tr th {\n",
       "        vertical-align: top;\n",
       "    }\n",
       "\n",
       "    .dataframe thead th {\n",
       "        text-align: right;\n",
       "    }\n",
       "</style>\n",
       "<table border=\"1\" class=\"dataframe\">\n",
       "  <thead>\n",
       "    <tr style=\"text-align: right;\">\n",
       "      <th></th>\n",
       "      <th>name</th>\n",
       "      <th>platform</th>\n",
       "      <th>year_of_release</th>\n",
       "      <th>genre</th>\n",
       "      <th>na_sales</th>\n",
       "      <th>eu_sales</th>\n",
       "      <th>jp_sales</th>\n",
       "      <th>other_sales</th>\n",
       "      <th>critic_score</th>\n",
       "      <th>user_score</th>\n",
       "      <th>rating</th>\n",
       "    </tr>\n",
       "  </thead>\n",
       "  <tbody>\n",
       "    <tr>\n",
       "      <th>119</th>\n",
       "      <td>Zumba Fitness</td>\n",
       "      <td>Wii</td>\n",
       "      <td>2010.0</td>\n",
       "      <td>Sports</td>\n",
       "      <td>3.45</td>\n",
       "      <td>2.59</td>\n",
       "      <td>0.0</td>\n",
       "      <td>0.66</td>\n",
       "      <td>NaN</td>\n",
       "      <td>tbd</td>\n",
       "      <td>E</td>\n",
       "    </tr>\n",
       "    <tr>\n",
       "      <th>301</th>\n",
       "      <td>Namco Museum: 50th Anniversary</td>\n",
       "      <td>PS2</td>\n",
       "      <td>2005.0</td>\n",
       "      <td>Misc</td>\n",
       "      <td>2.08</td>\n",
       "      <td>1.35</td>\n",
       "      <td>0.0</td>\n",
       "      <td>0.54</td>\n",
       "      <td>61.0</td>\n",
       "      <td>tbd</td>\n",
       "      <td>E10+</td>\n",
       "    </tr>\n",
       "    <tr>\n",
       "      <th>520</th>\n",
       "      <td>Zumba Fitness 2</td>\n",
       "      <td>Wii</td>\n",
       "      <td>2011.0</td>\n",
       "      <td>Sports</td>\n",
       "      <td>1.51</td>\n",
       "      <td>1.03</td>\n",
       "      <td>0.0</td>\n",
       "      <td>0.27</td>\n",
       "      <td>NaN</td>\n",
       "      <td>tbd</td>\n",
       "      <td>T</td>\n",
       "    </tr>\n",
       "    <tr>\n",
       "      <th>645</th>\n",
       "      <td>uDraw Studio</td>\n",
       "      <td>Wii</td>\n",
       "      <td>2010.0</td>\n",
       "      <td>Misc</td>\n",
       "      <td>1.65</td>\n",
       "      <td>0.57</td>\n",
       "      <td>0.0</td>\n",
       "      <td>0.20</td>\n",
       "      <td>71.0</td>\n",
       "      <td>tbd</td>\n",
       "      <td>E</td>\n",
       "    </tr>\n",
       "    <tr>\n",
       "      <th>718</th>\n",
       "      <td>Just Dance Kids</td>\n",
       "      <td>Wii</td>\n",
       "      <td>2010.0</td>\n",
       "      <td>Misc</td>\n",
       "      <td>1.52</td>\n",
       "      <td>0.54</td>\n",
       "      <td>0.0</td>\n",
       "      <td>0.18</td>\n",
       "      <td>NaN</td>\n",
       "      <td>tbd</td>\n",
       "      <td>E</td>\n",
       "    </tr>\n",
       "    <tr>\n",
       "      <th>...</th>\n",
       "      <td>...</td>\n",
       "      <td>...</td>\n",
       "      <td>...</td>\n",
       "      <td>...</td>\n",
       "      <td>...</td>\n",
       "      <td>...</td>\n",
       "      <td>...</td>\n",
       "      <td>...</td>\n",
       "      <td>...</td>\n",
       "      <td>...</td>\n",
       "      <td>...</td>\n",
       "    </tr>\n",
       "    <tr>\n",
       "      <th>16695</th>\n",
       "      <td>Planet Monsters</td>\n",
       "      <td>GBA</td>\n",
       "      <td>2001.0</td>\n",
       "      <td>Action</td>\n",
       "      <td>0.01</td>\n",
       "      <td>0.00</td>\n",
       "      <td>0.0</td>\n",
       "      <td>0.00</td>\n",
       "      <td>67.0</td>\n",
       "      <td>tbd</td>\n",
       "      <td>E</td>\n",
       "    </tr>\n",
       "    <tr>\n",
       "      <th>16697</th>\n",
       "      <td>Bust-A-Move 3000</td>\n",
       "      <td>GC</td>\n",
       "      <td>2003.0</td>\n",
       "      <td>Puzzle</td>\n",
       "      <td>0.01</td>\n",
       "      <td>0.00</td>\n",
       "      <td>0.0</td>\n",
       "      <td>0.00</td>\n",
       "      <td>53.0</td>\n",
       "      <td>tbd</td>\n",
       "      <td>E</td>\n",
       "    </tr>\n",
       "    <tr>\n",
       "      <th>16698</th>\n",
       "      <td>Mega Brain Boost</td>\n",
       "      <td>DS</td>\n",
       "      <td>2008.0</td>\n",
       "      <td>Puzzle</td>\n",
       "      <td>0.01</td>\n",
       "      <td>0.00</td>\n",
       "      <td>0.0</td>\n",
       "      <td>0.00</td>\n",
       "      <td>48.0</td>\n",
       "      <td>tbd</td>\n",
       "      <td>E</td>\n",
       "    </tr>\n",
       "    <tr>\n",
       "      <th>16704</th>\n",
       "      <td>Plushees</td>\n",
       "      <td>DS</td>\n",
       "      <td>2008.0</td>\n",
       "      <td>Simulation</td>\n",
       "      <td>0.01</td>\n",
       "      <td>0.00</td>\n",
       "      <td>0.0</td>\n",
       "      <td>0.00</td>\n",
       "      <td>NaN</td>\n",
       "      <td>tbd</td>\n",
       "      <td>E</td>\n",
       "    </tr>\n",
       "    <tr>\n",
       "      <th>16706</th>\n",
       "      <td>Men in Black II: Alien Escape</td>\n",
       "      <td>GC</td>\n",
       "      <td>2003.0</td>\n",
       "      <td>Shooter</td>\n",
       "      <td>0.01</td>\n",
       "      <td>0.00</td>\n",
       "      <td>0.0</td>\n",
       "      <td>0.00</td>\n",
       "      <td>NaN</td>\n",
       "      <td>tbd</td>\n",
       "      <td>T</td>\n",
       "    </tr>\n",
       "  </tbody>\n",
       "</table>\n",
       "<p>2376 rows × 11 columns</p>\n",
       "</div>"
      ],
      "text/plain": [
       "                                 name platform  year_of_release       genre  \\\n",
       "119                     Zumba Fitness      Wii           2010.0      Sports   \n",
       "301    Namco Museum: 50th Anniversary      PS2           2005.0        Misc   \n",
       "520                   Zumba Fitness 2      Wii           2011.0      Sports   \n",
       "645                      uDraw Studio      Wii           2010.0        Misc   \n",
       "718                   Just Dance Kids      Wii           2010.0        Misc   \n",
       "...                               ...      ...              ...         ...   \n",
       "16695                 Planet Monsters      GBA           2001.0      Action   \n",
       "16697                Bust-A-Move 3000       GC           2003.0      Puzzle   \n",
       "16698                Mega Brain Boost       DS           2008.0      Puzzle   \n",
       "16704                        Plushees       DS           2008.0  Simulation   \n",
       "16706   Men in Black II: Alien Escape       GC           2003.0     Shooter   \n",
       "\n",
       "       na_sales  eu_sales  jp_sales  other_sales  critic_score user_score  \\\n",
       "119        3.45      2.59       0.0         0.66           NaN        tbd   \n",
       "301        2.08      1.35       0.0         0.54          61.0        tbd   \n",
       "520        1.51      1.03       0.0         0.27           NaN        tbd   \n",
       "645        1.65      0.57       0.0         0.20          71.0        tbd   \n",
       "718        1.52      0.54       0.0         0.18           NaN        tbd   \n",
       "...         ...       ...       ...          ...           ...        ...   \n",
       "16695      0.01      0.00       0.0         0.00          67.0        tbd   \n",
       "16697      0.01      0.00       0.0         0.00          53.0        tbd   \n",
       "16698      0.01      0.00       0.0         0.00          48.0        tbd   \n",
       "16704      0.01      0.00       0.0         0.00           NaN        tbd   \n",
       "16706      0.01      0.00       0.0         0.00           NaN        tbd   \n",
       "\n",
       "      rating  \n",
       "119        E  \n",
       "301     E10+  \n",
       "520        T  \n",
       "645        E  \n",
       "718        E  \n",
       "...      ...  \n",
       "16695      E  \n",
       "16697      E  \n",
       "16698      E  \n",
       "16704      E  \n",
       "16706      T  \n",
       "\n",
       "[2376 rows x 11 columns]"
      ]
     },
     "execution_count": 9,
     "metadata": {},
     "output_type": "execute_result"
    }
   ],
   "source": [
    "df.query('user_score==\"tbd\"')\n",
    "#можно просто заменить значения на пропущенные тк смысл в принципе тот же"
   ]
  },
  {
   "cell_type": "markdown",
   "metadata": {},
   "source": [
    "as Google says that TBD means \"to be definied\" that can be considered that rating is still in process, but the result is not unknown as we see that in column rating there are \"E\" or \"T\" letter"
   ]
  },
  {
   "cell_type": "code",
   "execution_count": 10,
   "metadata": {},
   "outputs": [],
   "source": [
    "df['user_score'] = df['user_score'].replace('tbd', np.NaN)\n",
    "df['critic_score'] = df['critic_score'].replace('tbd', np.NaN)"
   ]
  },
  {
   "cell_type": "code",
   "execution_count": 11,
   "metadata": {},
   "outputs": [
    {
     "name": "stdout",
     "output_type": "stream",
     "text": [
      "<class 'pandas.core.frame.DataFrame'>\n",
      "Int64Index: 16444 entries, 0 to 16714\n",
      "Data columns (total 11 columns):\n",
      " #   Column           Non-Null Count  Dtype  \n",
      "---  ------           --------------  -----  \n",
      " 0   name             16444 non-null  object \n",
      " 1   platform         16444 non-null  object \n",
      " 2   year_of_release  16444 non-null  int64  \n",
      " 3   genre            16444 non-null  object \n",
      " 4   na_sales         16444 non-null  float64\n",
      " 5   eu_sales         16444 non-null  float64\n",
      " 6   jp_sales         16444 non-null  float64\n",
      " 7   other_sales      16444 non-null  float64\n",
      " 8   critic_score     7463 non-null   float64\n",
      " 9   user_score       7463 non-null   float64\n",
      " 10  rating           16444 non-null  object \n",
      "dtypes: float64(6), int64(1), object(4)\n",
      "memory usage: 1.5+ MB\n"
     ]
    }
   ],
   "source": [
    "df['year_of_release']=df['year_of_release'].astype('int')\n",
    "df['user_score'] = df['user_score'].astype('float')\n",
    "df['critic_score'] = df['user_score'].astype('float') \n",
    "df.info()\n",
    "#well!"
   ]
  },
  {
   "cell_type": "code",
   "execution_count": 12,
   "metadata": {},
   "outputs": [
    {
     "data": {
      "text/plain": [
       "array(['E', 'unknown', 'M', 'T', 'E10+', 'K-A', 'AO', 'EC', 'RP'],\n",
       "      dtype=object)"
      ]
     },
     "execution_count": 12,
     "metadata": {},
     "output_type": "execute_result"
    }
   ],
   "source": [
    "df['rating'].unique()"
   ]
  },
  {
   "cell_type": "code",
   "execution_count": 13,
   "metadata": {},
   "outputs": [
    {
     "data": {
      "text/plain": [
       "unknown    6676\n",
       "E          3921\n",
       "T          2905\n",
       "M          1536\n",
       "E10+       1393\n",
       "EC            8\n",
       "K-A           3\n",
       "RP            1\n",
       "AO            1\n",
       "Name: rating, dtype: int64"
      ]
     },
     "execution_count": 13,
     "metadata": {},
     "output_type": "execute_result"
    }
   ],
   "source": [
    "df['rating'].value_counts()"
   ]
  },
  {
   "cell_type": "code",
   "execution_count": 14,
   "metadata": {},
   "outputs": [
    {
     "data": {
      "text/html": [
       "<div>\n",
       "<style scoped>\n",
       "    .dataframe tbody tr th:only-of-type {\n",
       "        vertical-align: middle;\n",
       "    }\n",
       "\n",
       "    .dataframe tbody tr th {\n",
       "        vertical-align: top;\n",
       "    }\n",
       "\n",
       "    .dataframe thead th {\n",
       "        text-align: right;\n",
       "    }\n",
       "</style>\n",
       "<table border=\"1\" class=\"dataframe\">\n",
       "  <thead>\n",
       "    <tr style=\"text-align: right;\">\n",
       "      <th></th>\n",
       "      <th>name</th>\n",
       "      <th>platform</th>\n",
       "      <th>year_of_release</th>\n",
       "      <th>genre</th>\n",
       "      <th>na_sales</th>\n",
       "      <th>eu_sales</th>\n",
       "      <th>jp_sales</th>\n",
       "      <th>other_sales</th>\n",
       "      <th>critic_score</th>\n",
       "      <th>user_score</th>\n",
       "      <th>rating</th>\n",
       "      <th>sales_total</th>\n",
       "    </tr>\n",
       "  </thead>\n",
       "  <tbody>\n",
       "    <tr>\n",
       "      <th>0</th>\n",
       "      <td>Wii Sports</td>\n",
       "      <td>Wii</td>\n",
       "      <td>2006</td>\n",
       "      <td>Sports</td>\n",
       "      <td>41.36</td>\n",
       "      <td>28.96</td>\n",
       "      <td>3.77</td>\n",
       "      <td>8.45</td>\n",
       "      <td>8.0</td>\n",
       "      <td>8.0</td>\n",
       "      <td>E</td>\n",
       "      <td>82.54</td>\n",
       "    </tr>\n",
       "    <tr>\n",
       "      <th>1</th>\n",
       "      <td>Super Mario Bros.</td>\n",
       "      <td>NES</td>\n",
       "      <td>1985</td>\n",
       "      <td>Platform</td>\n",
       "      <td>29.08</td>\n",
       "      <td>3.58</td>\n",
       "      <td>6.81</td>\n",
       "      <td>0.77</td>\n",
       "      <td>NaN</td>\n",
       "      <td>NaN</td>\n",
       "      <td>unknown</td>\n",
       "      <td>40.24</td>\n",
       "    </tr>\n",
       "    <tr>\n",
       "      <th>2</th>\n",
       "      <td>Mario Kart Wii</td>\n",
       "      <td>Wii</td>\n",
       "      <td>2008</td>\n",
       "      <td>Racing</td>\n",
       "      <td>15.68</td>\n",
       "      <td>12.76</td>\n",
       "      <td>3.79</td>\n",
       "      <td>3.29</td>\n",
       "      <td>8.3</td>\n",
       "      <td>8.3</td>\n",
       "      <td>E</td>\n",
       "      <td>35.52</td>\n",
       "    </tr>\n",
       "    <tr>\n",
       "      <th>3</th>\n",
       "      <td>Wii Sports Resort</td>\n",
       "      <td>Wii</td>\n",
       "      <td>2009</td>\n",
       "      <td>Sports</td>\n",
       "      <td>15.61</td>\n",
       "      <td>10.93</td>\n",
       "      <td>3.28</td>\n",
       "      <td>2.95</td>\n",
       "      <td>8.0</td>\n",
       "      <td>8.0</td>\n",
       "      <td>E</td>\n",
       "      <td>32.77</td>\n",
       "    </tr>\n",
       "    <tr>\n",
       "      <th>4</th>\n",
       "      <td>Pokemon Red/Pokemon Blue</td>\n",
       "      <td>GB</td>\n",
       "      <td>1996</td>\n",
       "      <td>Role-Playing</td>\n",
       "      <td>11.27</td>\n",
       "      <td>8.89</td>\n",
       "      <td>10.22</td>\n",
       "      <td>1.00</td>\n",
       "      <td>NaN</td>\n",
       "      <td>NaN</td>\n",
       "      <td>unknown</td>\n",
       "      <td>31.38</td>\n",
       "    </tr>\n",
       "  </tbody>\n",
       "</table>\n",
       "</div>"
      ],
      "text/plain": [
       "                       name platform  year_of_release         genre  na_sales  \\\n",
       "0                Wii Sports      Wii             2006        Sports     41.36   \n",
       "1         Super Mario Bros.      NES             1985      Platform     29.08   \n",
       "2            Mario Kart Wii      Wii             2008        Racing     15.68   \n",
       "3         Wii Sports Resort      Wii             2009        Sports     15.61   \n",
       "4  Pokemon Red/Pokemon Blue       GB             1996  Role-Playing     11.27   \n",
       "\n",
       "   eu_sales  jp_sales  other_sales  critic_score  user_score   rating  \\\n",
       "0     28.96      3.77         8.45           8.0         8.0        E   \n",
       "1      3.58      6.81         0.77           NaN         NaN  unknown   \n",
       "2     12.76      3.79         3.29           8.3         8.3        E   \n",
       "3     10.93      3.28         2.95           8.0         8.0        E   \n",
       "4      8.89     10.22         1.00           NaN         NaN  unknown   \n",
       "\n",
       "   sales_total  \n",
       "0        82.54  \n",
       "1        40.24  \n",
       "2        35.52  \n",
       "3        32.77  \n",
       "4        31.38  "
      ]
     },
     "execution_count": 14,
     "metadata": {},
     "output_type": "execute_result"
    }
   ],
   "source": [
    "#Найдем общие продажи \n",
    "df['sales_total']=df['na_sales']+df['eu_sales']+df['jp_sales']+df['other_sales']\n",
    "df.head()"
   ]
  },
  {
   "cell_type": "markdown",
   "metadata": {},
   "source": [
    "**Как промежуточный итог можно сказать, что у нас есть данные по продажам игр в разных регионах (в млн), большая часть оценок пользователей и критиков отсутствет, сооветственно отсутствует и рейтинг игр, что существенно может исказить полученные результаты, и учитывая отсутсвие данных показателей мы не сможем полностью полагаться на результаты, проведение статистических тестов предположительно могут дать statistically insignificantt results**"
   ]
  },
  {
   "cell_type": "code",
   "execution_count": 16,
   "metadata": {},
   "outputs": [
    {
     "name": "stdout",
     "output_type": "stream",
     "text": [
      "<class 'pandas.core.frame.DataFrame'>\n",
      "Int64Index: 16444 entries, 0 to 16714\n",
      "Data columns (total 12 columns):\n",
      " #   Column           Non-Null Count  Dtype  \n",
      "---  ------           --------------  -----  \n",
      " 0   name             16444 non-null  object \n",
      " 1   platform         16444 non-null  object \n",
      " 2   year_of_release  16444 non-null  int64  \n",
      " 3   genre            16444 non-null  object \n",
      " 4   na_sales         16444 non-null  float64\n",
      " 5   eu_sales         16444 non-null  float64\n",
      " 6   jp_sales         16444 non-null  float64\n",
      " 7   other_sales      16444 non-null  float64\n",
      " 8   critic_score     7463 non-null   float64\n",
      " 9   user_score       7463 non-null   float64\n",
      " 10  rating           16444 non-null  object \n",
      " 11  sales_total      16444 non-null  float64\n",
      "dtypes: float64(7), int64(1), object(4)\n",
      "memory usage: 1.6+ MB\n",
      "None\n",
      "-------------------------\n",
      "name [' Beyblade Burst' ' Fire Emblem Fates' \" Frozen: Olaf's Quest\" ...\n",
      " 'uDraw Studio' 'uDraw Studio: Instant Artist'\n",
      " '¡Shin Chan Flipa en colores!']\n",
      "name : кол-во NaN 0 , процент NaN 0.0 %\n",
      "-------------------------\n",
      "platform ['2600' '3DO' '3DS' 'DC' 'DS' 'GB' 'GBA' 'GC' 'GEN' 'GG' 'N64' 'NES' 'NG'\n",
      " 'PC' 'PCFX' 'PS' 'PS2' 'PS3' 'PS4' 'PSP' 'PSV' 'SAT' 'SCD' 'SNES' 'TG16'\n",
      " 'WS' 'Wii' 'WiiU' 'X360' 'XB' 'XOne']\n",
      "platform : кол-во NaN 0 , процент NaN 0.0 %\n",
      "-------------------------\n",
      "year_of_release [1980 1981 1982 1983 1984 1985 1986 1987 1988 1989 1990 1991 1992 1993\n",
      " 1994 1995 1996 1997 1998 1999 2000 2001 2002 2003 2004 2005 2006 2007\n",
      " 2008 2009 2010 2011 2012 2013 2014 2015 2016]\n",
      "year_of_release : кол-во NaN 0 , процент NaN 0.0 %\n",
      "-------------------------\n",
      "genre ['Action' 'Adventure' 'Fighting' 'Misc' 'Platform' 'Puzzle' 'Racing'\n",
      " 'Role-Playing' 'Shooter' 'Simulation' 'Sports' 'Strategy']\n",
      "genre : кол-во NaN 0 , процент NaN 0.0 %\n",
      "-------------------------\n",
      "critic_score [0.  0.2 0.3 0.5 0.6 0.7 0.9 1.  1.1 1.2 1.3 1.4 1.5 1.6 1.7 1.8 1.9 2.\n",
      " 2.1 2.2 2.3 2.4 2.5 2.6 2.7 2.8 2.9 3.  3.1 3.2 3.3 3.4 3.5 3.6 3.7 3.8\n",
      " 3.9 4.  4.1 4.2 4.3 4.4 4.5 4.6 4.7 4.8 4.9 5.  5.1 5.2 5.3 5.4 5.5 5.6\n",
      " 5.7 5.8 5.9 6.  6.1 6.2 6.3 6.4 6.5 6.6 6.7 6.8 6.9 7.  7.1 7.2 7.3 7.4\n",
      " 7.5 7.6 7.7 7.8 7.9 8.  8.1 8.2 8.3 8.4 8.5 8.6 8.7 8.8 8.9 9.  9.1 9.2\n",
      " 9.3 9.4 9.5 9.6 9.7 nan]\n",
      "critic_score : кол-во NaN 8981 , процент NaN 54.62 %\n",
      "-------------------------\n",
      "user_score [0.  0.2 0.3 0.5 0.6 0.7 0.9 1.  1.1 1.2 1.3 1.4 1.5 1.6 1.7 1.8 1.9 2.\n",
      " 2.1 2.2 2.3 2.4 2.5 2.6 2.7 2.8 2.9 3.  3.1 3.2 3.3 3.4 3.5 3.6 3.7 3.8\n",
      " 3.9 4.  4.1 4.2 4.3 4.4 4.5 4.6 4.7 4.8 4.9 5.  5.1 5.2 5.3 5.4 5.5 5.6\n",
      " 5.7 5.8 5.9 6.  6.1 6.2 6.3 6.4 6.5 6.6 6.7 6.8 6.9 7.  7.1 7.2 7.3 7.4\n",
      " 7.5 7.6 7.7 7.8 7.9 8.  8.1 8.2 8.3 8.4 8.5 8.6 8.7 8.8 8.9 9.  9.1 9.2\n",
      " 9.3 9.4 9.5 9.6 9.7 nan]\n",
      "user_score : кол-во NaN 8981 , процент NaN 54.62 %\n",
      "-------------------------\n",
      "rating ['AO' 'E' 'E10+' 'EC' 'K-A' 'M' 'RP' 'T' 'unknown']\n",
      "rating : кол-во NaN 0 , процент NaN 0.0 %\n"
     ]
    }
   ],
   "source": [
    "# Комментарий ревьюера\n",
    "# Посмотрим, что у нас осталось\n",
    "temp = df.copy() \n",
    "list_c = ['name', 'platform', 'year_of_release', 'genre', 'critic_score', 'user_score', 'rating']\n",
    "print(temp.info())\n",
    "for col_l in list_c:\n",
    "  print('-'* 25)\n",
    "  print(col_l, temp[col_l].sort_values().unique())\n",
    "  print(col_l,': кол-во NaN',temp[col_l].isna().sum(),\n",
    "        ', процент NaN', round(temp[col_l].isna().sum()/len(temp)*100, 2),'%')"
   ]
  },
  {
   "cell_type": "markdown",
   "metadata": {},
   "source": [
    "**Исследовательский анализ данных**"
   ]
  },
  {
   "cell_type": "code",
   "execution_count": 17,
   "metadata": {},
   "outputs": [
    {
     "data": {
      "text/plain": [
       "<AxesSubplot:title={'center':'sales_per_year'}, xlabel='year_of_release', ylabel='sales_total'>"
      ]
     },
     "execution_count": 17,
     "metadata": {},
     "output_type": "execute_result"
    },
    {
     "data": {
      "image/png": "[encoded data removed]",
      "text/plain": [
       "<Figure size 720x360 with 1 Axes>"
      ]
     },
     "metadata": {
      "needs_background": "light"
     },
     "output_type": "display_data"
    }
   ],
   "source": [
    "year_sales= df.pivot_table(index='year_of_release', values='sales_total',aggfunc='sum')\n",
    "year_sales.plot(ylabel='sales_total',kind='bar',figsize=(10, 5),grid=True,title='sales_per_year')"
   ]
  },
  {
   "cell_type": "markdown",
   "metadata": {},
   "source": [
    "Во-первых, можно заметить что игры сабильно выходили каждый год. С 1993 года продажи стабильно постепенно растут вплоть до 2007 года.Пик по продажам игр пришелся на 2008 год, также высокие значения показывают 2007, 2009-2010 года, потом идет тенденция к спаду популярности игр. Данные за все периоды для прогноза брать не стоит,ситуация сильно менялась, например с 1980 по 1995 продажи игр были слишком низки, популярность только-только набирала обороты"
   ]
  },
  {
   "cell_type": "code",
   "execution_count": 18,
   "metadata": {},
   "outputs": [
    {
     "data": {
      "text/plain": [
       "<AxesSubplot:xlabel='platform'>"
      ]
     },
     "execution_count": 18,
     "metadata": {},
     "output_type": "execute_result"
    },
    {
     "data": {
      "image/png": "[encoded data removed]",
      "text/plain": [
       "<Figure size 720x360 with 1 Axes>"
      ]
     },
     "metadata": {
      "needs_background": "light"
     },
     "output_type": "display_data"
    }
   ],
   "source": [
    "platform_sales= df.pivot_table(index='platform', values='sales_total',aggfunc='sum')\n",
    "platform_sales.sort_values(by='sales_total').plot(kind='bar',figsize=(10, 5),grid=True)"
   ]
  },
  {
   "cell_type": "markdown",
   "metadata": {},
   "source": [
    "Выделим наиболее прибыльные по продажам платформы и поместим в отдельный список "
   ]
  },
  {
   "cell_type": "code",
   "execution_count": 19,
   "metadata": {},
   "outputs": [
    {
     "data": {
      "text/html": [
       "<div>\n",
       "<style scoped>\n",
       "    .dataframe tbody tr th:only-of-type {\n",
       "        vertical-align: middle;\n",
       "    }\n",
       "\n",
       "    .dataframe tbody tr th {\n",
       "        vertical-align: top;\n",
       "    }\n",
       "\n",
       "    .dataframe thead th {\n",
       "        text-align: right;\n",
       "    }\n",
       "</style>\n",
       "<table border=\"1\" class=\"dataframe\">\n",
       "  <thead>\n",
       "    <tr style=\"text-align: right;\">\n",
       "      <th>platform</th>\n",
       "      <th>DS</th>\n",
       "      <th>PS</th>\n",
       "      <th>PS2</th>\n",
       "      <th>PS3</th>\n",
       "      <th>Wii</th>\n",
       "      <th>X360</th>\n",
       "    </tr>\n",
       "    <tr>\n",
       "      <th>year_of_release</th>\n",
       "      <th></th>\n",
       "      <th></th>\n",
       "      <th></th>\n",
       "      <th></th>\n",
       "      <th></th>\n",
       "      <th></th>\n",
       "    </tr>\n",
       "  </thead>\n",
       "  <tbody>\n",
       "    <tr>\n",
       "      <th>1985</th>\n",
       "      <td>0.02</td>\n",
       "      <td>NaN</td>\n",
       "      <td>NaN</td>\n",
       "      <td>NaN</td>\n",
       "      <td>NaN</td>\n",
       "      <td>NaN</td>\n",
       "    </tr>\n",
       "    <tr>\n",
       "      <th>1994</th>\n",
       "      <td>NaN</td>\n",
       "      <td>6.03</td>\n",
       "      <td>NaN</td>\n",
       "      <td>NaN</td>\n",
       "      <td>NaN</td>\n",
       "      <td>NaN</td>\n",
       "    </tr>\n",
       "    <tr>\n",
       "      <th>1995</th>\n",
       "      <td>NaN</td>\n",
       "      <td>35.96</td>\n",
       "      <td>NaN</td>\n",
       "      <td>NaN</td>\n",
       "      <td>NaN</td>\n",
       "      <td>NaN</td>\n",
       "    </tr>\n",
       "    <tr>\n",
       "      <th>1996</th>\n",
       "      <td>NaN</td>\n",
       "      <td>94.70</td>\n",
       "      <td>NaN</td>\n",
       "      <td>NaN</td>\n",
       "      <td>NaN</td>\n",
       "      <td>NaN</td>\n",
       "    </tr>\n",
       "    <tr>\n",
       "      <th>1997</th>\n",
       "      <td>NaN</td>\n",
       "      <td>136.17</td>\n",
       "      <td>NaN</td>\n",
       "      <td>NaN</td>\n",
       "      <td>NaN</td>\n",
       "      <td>NaN</td>\n",
       "    </tr>\n",
       "    <tr>\n",
       "      <th>1998</th>\n",
       "      <td>NaN</td>\n",
       "      <td>169.49</td>\n",
       "      <td>NaN</td>\n",
       "      <td>NaN</td>\n",
       "      <td>NaN</td>\n",
       "      <td>NaN</td>\n",
       "    </tr>\n",
       "    <tr>\n",
       "      <th>1999</th>\n",
       "      <td>NaN</td>\n",
       "      <td>144.53</td>\n",
       "      <td>NaN</td>\n",
       "      <td>NaN</td>\n",
       "      <td>NaN</td>\n",
       "      <td>NaN</td>\n",
       "    </tr>\n",
       "    <tr>\n",
       "      <th>2000</th>\n",
       "      <td>NaN</td>\n",
       "      <td>96.37</td>\n",
       "      <td>39.17</td>\n",
       "      <td>NaN</td>\n",
       "      <td>NaN</td>\n",
       "      <td>NaN</td>\n",
       "    </tr>\n",
       "    <tr>\n",
       "      <th>2001</th>\n",
       "      <td>NaN</td>\n",
       "      <td>35.59</td>\n",
       "      <td>166.43</td>\n",
       "      <td>NaN</td>\n",
       "      <td>NaN</td>\n",
       "      <td>NaN</td>\n",
       "    </tr>\n",
       "    <tr>\n",
       "      <th>2002</th>\n",
       "      <td>NaN</td>\n",
       "      <td>6.67</td>\n",
       "      <td>205.38</td>\n",
       "      <td>NaN</td>\n",
       "      <td>NaN</td>\n",
       "      <td>NaN</td>\n",
       "    </tr>\n",
       "    <tr>\n",
       "      <th>2003</th>\n",
       "      <td>NaN</td>\n",
       "      <td>2.07</td>\n",
       "      <td>184.31</td>\n",
       "      <td>NaN</td>\n",
       "      <td>NaN</td>\n",
       "      <td>NaN</td>\n",
       "    </tr>\n",
       "    <tr>\n",
       "      <th>2004</th>\n",
       "      <td>17.27</td>\n",
       "      <td>NaN</td>\n",
       "      <td>211.81</td>\n",
       "      <td>NaN</td>\n",
       "      <td>NaN</td>\n",
       "      <td>NaN</td>\n",
       "    </tr>\n",
       "    <tr>\n",
       "      <th>2005</th>\n",
       "      <td>130.14</td>\n",
       "      <td>NaN</td>\n",
       "      <td>160.66</td>\n",
       "      <td>NaN</td>\n",
       "      <td>NaN</td>\n",
       "      <td>8.25</td>\n",
       "    </tr>\n",
       "    <tr>\n",
       "      <th>2006</th>\n",
       "      <td>119.81</td>\n",
       "      <td>NaN</td>\n",
       "      <td>103.42</td>\n",
       "      <td>20.96</td>\n",
       "      <td>137.15</td>\n",
       "      <td>51.62</td>\n",
       "    </tr>\n",
       "    <tr>\n",
       "      <th>2007</th>\n",
       "      <td>146.94</td>\n",
       "      <td>NaN</td>\n",
       "      <td>75.99</td>\n",
       "      <td>73.19</td>\n",
       "      <td>152.77</td>\n",
       "      <td>95.41</td>\n",
       "    </tr>\n",
       "    <tr>\n",
       "      <th>2008</th>\n",
       "      <td>145.31</td>\n",
       "      <td>NaN</td>\n",
       "      <td>53.90</td>\n",
       "      <td>118.52</td>\n",
       "      <td>171.32</td>\n",
       "      <td>135.26</td>\n",
       "    </tr>\n",
       "    <tr>\n",
       "      <th>2009</th>\n",
       "      <td>119.54</td>\n",
       "      <td>NaN</td>\n",
       "      <td>26.40</td>\n",
       "      <td>130.93</td>\n",
       "      <td>206.97</td>\n",
       "      <td>120.29</td>\n",
       "    </tr>\n",
       "    <tr>\n",
       "      <th>2010</th>\n",
       "      <td>85.02</td>\n",
       "      <td>NaN</td>\n",
       "      <td>5.64</td>\n",
       "      <td>142.17</td>\n",
       "      <td>127.95</td>\n",
       "      <td>170.03</td>\n",
       "    </tr>\n",
       "    <tr>\n",
       "      <th>2011</th>\n",
       "      <td>26.18</td>\n",
       "      <td>NaN</td>\n",
       "      <td>0.45</td>\n",
       "      <td>156.78</td>\n",
       "      <td>59.65</td>\n",
       "      <td>143.84</td>\n",
       "    </tr>\n",
       "    <tr>\n",
       "      <th>2012</th>\n",
       "      <td>11.01</td>\n",
       "      <td>NaN</td>\n",
       "      <td>NaN</td>\n",
       "      <td>107.36</td>\n",
       "      <td>21.71</td>\n",
       "      <td>99.74</td>\n",
       "    </tr>\n",
       "    <tr>\n",
       "      <th>2013</th>\n",
       "      <td>1.54</td>\n",
       "      <td>NaN</td>\n",
       "      <td>NaN</td>\n",
       "      <td>113.25</td>\n",
       "      <td>8.59</td>\n",
       "      <td>88.58</td>\n",
       "    </tr>\n",
       "    <tr>\n",
       "      <th>2014</th>\n",
       "      <td>NaN</td>\n",
       "      <td>NaN</td>\n",
       "      <td>NaN</td>\n",
       "      <td>47.76</td>\n",
       "      <td>3.75</td>\n",
       "      <td>34.74</td>\n",
       "    </tr>\n",
       "    <tr>\n",
       "      <th>2015</th>\n",
       "      <td>NaN</td>\n",
       "      <td>NaN</td>\n",
       "      <td>NaN</td>\n",
       "      <td>16.82</td>\n",
       "      <td>1.14</td>\n",
       "      <td>11.96</td>\n",
       "    </tr>\n",
       "    <tr>\n",
       "      <th>2016</th>\n",
       "      <td>NaN</td>\n",
       "      <td>NaN</td>\n",
       "      <td>NaN</td>\n",
       "      <td>3.60</td>\n",
       "      <td>0.18</td>\n",
       "      <td>1.52</td>\n",
       "    </tr>\n",
       "  </tbody>\n",
       "</table>\n",
       "</div>"
      ],
      "text/plain": [
       "platform             DS      PS     PS2     PS3     Wii    X360\n",
       "year_of_release                                                \n",
       "1985               0.02     NaN     NaN     NaN     NaN     NaN\n",
       "1994                NaN    6.03     NaN     NaN     NaN     NaN\n",
       "1995                NaN   35.96     NaN     NaN     NaN     NaN\n",
       "1996                NaN   94.70     NaN     NaN     NaN     NaN\n",
       "1997                NaN  136.17     NaN     NaN     NaN     NaN\n",
       "1998                NaN  169.49     NaN     NaN     NaN     NaN\n",
       "1999                NaN  144.53     NaN     NaN     NaN     NaN\n",
       "2000                NaN   96.37   39.17     NaN     NaN     NaN\n",
       "2001                NaN   35.59  166.43     NaN     NaN     NaN\n",
       "2002                NaN    6.67  205.38     NaN     NaN     NaN\n",
       "2003                NaN    2.07  184.31     NaN     NaN     NaN\n",
       "2004              17.27     NaN  211.81     NaN     NaN     NaN\n",
       "2005             130.14     NaN  160.66     NaN     NaN    8.25\n",
       "2006             119.81     NaN  103.42   20.96  137.15   51.62\n",
       "2007             146.94     NaN   75.99   73.19  152.77   95.41\n",
       "2008             145.31     NaN   53.90  118.52  171.32  135.26\n",
       "2009             119.54     NaN   26.40  130.93  206.97  120.29\n",
       "2010              85.02     NaN    5.64  142.17  127.95  170.03\n",
       "2011              26.18     NaN    0.45  156.78   59.65  143.84\n",
       "2012              11.01     NaN     NaN  107.36   21.71   99.74\n",
       "2013               1.54     NaN     NaN  113.25    8.59   88.58\n",
       "2014                NaN     NaN     NaN   47.76    3.75   34.74\n",
       "2015                NaN     NaN     NaN   16.82    1.14   11.96\n",
       "2016                NaN     NaN     NaN    3.60    0.18    1.52"
      ]
     },
     "execution_count": 19,
     "metadata": {},
     "output_type": "execute_result"
    }
   ],
   "source": [
    "list_of_platforms=['DS','PS','PS2','PS3','Wii','X360']\n",
    "most_popular=df.query('platform in @list_of_platforms')\n",
    "platform_year=most_popular.pivot_table(index='year_of_release',columns='platform',values='sales_total',aggfunc='sum')\n",
    "platform_year"
   ]
  },
  {
   "cell_type": "markdown",
   "metadata": {},
   "source": [
    "Если брать в расчет 6 самых популярных платформ, можно сказать что продажи по платформам менялись в зависимости от временных проомежутков: платформы то появлялись и набирали  популярность, то стремительно теряли и уходили с рынка. Посмотрим подробнее по каждой платформе:\n",
    "1. DS есть данные по 1985 году, потом на 10 лет информации нет и снова рост популярности с 2004 по 2013 год\n",
    "2. PS с 1994 по 2007 года\n",
    "3. PS с 2000 по 2011 года\n",
    "4. PS3 с 2006 года\n",
    "5. Wii с 2006 года\n",
    "6. X360 с 2005 года\n",
    "\n",
    "в среднем каждая из платформ была популярна в течение 5 лет, а появлялись ои почти всегда каждый год, это мы можем увидеть по графику, так более репрезентативно"
   ]
  },
  {
   "cell_type": "code",
   "execution_count": 20,
   "metadata": {},
   "outputs": [
    {
     "data": {
      "text/plain": [
       "<AxesSubplot:xlabel='year_of_release'>"
      ]
     },
     "execution_count": 20,
     "metadata": {},
     "output_type": "execute_result"
    },
    {
     "data": {
      "image/png": "[encoded data removed]",
      "text/plain": [
       "<Figure size 720x360 with 1 Axes>"
      ]
     },
     "metadata": {
      "needs_background": "light"
     },
     "output_type": "display_data"
    }
   ],
   "source": [
    "platform_year.plot(kind='bar',figsize=(10, 5),grid=True)"
   ]
  },
  {
   "cell_type": "code",
   "execution_count": 21,
   "metadata": {},
   "outputs": [
    {
     "data": {
      "text/plain": [
       "<AxesSubplot:xlabel='year_of_release'>"
      ]
     },
     "execution_count": 21,
     "metadata": {},
     "output_type": "execute_result"
    },
    {
     "data": {
      "image/png": "[encoded data removed]",
      "text/plain": [
       "<Figure size 720x360 with 1 Axes>"
      ]
     },
     "metadata": {
      "needs_background": "light"
     },
     "output_type": "display_data"
    }
   ],
   "source": [
    "platform_year.plot(figsize=(10, 5),grid=True)"
   ]
  },
  {
   "cell_type": "markdown",
   "metadata": {},
   "source": [
    "*Если мы допускаем, что жизненный цикл платформы около 5 лет, то, для прогноза на 2017 год возьмем данные с 2011 года по 2016. Так как предыдущие года уже не будут актуальны*"
   ]
  },
  {
   "cell_type": "code",
   "execution_count": 22,
   "metadata": {},
   "outputs": [
    {
     "data": {
      "text/plain": [
       "array([[<AxesSubplot:title={'center':'year_of_release'}>,\n",
       "        <AxesSubplot:title={'center':'na_sales'}>,\n",
       "        <AxesSubplot:title={'center':'eu_sales'}>],\n",
       "       [<AxesSubplot:title={'center':'jp_sales'}>,\n",
       "        <AxesSubplot:title={'center':'other_sales'}>,\n",
       "        <AxesSubplot:title={'center':'critic_score'}>],\n",
       "       [<AxesSubplot:title={'center':'user_score'}>,\n",
       "        <AxesSubplot:title={'center':'sales_total'}>, <AxesSubplot:>]],\n",
       "      dtype=object)"
      ]
     },
     "execution_count": 22,
     "metadata": {},
     "output_type": "execute_result"
    },
    {
     "data": {
      "image/png": "[encoded data removed]",
      "text/plain": [
       "<Figure size 1080x1440 with 9 Axes>"
      ]
     },
     "metadata": {
      "needs_background": "light"
     },
     "output_type": "display_data"
    }
   ],
   "source": [
    "df_actual=df.query('year_of_release>2011')\n",
    "df_actual.hist(figsize=(15, 20))"
   ]
  },
  {
   "cell_type": "markdown",
   "metadata": {},
   "source": [
    "Видно, что продажи падают стремительно по всем регионам"
   ]
  },
  {
   "cell_type": "code",
   "execution_count": 23,
   "metadata": {},
   "outputs": [
    {
     "data": {
      "text/plain": [
       "<AxesSubplot:xlabel='year_of_release'>"
      ]
     },
     "execution_count": 23,
     "metadata": {},
     "output_type": "execute_result"
    },
    {
     "data": {
      "image/png": "[encoded data removed]",
      "text/plain": [
       "<Figure size 720x360 with 1 Axes>"
      ]
     },
     "metadata": {
      "needs_background": "light"
     },
     "output_type": "display_data"
    }
   ],
   "source": [
    "platform_year2=df_actual.pivot_table(index='year_of_release',columns='platform',values='sales_total',aggfunc='sum')\n",
    "platform_year2.plot(kind='bar',figsize=(10, 5),grid=True)"
   ]
  },
  {
   "cell_type": "markdown",
   "metadata": {},
   "source": [
    "Видим, что 11 платформ все еще осуществляют продажи, судя по fluctuations прадаж по платформам XOne, 3DS and Ps4, можно предположить что в 2017 на них придется значительная доля рынка. Остальные платформы показывают сильное снижение в продажах, есть верятность, что они пропадут в 2017"
   ]
  },
  {
   "cell_type": "code",
   "execution_count": 24,
   "metadata": {},
   "outputs": [
    {
     "data": {
      "image/png": "[encoded data removed]",
      "text/plain": [
       "<Figure size 1080x720 with 1 Axes>"
      ]
     },
     "metadata": {
      "needs_background": "light"
     },
     "output_type": "display_data"
    }
   ],
   "source": [
    "df_actual.boxplot(column='sales_total', by='platform',figsize=(15, 10))\n",
    "plt.show()"
   ]
  },
  {
   "cell_type": "code",
   "execution_count": 25,
   "metadata": {},
   "outputs": [
    {
     "data": {
      "image/png": "[encoded data removed]",
      "text/plain": [
       "<Figure size 1080x720 with 1 Axes>"
      ]
     },
     "metadata": {
      "needs_background": "light"
     },
     "output_type": "display_data"
    }
   ],
   "source": [
    "df_actual.boxplot(column='sales_total', by='platform',figsize=(15, 10)).set_ylim(0,2)\n",
    "plt.show()"
   ]
  },
  {
   "cell_type": "markdown",
   "metadata": {},
   "source": [
    "</font><font color='Blue'><b>График показывает большое количество выбросов в данных в среднем по общим продажам более 3 млн по каждой из платформ, учитывая предыдущие графики, которые показывают, что игры одномоментно набирают и теряют популярность, возможно эти выбросы удалять не стоит.\n",
    "50% значений у большинства платформ лежат в пределах от 0.2 до 1 млн продаж. Медианные продажи большинства платформ находятся в промежутке от 0 до 0.3 млн. Медианы смещены ближе к первому квартилю.</b></font><br>"
   ]
  },
  {
   "cell_type": "code",
   "execution_count": 26,
   "metadata": {},
   "outputs": [
    {
     "data": {
      "text/plain": [
       "array(['Sports', 'Racing', 'Misc', 'Platform', 'Fighting', 'Action',\n",
       "       'Shooter', 'Simulation', 'Puzzle', 'Role-Playing', 'Adventure',\n",
       "       'Strategy'], dtype=object)"
      ]
     },
     "execution_count": 26,
     "metadata": {},
     "output_type": "execute_result"
    }
   ],
   "source": [
    "df.query('platform==\"Wii\"')['genre'].unique()"
   ]
  },
  {
   "cell_type": "markdown",
   "metadata": {},
   "source": [
    "<font color='DarkBlue'><b>Комментарий ревьюера</b></font><br>\n",
    "<font color='Red'>🛠 Что у нас написано в задании: <br><b>Возьмите данные за соответствующий актуальный период. Актуальный период определите самостоятельно в результате исследования предыдущих вопросов. Основной фактор — эти данные помогут построить прогноз на 2017 год. <br>Не учитывайте в работе данные за предыдущие годы.</b> <br>После определения актуального периода мы дальнейший анализ делаем только за этот период.</font>"
   ]
  },
  {
   "cell_type": "code",
   "execution_count": 27,
   "metadata": {},
   "outputs": [
    {
     "data": {
      "image/png": "[encoded data removed]",
      "text/plain": [
       "<Figure size 432x288 with 1 Axes>"
      ]
     },
     "metadata": {
      "needs_background": "light"
     },
     "output_type": "display_data"
    },
    {
     "data": {
      "image/png": "[encoded data removed]",
      "text/plain": [
       "<Figure size 432x288 with 1 Axes>"
      ]
     },
     "metadata": {
      "needs_background": "light"
     },
     "output_type": "display_data"
    },
    {
     "name": "stdout",
     "output_type": "stream",
     "text": [
      "0.006163978646213326\n",
      "0.006163978646213326\n"
     ]
    }
   ],
   "source": [
    "#на основании предыдущих графиков возьмем одну из популярных платформ: X360\n",
    "x360data=df_actual.query('platform==\"X360\"')\n",
    "plt.scatter(x=x360data['critic_score'], y=x360data['sales_total'])\n",
    "plt.show()\n",
    "plt.scatter(x=x360data['user_score'], y=x360data['sales_total'])\n",
    "plt.show()\n",
    "print(x360data['critic_score'].corr(x360data['sales_total']))\n",
    "print(x360data['user_score'].corr(x360data['sales_total']))"
   ]
  },
  {
   "cell_type": "markdown",
   "metadata": {},
   "source": [
    "*На основании таких низких положительных коэффициентов кореляции, я бы больше склонилась к ее отсутствию, чем наличию. *"
   ]
  },
  {
   "cell_type": "code",
   "execution_count": 28,
   "metadata": {},
   "outputs": [
    {
     "data": {
      "text/html": [
       "<div>\n",
       "<style scoped>\n",
       "    .dataframe tbody tr th:only-of-type {\n",
       "        vertical-align: middle;\n",
       "    }\n",
       "\n",
       "    .dataframe tbody tr th {\n",
       "        vertical-align: top;\n",
       "    }\n",
       "\n",
       "    .dataframe thead th {\n",
       "        text-align: right;\n",
       "    }\n",
       "</style>\n",
       "<table border=\"1\" class=\"dataframe\">\n",
       "  <thead>\n",
       "    <tr style=\"text-align: right;\">\n",
       "      <th></th>\n",
       "      <th>name</th>\n",
       "      <th>platform</th>\n",
       "      <th>year_of_release</th>\n",
       "      <th>genre</th>\n",
       "      <th>na_sales</th>\n",
       "      <th>eu_sales</th>\n",
       "      <th>jp_sales</th>\n",
       "      <th>other_sales</th>\n",
       "      <th>critic_score</th>\n",
       "      <th>user_score</th>\n",
       "      <th>rating</th>\n",
       "      <th>sales_total</th>\n",
       "    </tr>\n",
       "  </thead>\n",
       "  <tbody>\n",
       "    <tr>\n",
       "      <th>16</th>\n",
       "      <td>Grand Theft Auto V</td>\n",
       "      <td>PS3</td>\n",
       "      <td>2013</td>\n",
       "      <td>Action</td>\n",
       "      <td>7.02</td>\n",
       "      <td>9.09</td>\n",
       "      <td>0.98</td>\n",
       "      <td>3.96</td>\n",
       "      <td>8.2</td>\n",
       "      <td>8.2</td>\n",
       "      <td>M</td>\n",
       "      <td>21.05</td>\n",
       "    </tr>\n",
       "    <tr>\n",
       "      <th>23</th>\n",
       "      <td>Grand Theft Auto V</td>\n",
       "      <td>X360</td>\n",
       "      <td>2013</td>\n",
       "      <td>Action</td>\n",
       "      <td>9.66</td>\n",
       "      <td>5.14</td>\n",
       "      <td>0.06</td>\n",
       "      <td>1.41</td>\n",
       "      <td>8.1</td>\n",
       "      <td>8.1</td>\n",
       "      <td>M</td>\n",
       "      <td>16.27</td>\n",
       "    </tr>\n",
       "    <tr>\n",
       "      <th>31</th>\n",
       "      <td>Call of Duty: Black Ops 3</td>\n",
       "      <td>PS4</td>\n",
       "      <td>2015</td>\n",
       "      <td>Shooter</td>\n",
       "      <td>6.03</td>\n",
       "      <td>5.86</td>\n",
       "      <td>0.36</td>\n",
       "      <td>2.38</td>\n",
       "      <td>NaN</td>\n",
       "      <td>NaN</td>\n",
       "      <td>unknown</td>\n",
       "      <td>14.63</td>\n",
       "    </tr>\n",
       "    <tr>\n",
       "      <th>33</th>\n",
       "      <td>Pokemon X/Pokemon Y</td>\n",
       "      <td>3DS</td>\n",
       "      <td>2013</td>\n",
       "      <td>Role-Playing</td>\n",
       "      <td>5.28</td>\n",
       "      <td>4.19</td>\n",
       "      <td>4.35</td>\n",
       "      <td>0.78</td>\n",
       "      <td>NaN</td>\n",
       "      <td>NaN</td>\n",
       "      <td>unknown</td>\n",
       "      <td>14.60</td>\n",
       "    </tr>\n",
       "    <tr>\n",
       "      <th>34</th>\n",
       "      <td>Call of Duty: Black Ops II</td>\n",
       "      <td>PS3</td>\n",
       "      <td>2012</td>\n",
       "      <td>Shooter</td>\n",
       "      <td>4.99</td>\n",
       "      <td>5.73</td>\n",
       "      <td>0.65</td>\n",
       "      <td>2.42</td>\n",
       "      <td>5.3</td>\n",
       "      <td>5.3</td>\n",
       "      <td>M</td>\n",
       "      <td>13.79</td>\n",
       "    </tr>\n",
       "    <tr>\n",
       "      <th>...</th>\n",
       "      <td>...</td>\n",
       "      <td>...</td>\n",
       "      <td>...</td>\n",
       "      <td>...</td>\n",
       "      <td>...</td>\n",
       "      <td>...</td>\n",
       "      <td>...</td>\n",
       "      <td>...</td>\n",
       "      <td>...</td>\n",
       "      <td>...</td>\n",
       "      <td>...</td>\n",
       "      <td>...</td>\n",
       "    </tr>\n",
       "    <tr>\n",
       "      <th>16703</th>\n",
       "      <td>Strawberry Nauts</td>\n",
       "      <td>PSV</td>\n",
       "      <td>2016</td>\n",
       "      <td>Adventure</td>\n",
       "      <td>0.00</td>\n",
       "      <td>0.00</td>\n",
       "      <td>0.01</td>\n",
       "      <td>0.00</td>\n",
       "      <td>NaN</td>\n",
       "      <td>NaN</td>\n",
       "      <td>unknown</td>\n",
       "      <td>0.01</td>\n",
       "    </tr>\n",
       "    <tr>\n",
       "      <th>16707</th>\n",
       "      <td>Aiyoku no Eustia</td>\n",
       "      <td>PSV</td>\n",
       "      <td>2014</td>\n",
       "      <td>Misc</td>\n",
       "      <td>0.00</td>\n",
       "      <td>0.00</td>\n",
       "      <td>0.01</td>\n",
       "      <td>0.00</td>\n",
       "      <td>NaN</td>\n",
       "      <td>NaN</td>\n",
       "      <td>unknown</td>\n",
       "      <td>0.01</td>\n",
       "    </tr>\n",
       "    <tr>\n",
       "      <th>16710</th>\n",
       "      <td>Samurai Warriors: Sanada Maru</td>\n",
       "      <td>PS3</td>\n",
       "      <td>2016</td>\n",
       "      <td>Action</td>\n",
       "      <td>0.00</td>\n",
       "      <td>0.00</td>\n",
       "      <td>0.01</td>\n",
       "      <td>0.00</td>\n",
       "      <td>NaN</td>\n",
       "      <td>NaN</td>\n",
       "      <td>unknown</td>\n",
       "      <td>0.01</td>\n",
       "    </tr>\n",
       "    <tr>\n",
       "      <th>16712</th>\n",
       "      <td>Haitaka no Psychedelica</td>\n",
       "      <td>PSV</td>\n",
       "      <td>2016</td>\n",
       "      <td>Adventure</td>\n",
       "      <td>0.00</td>\n",
       "      <td>0.00</td>\n",
       "      <td>0.01</td>\n",
       "      <td>0.00</td>\n",
       "      <td>NaN</td>\n",
       "      <td>NaN</td>\n",
       "      <td>unknown</td>\n",
       "      <td>0.01</td>\n",
       "    </tr>\n",
       "    <tr>\n",
       "      <th>16714</th>\n",
       "      <td>Winning Post 8 2016</td>\n",
       "      <td>PSV</td>\n",
       "      <td>2016</td>\n",
       "      <td>Simulation</td>\n",
       "      <td>0.00</td>\n",
       "      <td>0.00</td>\n",
       "      <td>0.01</td>\n",
       "      <td>0.00</td>\n",
       "      <td>NaN</td>\n",
       "      <td>NaN</td>\n",
       "      <td>unknown</td>\n",
       "      <td>0.01</td>\n",
       "    </tr>\n",
       "  </tbody>\n",
       "</table>\n",
       "<p>2886 rows × 12 columns</p>\n",
       "</div>"
      ],
      "text/plain": [
       "                                name platform  year_of_release         genre  \\\n",
       "16                Grand Theft Auto V      PS3             2013        Action   \n",
       "23                Grand Theft Auto V     X360             2013        Action   \n",
       "31         Call of Duty: Black Ops 3      PS4             2015       Shooter   \n",
       "33               Pokemon X/Pokemon Y      3DS             2013  Role-Playing   \n",
       "34        Call of Duty: Black Ops II      PS3             2012       Shooter   \n",
       "...                              ...      ...              ...           ...   \n",
       "16703               Strawberry Nauts      PSV             2016     Adventure   \n",
       "16707               Aiyoku no Eustia      PSV             2014          Misc   \n",
       "16710  Samurai Warriors: Sanada Maru      PS3             2016        Action   \n",
       "16712        Haitaka no Psychedelica      PSV             2016     Adventure   \n",
       "16714            Winning Post 8 2016      PSV             2016    Simulation   \n",
       "\n",
       "       na_sales  eu_sales  jp_sales  other_sales  critic_score  user_score  \\\n",
       "16         7.02      9.09      0.98         3.96           8.2         8.2   \n",
       "23         9.66      5.14      0.06         1.41           8.1         8.1   \n",
       "31         6.03      5.86      0.36         2.38           NaN         NaN   \n",
       "33         5.28      4.19      4.35         0.78           NaN         NaN   \n",
       "34         4.99      5.73      0.65         2.42           5.3         5.3   \n",
       "...         ...       ...       ...          ...           ...         ...   \n",
       "16703      0.00      0.00      0.01         0.00           NaN         NaN   \n",
       "16707      0.00      0.00      0.01         0.00           NaN         NaN   \n",
       "16710      0.00      0.00      0.01         0.00           NaN         NaN   \n",
       "16712      0.00      0.00      0.01         0.00           NaN         NaN   \n",
       "16714      0.00      0.00      0.01         0.00           NaN         NaN   \n",
       "\n",
       "        rating  sales_total  \n",
       "16           M        21.05  \n",
       "23           M        16.27  \n",
       "31     unknown        14.63  \n",
       "33     unknown        14.60  \n",
       "34           M        13.79  \n",
       "...        ...          ...  \n",
       "16703  unknown         0.01  \n",
       "16707  unknown         0.01  \n",
       "16710  unknown         0.01  \n",
       "16712  unknown         0.01  \n",
       "16714  unknown         0.01  \n",
       "\n",
       "[2886 rows x 12 columns]"
      ]
     },
     "execution_count": 28,
     "metadata": {},
     "output_type": "execute_result"
    }
   ],
   "source": [
    "df.query('year_of_release>2011')\n",
    "#смотрим какие платформы остаются в актуальном периоде"
   ]
  },
  {
   "cell_type": "code",
   "execution_count": 29,
   "metadata": {},
   "outputs": [
    {
     "data": {
      "image/png": "[encoded data removed]",
      "text/plain": [
       "<Figure size 432x288 with 1 Axes>"
      ]
     },
     "metadata": {
      "needs_background": "light"
     },
     "output_type": "display_data"
    },
    {
     "data": {
      "image/png": "[encoded data removed]",
      "text/plain": [
       "<Figure size 432x288 with 1 Axes>"
      ]
     },
     "metadata": {
      "needs_background": "light"
     },
     "output_type": "display_data"
    },
    {
     "name": "stdout",
     "output_type": "stream",
     "text": [
      "-0.12186747630735577\n",
      "-0.12186747630735577\n"
     ]
    },
    {
     "data": {
      "image/png": "[encoded data removed]",
      "text/plain": [
       "<Figure size 432x288 with 1 Axes>"
      ]
     },
     "metadata": {
      "needs_background": "light"
     },
     "output_type": "display_data"
    },
    {
     "data": {
      "image/png": "[encoded data removed]",
      "text/plain": [
       "<Figure size 432x288 with 1 Axes>"
      ]
     },
     "metadata": {
      "needs_background": "light"
     },
     "output_type": "display_data"
    },
    {
     "name": "stdout",
     "output_type": "stream",
     "text": [
      "-0.031957110204556376\n",
      "-0.031957110204556376\n"
     ]
    },
    {
     "data": {
      "image/png": "[encoded data removed]",
      "text/plain": [
       "<Figure size 432x288 with 1 Axes>"
      ]
     },
     "metadata": {
      "needs_background": "light"
     },
     "output_type": "display_data"
    },
    {
     "data": {
      "image/png": "[encoded data removed]",
      "text/plain": [
       "<Figure size 432x288 with 1 Axes>"
      ]
     },
     "metadata": {
      "needs_background": "light"
     },
     "output_type": "display_data"
    },
    {
     "name": "stdout",
     "output_type": "stream",
     "text": [
      "-0.005143522887113828\n",
      "-0.005143522887113828\n"
     ]
    },
    {
     "data": {
      "image/png": "[encoded data removed]",
      "text/plain": [
       "<Figure size 432x288 with 1 Axes>"
      ]
     },
     "metadata": {
      "needs_background": "light"
     },
     "output_type": "display_data"
    },
    {
     "data": {
      "image/png": "[encoded data removed]",
      "text/plain": [
       "<Figure size 432x288 with 1 Axes>"
      ]
     },
     "metadata": {
      "needs_background": "light"
     },
     "output_type": "display_data"
    },
    {
     "name": "stdout",
     "output_type": "stream",
     "text": [
      "0.4002190202148617\n",
      "0.4002190202148617\n"
     ]
    },
    {
     "data": {
      "image/png": "[encoded data removed]",
      "text/plain": [
       "<Figure size 432x288 with 1 Axes>"
      ]
     },
     "metadata": {
      "needs_background": "light"
     },
     "output_type": "display_data"
    },
    {
     "data": {
      "image/png": "[encoded data removed]",
      "text/plain": [
       "<Figure size 432x288 with 1 Axes>"
      ]
     },
     "metadata": {
      "needs_background": "light"
     },
     "output_type": "display_data"
    },
    {
     "name": "stdout",
     "output_type": "stream",
     "text": [
      "-0.06892505328279414\n",
      "-0.06892505328279414\n"
     ]
    }
   ],
   "source": [
    "list_of_platforms=['PC','PS4','PS3','WiiU','XOne']\n",
    "for i in list_of_platforms:\n",
    "    plt.scatter(x=df_actual.query('platform==@i')['critic_score'], y=df_actual.query('platform==@i')['sales_total'])\n",
    "    plt.show()\n",
    "    plt.scatter(x=df_actual.query('platform==@i')['user_score'], y=df_actual.query('platform==@i')['sales_total'])\n",
    "    plt.show()\n",
    "    print(df_actual.query('platform==@i')['critic_score'].corr(df_actual.query('platform==@i')['sales_total']))\n",
    "    print(df_actual.query('platform==@i')['user_score'].corr(df_actual.query('platform==@i')['sales_total']))"
   ]
  },
  {
   "cell_type": "markdown",
   "metadata": {},
   "source": [
    "</font><font color='Blue'><b>если взять платформы, которые в актуальном периоде играют значительную роль (занимают существенную долю рынка), и посмотреть на коэффициенты корреляции, то можно заметить, что между оценками пользователей и критиков и общими продажами есть в большинстве случаев слабая отрицательная корреляция, что дает намек на то, что чем выше оценка, тем нижу продажи, но такой вывод ненадежен из-за величины коэффициента корреляции.Однако, у одной из платформ есть достаточно сильная положительная зависимость между продажами и оценкой. Мы не можем полностью исключить влияние оценок пользователей и критиков на продажи по платформам. <b></font><br>"
   ]
  },
  {
   "cell_type": "code",
   "execution_count": 30,
   "metadata": {},
   "outputs": [
    {
     "data": {
      "text/plain": [
       "<AxesSubplot:xlabel='genre'>"
      ]
     },
     "execution_count": 30,
     "metadata": {},
     "output_type": "execute_result"
    },
    {
     "data": {
      "image/png": "[encoded data removed]",
      "text/plain": [
       "<Figure size 720x360 with 1 Axes>"
      ]
     },
     "metadata": {
      "needs_background": "light"
     },
     "output_type": "display_data"
    }
   ],
   "source": [
    "genre_sales=df_actual.pivot_table(values='sales_total',index='genre',aggfunc='sum')\n",
    "genre_sales.sort_values(by='sales_total').plot(kind='bar',figsize=(10, 5),grid=True)"
   ]
  },
  {
   "cell_type": "markdown",
   "metadata": {},
   "source": [
    "Выделются жанры как с самыми низкими продажами (Стратегии, приключения и головоломки), и с самыми высокими продажами (Экшн, Спорт, Боевики, Ролевые). Это можно объяснить качеством игр-к прримеру, игры в жанре экшн создать гораздо сложнее, чем те-же головоломки из-за большого количества стратегий и прочих фичей, они более продуманные, качественные, и соответственно спрос на них выше)"
   ]
  },
  {
   "cell_type": "code",
   "execution_count": 31,
   "metadata": {},
   "outputs": [
    {
     "data": {
      "image/png": "[encoded data removed]",
      "text/plain": [
       "<Figure size 1080x720 with 1 Axes>"
      ]
     },
     "metadata": {
      "needs_background": "light"
     },
     "output_type": "display_data"
    }
   ],
   "source": [
    "df_actual.boxplot(column='sales_total', by='genre',figsize=(15, 10)).set_ylim(0,2)\n",
    "plt.show()"
   ]
  },
  {
   "cell_type": "markdown",
   "metadata": {},
   "source": [
    "</font><font color='Blue'><b> *Если сравнивать медианные продажи по жанрам, тогда можно будет выделить жанры Shooter and Sports, где медианные продажи среди всех платформ были наивысшие (около 600 тыс), в то время как медианные продажи жанра Экшн сильно проигрывают данным жанрам.</b></font><br>"
   ]
  },
  {
   "cell_type": "markdown",
   "metadata": {},
   "source": [
    "**Шаг 4: портрет пользователя каждого региона**"
   ]
  },
  {
   "cell_type": "markdown",
   "metadata": {},
   "source": [
    "*Возьмем актуальныю дату для составления портретов по регионам*"
   ]
  },
  {
   "cell_type": "code",
   "execution_count": 32,
   "metadata": {},
   "outputs": [
    {
     "data": {
      "text/plain": [
       "array([<AxesSubplot:ylabel='eu_sales'>, <AxesSubplot:ylabel='jp_sales'>,\n",
       "       <AxesSubplot:ylabel='na_sales'>], dtype=object)"
      ]
     },
     "execution_count": 32,
     "metadata": {},
     "output_type": "execute_result"
    },
    {
     "data": {
      "image/png": "[encoded data removed]",
      "text/plain": [
       "<Figure size 1440x720 with 3 Axes>"
      ]
     },
     "metadata": {},
     "output_type": "display_data"
    }
   ],
   "source": [
    "region_sales=df_actual.pivot_table(values=['na_sales','eu_sales','jp_sales'],index='platform',aggfunc='sum')\n",
    "region_sales.sort_values(by=['na_sales','eu_sales','jp_sales']).plot(kind='pie',figsize=(20, 10),grid=True, subplots=True,legend=False,title=\"Platforms\",autopct='%.2f%%')"
   ]
  },
  {
   "cell_type": "markdown",
   "metadata": {},
   "source": [
    "</font><font color='Blue'><b>В Европе самые популярные:PS4,PS3, X360, Xone, 3DS\n",
    "    \n",
    "В Японии:PS4,PS3,3DS, PSV, WiiU\n",
    "    \n",
    "В Северной Америке:PS4,PS3,X360, XOne, 3DS </b></font><br>"
   ]
  },
  {
   "cell_type": "code",
   "execution_count": 33,
   "metadata": {},
   "outputs": [
    {
     "data": {
      "text/plain": [
       "array([<AxesSubplot:ylabel='eu_sales'>, <AxesSubplot:ylabel='jp_sales'>,\n",
       "       <AxesSubplot:ylabel='na_sales'>], dtype=object)"
      ]
     },
     "execution_count": 33,
     "metadata": {},
     "output_type": "execute_result"
    },
    {
     "data": {
      "image/png": "[encoded data removed]",
      "text/plain": [
       "<Figure size 1440x720 with 3 Axes>"
      ]
     },
     "metadata": {},
     "output_type": "display_data"
    }
   ],
   "source": [
    "region_sales=df_actual.pivot_table(values=['na_sales','eu_sales','jp_sales'],index='genre',aggfunc='sum')\n",
    "region_sales.sort_values(by=['na_sales','eu_sales','jp_sales']).plot(kind='pie',figsize=(20, 10),grid=True,subplots=True,legend=False,title=\"Genres\",autopct='%.2f%%')"
   ]
  },
  {
   "cell_type": "markdown",
   "metadata": {},
   "source": [
    "</font><font color='Blue'><b>В Европе самые популярные: Action, Shooter, Sports, Role-playing, Racing\n",
    "    \n",
    "В Японии: Action, Role-playing, - the most popular, and the rest of genres have particularly the same share (Simulation, Shooter, Fighting, Misc)\n",
    "    \n",
    "В Северной Америке:Action, Shooter, Sports, Role-playing, Misc\n",
    "\n",
    "*выбор жанров скорее всего будет отражать местную куьтуру: если северная америка с европой еще +- имеют схожий менталитет людей, то Японцы сильно отличаются, отсюда и выбор Ролевых игр (самая большая доля) по сравнению с боевиками и тд.*Можно также провести связь с популярными жанрами в киноиндустрии, а как раз на ней потенциально основывается большинство игр </b></font><br>\n"
   ]
  },
  {
   "cell_type": "code",
   "execution_count": 39,
   "metadata": {},
   "outputs": [
    {
     "data": {
      "image/png": "[encoded data removed]",
      "text/plain": [
       "<Figure size 1080x360 with 3 Axes>"
      ]
     },
     "metadata": {},
     "output_type": "display_data"
    }
   ],
   "source": [
    "\n",
    "games_fresh = df_actual.copy()\n",
    "countries = games_fresh.columns[4:7]\n",
    "# начертим круговую диаграмму для каждого региона\n",
    "fig, axs = plt.subplots(1, 3, figsize=(15, 5))\n",
    "fig.suptitle('ТОП-5 жанров в регионах')\n",
    "for i in range(3):\n",
    "  # выберем 5 самых продающих жанров\n",
    "  df_i = (games_fresh.groupby('genre')[countries[i]].sum().\n",
    "             reset_index().\n",
    "             sort_values(countries[i], ascending = False, ignore_index = True).\n",
    "             head(5))\n",
    "  # занесем все остальыне продажи в другие жанры\n",
    "  df_i = df_i.append({'genre': 'Other_genre', countries[i]: games_fresh[countries[i]].sum() - df_i[countries[i]].sum()}, ignore_index= True)\n",
    "  axs[i].pie(df_i[countries[i]], labels = df_i['genre'], autopct='%1.1f%%')\n",
    "  # Зададим название региона.\n",
    "  axs[i].set_title(df_i.columns[1].split('_')[0].upper())\n",
    "plt.show()"
   ]
  },
  {
   "cell_type": "code",
   "execution_count": 34,
   "metadata": {},
   "outputs": [
    {
     "data": {
      "image/png": "[encoded data removed]",
      "text/plain": [
       "<Figure size 432x288 with 1 Axes>"
      ]
     },
     "metadata": {
      "needs_background": "light"
     },
     "output_type": "display_data"
    },
    {
     "data": {
      "image/png": "[encoded data removed]",
      "text/plain": [
       "<Figure size 432x288 with 1 Axes>"
      ]
     },
     "metadata": {
      "needs_background": "light"
     },
     "output_type": "display_data"
    },
    {
     "data": {
      "image/png": "[encoded data removed]",
      "text/plain": [
       "<Figure size 432x288 with 1 Axes>"
      ]
     },
     "metadata": {
      "needs_background": "light"
     },
     "output_type": "display_data"
    }
   ],
   "source": [
    "plt.scatter(df_actual['rating'], df_actual['na_sales'])\n",
    "plt.show()\n",
    "plt.scatter(df_actual['rating'], df_actual['jp_sales'])\n",
    "plt.show()\n",
    "plt.scatter(df_actual['rating'], df_actual['eu_sales'])\n",
    "plt.show()"
   ]
  },
  {
   "cell_type": "markdown",
   "metadata": {},
   "source": [
    "Если погрузиться в детали описания данного рейтинга, то \n",
    "1. «T» («Teen») — «Подросткам» \n",
    "2. «M» («Mature») — «Для взрослых» \n",
    "3. «E10+» («Everyone 10 and older») \n",
    "4. «E» («Everyone») — «Для всех» \n",
    "*я не верена, что подобрала подходящий способ поиска зависимости, я бы пошла через регрессию,однако данный график показывает, что в Северной Америке и Европе игры для взрослых более продаваемы, чем остальные категории, в то время как в Японии наиболее продаваемы игры для всех возрастных категорий.*"
   ]
  },
  {
   "cell_type": "markdown",
   "metadata": {},
   "source": [
    "**Соответственно**\n",
    "1. Европейцы: пользователи, выбирающие игры для взрослых (Это можно объяснить тем, что большинство игр-боевиков и в жанре экшн 18+), предпочитающие игры жанров Action, Shooter, Sports, Role-playing, Racing на платформах PS4,PS3, X360, Xone, 3DS\n",
    "2. В Японии пользователи предпочтут Action, Role-playing (иры для всех) на плфтформах PS4,PS3,3DS, PSV, WiiU\n",
    "3. В Северной Америке пользователи выберут игры для взрослых в жанре Action, Shooter, Sports, Role-playing, Misc, используя PS4,PS3,X360, XOne, 3DS\n",
    "\n",
    "   "
   ]
  },
  {
   "cell_type": "markdown",
   "metadata": {},
   "source": [
    "**Проверка гипотез**"
   ]
  },
  {
   "cell_type": "markdown",
   "metadata": {},
   "source": [
    "•\tСредние пользовательские рейтинги платформ Xbox One и PC одинаковые;\n",
    "\n",
    "•\tСредние пользовательские рейтинги жанров Action и Sports одинаковые.\n",
    "\n",
    "(альтернативные гипотезы- рейтинги разные)\n"
   ]
  },
  {
   "cell_type": "markdown",
   "metadata": {},
   "source": [
    "</font><font color='Blue'><b> Нам нужно проверить гипотезу о равенстве среднего двух генеральных совокупностей по взятым из них выборкам, укажем equal_var = False, тк мы не можем считать равными дисперсии данных выборок. Для проверки будет использован T-test, тк исходные данные имеют приблизительно нормальное распределение, нулевые гипотезы сформулированы следующим образом: \n",
    "\n",
    "• Средние пользовательские рейтинги платформ Xbox One и PC одинаковые;\n",
    "\n",
    "• Средние пользовательские рейтинги жанров Action и Sports одинаковые.\n",
    "\n",
    "(альтернативные гипотезы- рейтинги разные)</b></font><br>"
   ]
  },
  {
   "cell_type": "code",
   "execution_count": 35,
   "metadata": {},
   "outputs": [
    {
     "name": "stdout",
     "output_type": "stream",
     "text": [
      "p-значение: 0.5489537965134912\n",
      "Не получилось отвергнуть нулевую гипотезу\n"
     ]
    }
   ],
   "source": [
    "from scipy import stats as st\n",
    "#возьмем стандартный уровень статистической значимости\n",
    "alpha=0.5\n",
    "#тк population в нашем случае получить невозможно, тестируем 2 samples\n",
    "sample_1=df_actual.query('platform==\"XOne\"')['user_score'].dropna()\n",
    "sample_2=df_actual.query('platform==\"PC\"')['user_score'].dropna()\n",
    "results = st.ttest_ind(\n",
    "    sample_1, \n",
    "    sample_2,\n",
    "    equal_var = False )\n",
    "\n",
    "print('p-значение:', results.pvalue)\n",
    "\n",
    "if results.pvalue < alpha:\n",
    "    print(\"Отвергаем нулевую гипотезу\")\n",
    "else:\n",
    "    print(\"Не получилось отвергнуть нулевую гипотезу\") \n"
   ]
  },
  {
   "cell_type": "code",
   "execution_count": 36,
   "metadata": {},
   "outputs": [
    {
     "data": {
      "text/plain": [
       "<AxesSubplot:>"
      ]
     },
     "execution_count": 36,
     "metadata": {},
     "output_type": "execute_result"
    },
    {
     "data": {
      "image/png": "[encoded data removed]",
      "text/plain": [
       "<Figure size 432x288 with 1 Axes>"
      ]
     },
     "metadata": {
      "needs_background": "light"
     },
     "output_type": "display_data"
    }
   ],
   "source": [
    "sample_2.hist()\n",
    "sample_1.hist()"
   ]
  },
  {
   "cell_type": "markdown",
   "metadata": {},
   "source": [
    "*разница в рейтингах небольшая*"
   ]
  },
  {
   "cell_type": "markdown",
   "metadata": {},
   "source": [
    "мы принимаем тот факт, что средние пользовательские рейтинги платформ Xbox One и PC одинаковы в соответствии с нашей нулевой гипотезой"
   ]
  },
  {
   "cell_type": "code",
   "execution_count": 37,
   "metadata": {},
   "outputs": [
    {
     "name": "stdout",
     "output_type": "stream",
     "text": [
      "p-значение: 4.24307776572644e-20\n",
      "Отвергаем нулевую гипотезу\n"
     ]
    }
   ],
   "source": [
    "alpha=0.5\n",
    "#тк population в нашем случае получить невозможно, тестируем 2 samples\n",
    "sample_3=df_actual.query('genre==\"Action\"')['user_score'].dropna()\n",
    "sample_4=df_actual.query('genre==\"Sports\"')['user_score'].dropna()\n",
    "results = st.ttest_ind(\n",
    "    sample_3, \n",
    "    sample_4,\n",
    "    equal_var = False )\n",
    "\n",
    "print('p-значение:', results.pvalue)\n",
    "\n",
    "if results.pvalue < alpha:\n",
    "    print(\"Отвергаем нулевую гипотезу\")\n",
    "else:\n",
    "    print(\"Не получилось отвергнуть нулевую гипотезу\") \n"
   ]
  },
  {
   "cell_type": "code",
   "execution_count": 38,
   "metadata": {},
   "outputs": [
    {
     "data": {
      "text/plain": [
       "<AxesSubplot:>"
      ]
     },
     "execution_count": 38,
     "metadata": {},
     "output_type": "execute_result"
    },
    {
     "data": {
      "image/png": "[encoded data removed]",
      "text/plain": [
       "<Figure size 432x288 with 1 Axes>"
      ]
     },
     "metadata": {
      "needs_background": "light"
     },
     "output_type": "display_data"
    }
   ],
   "source": [
    "sample_3.hist()\n",
    "sample_4.hist()"
   ]
  },
  {
   "cell_type": "markdown",
   "metadata": {},
   "source": [
    "наглядно показана разница в рейтингах разных жанров"
   ]
  },
  {
   "cell_type": "markdown",
   "metadata": {},
   "source": [
    "*На основании проведенного теста делаем вывод о том, что средние пользовательские рейтинги жанров Action и Sports разные, так как нулевая гипотеза была отвергнута при alpha = 0.05.*"
   ]
  },
  {
   "cell_type": "markdown",
   "metadata": {},
   "source": [
    "**Главный вывод:**\n",
    "\n",
    "Если опраться на те года, которые у нас есть, можно сказать, что выделются жанры как с самыми низкими продажами (Стратегии, приключения и головоломки), и с самыми высокими продажами (Экшн, Спорт, Боевики, Ролевые). И вероятнее всего в 2017м игры таких жанров: Экшн, Спорт, Боевики, Ролевые будут все еще популярны на мировом рынке и занимать большую долю, однако эти данные сильно варьируются от платформы к платформе, далее расскажу про медианные продажи на которые и сотоит делать основной акцент. Предположение о том, что рейтинг игры влияет на продажи, я не смогла ни подтвердить ни опровергнуть: по результатам исследования, уровень корреляции Пирсона достаточно низкий, где-то отрицательный, а где-ио небольшой положиетльный. В целом популярность компьютерных игр на платфрмах имеет тренд на снижение с 2008 года.\n",
    "\n",
    "Говоря про платформы: текущие данные показывают на цикл популярности каждой из платформ примерно в течение 5 лет, от начала роста популярности и до спада. Можно предположить что в 2017 на такие платформы как XOne, 3DS and Ps4 придется значительная доля рынка. Остальные платформы показывают сильное снижение в продажах, есть верятность, что они пропадут в 2017.\n",
    "\n",
    "На основании проведенного исследования был составлен портрет пользователя по каждому из представленных регионов\n",
    "1. Европейцы: пользователи, выбирающие игры для взрослых (Это можно объяснить тем, что большинство игр-боевиков и в жанре экшн 18+), предпочитающие игры жанров Action, Shooter, Sports, Role-playing, Racing на платформах PS4,PS3, X360, Xone, 3DS\n",
    "2. В Японии пользователи предпочтут Action, Role-playing (иры для всех) на плфтформах PS4,PS3,3DS, PSV, WiiU\n",
    "3. В Северной Америке пользователи выберут игры для взрослых в жанре Action, Shooter, Sports, Role-playing, Misc, используя PS4,PS3,X360, XOne, 3DS\n",
    "\n",
    "Если сравнивать медианные продажи по жанрам, тогда можно будет выделить жанры Shooter and Sports, где медианные продажи среди всех платформ были наивысшие (около 600 тыс), в то время как медианные продажи жанра Экшн сильно проигрывают данным жанрам. Згачит, наиболее sustainable option будут именно эти жанры.\n",
    "\n",
    "Было проверено 2 гипотезы о средних пользовательских рейтингах:\n",
    "\n",
    "•\tСредние пользовательские рейтинги платформ Xbox One и PC одинаковые;\n",
    "\n",
    "•\tСредние пользовательские рейтинги жанров Action и Sports одинаковые.\n",
    "\n",
    "- на основании статистических тестов, мы заключили, что средние пользовательские рейтинги платформ Xbox One и PC одинаковы; а редние пользовательские рейтинги жанров Action и Sports разные на уровне статистической значимости 95%.\n",
    "\n",
    "Значит, можно запстить рекламную компанию игр жанров Shooter and Sports на платформах XOne, 3DS and Ps4 в Европе и(или) Северной Америке."
   ]
  }
 ],
 "metadata": {
  "ExecuteTimeLog": [
   {
    "duration": 1576,
    "start_time": "2022-11-14T09:05:31.528Z"
   },
   {
    "duration": 77,
    "start_time": "2022-11-14T09:05:42.809Z"
   },
   {
    "duration": 14,
    "start_time": "2022-11-14T09:05:53.769Z"
   },
   {
    "duration": 110,
    "start_time": "2022-11-14T09:17:18.460Z"
   },
   {
    "duration": 48,
    "start_time": "2022-11-14T09:18:50.487Z"
   },
   {
    "duration": 48,
    "start_time": "2022-11-14T09:20:23.799Z"
   },
   {
    "duration": 45,
    "start_time": "2022-11-14T09:20:29.697Z"
   },
   {
    "duration": 4,
    "start_time": "2022-11-14T09:22:04.732Z"
   },
   {
    "duration": 71,
    "start_time": "2022-11-14T09:26:01.370Z"
   },
   {
    "duration": 13,
    "start_time": "2022-11-14T09:26:15.361Z"
   },
   {
    "duration": 14,
    "start_time": "2022-11-14T09:28:54.511Z"
   },
   {
    "duration": 2,
    "start_time": "2022-11-14T09:29:00.598Z"
   },
   {
    "duration": 9,
    "start_time": "2022-11-14T09:29:27.373Z"
   },
   {
    "duration": 70,
    "start_time": "2022-11-14T09:32:39.368Z"
   },
   {
    "duration": 739,
    "start_time": "2022-11-14T09:37:28.786Z"
   },
   {
    "duration": 16,
    "start_time": "2022-11-14T09:37:47.007Z"
   },
   {
    "duration": 20,
    "start_time": "2022-11-14T09:38:57.857Z"
   },
   {
    "duration": 21,
    "start_time": "2022-11-14T09:39:49.658Z"
   },
   {
    "duration": 13,
    "start_time": "2022-11-14T09:40:03.119Z"
   },
   {
    "duration": 6,
    "start_time": "2022-11-14T09:40:20.441Z"
   },
   {
    "duration": 25,
    "start_time": "2022-11-14T09:40:37.259Z"
   },
   {
    "duration": 28,
    "start_time": "2022-11-14T09:42:11.780Z"
   },
   {
    "duration": 15,
    "start_time": "2022-11-14T09:42:25.281Z"
   },
   {
    "duration": 16,
    "start_time": "2022-11-14T09:44:32.297Z"
   },
   {
    "duration": 4,
    "start_time": "2022-11-14T09:45:30.312Z"
   },
   {
    "duration": 14,
    "start_time": "2022-11-14T09:45:50.564Z"
   },
   {
    "duration": 15,
    "start_time": "2022-11-14T09:49:00.406Z"
   },
   {
    "duration": 13,
    "start_time": "2022-11-14T09:49:08.766Z"
   },
   {
    "duration": 23,
    "start_time": "2022-11-14T09:53:19.404Z"
   },
   {
    "duration": 9,
    "start_time": "2022-11-14T09:55:44.287Z"
   },
   {
    "duration": 11,
    "start_time": "2022-11-14T09:56:21.470Z"
   },
   {
    "duration": 9,
    "start_time": "2022-11-14T09:56:35.665Z"
   },
   {
    "duration": 20,
    "start_time": "2022-11-14T09:56:43.901Z"
   },
   {
    "duration": 8,
    "start_time": "2022-11-14T09:57:48.161Z"
   },
   {
    "duration": 8,
    "start_time": "2022-11-14T09:58:07.287Z"
   },
   {
    "duration": 5,
    "start_time": "2022-11-14T09:59:08.069Z"
   },
   {
    "duration": 20,
    "start_time": "2022-11-14T10:00:35.334Z"
   },
   {
    "duration": 5,
    "start_time": "2022-11-14T10:01:46.563Z"
   },
   {
    "duration": 5,
    "start_time": "2022-11-14T10:09:25.839Z"
   },
   {
    "duration": 81,
    "start_time": "2022-11-14T10:10:19.297Z"
   },
   {
    "duration": 15,
    "start_time": "2022-11-14T10:10:47.664Z"
   },
   {
    "duration": 4,
    "start_time": "2022-11-14T10:11:09.526Z"
   },
   {
    "duration": 4,
    "start_time": "2022-11-14T10:17:02.021Z"
   },
   {
    "duration": 6,
    "start_time": "2022-11-14T10:17:17.806Z"
   },
   {
    "duration": 17,
    "start_time": "2022-11-14T10:18:47.393Z"
   },
   {
    "duration": 537,
    "start_time": "2022-11-14T10:19:53.498Z"
   },
   {
    "duration": 8,
    "start_time": "2022-11-14T10:20:21.410Z"
   },
   {
    "duration": 16,
    "start_time": "2022-11-14T10:20:38.960Z"
   },
   {
    "duration": 11,
    "start_time": "2022-11-14T10:22:21.481Z"
   },
   {
    "duration": 15,
    "start_time": "2022-11-14T10:22:27.686Z"
   },
   {
    "duration": 142,
    "start_time": "2022-11-14T10:22:59.087Z"
   },
   {
    "duration": 180,
    "start_time": "2022-11-14T10:23:20.236Z"
   },
   {
    "duration": 122,
    "start_time": "2022-11-14T10:24:07.076Z"
   },
   {
    "duration": 386,
    "start_time": "2022-11-14T10:24:11.531Z"
   },
   {
    "duration": 43,
    "start_time": "2022-11-14T10:25:51.175Z"
   },
   {
    "duration": 300,
    "start_time": "2022-11-14T10:28:07.333Z"
   },
   {
    "duration": 15,
    "start_time": "2022-11-14T10:29:45.217Z"
   },
   {
    "duration": 28,
    "start_time": "2022-11-14T10:32:04.586Z"
   },
   {
    "duration": 25,
    "start_time": "2022-11-14T10:32:34.045Z"
   },
   {
    "duration": 24,
    "start_time": "2022-11-14T10:33:12.068Z"
   },
   {
    "duration": 64,
    "start_time": "2022-11-14T10:35:22.103Z"
   },
   {
    "duration": 29,
    "start_time": "2022-11-14T10:35:41.175Z"
   },
   {
    "duration": 8,
    "start_time": "2022-11-14T10:45:37.240Z"
   },
   {
    "duration": 495,
    "start_time": "2022-11-14T10:45:41.716Z"
   },
   {
    "duration": 6,
    "start_time": "2022-11-14T10:50:33.446Z"
   },
   {
    "duration": 729,
    "start_time": "2022-11-14T10:52:10.931Z"
   },
   {
    "duration": 52,
    "start_time": "2022-11-14T10:53:36.875Z"
   },
   {
    "duration": 11,
    "start_time": "2022-11-14T10:54:52.759Z"
   },
   {
    "duration": 26,
    "start_time": "2022-11-14T10:54:59.782Z"
   },
   {
    "duration": 431,
    "start_time": "2022-11-14T10:55:16.270Z"
   },
   {
    "duration": 726,
    "start_time": "2022-11-14T10:57:28.030Z"
   },
   {
    "duration": 328,
    "start_time": "2022-11-14T10:57:32.120Z"
   },
   {
    "duration": 76,
    "start_time": "2022-11-14T11:04:27.058Z"
   },
   {
    "duration": 16,
    "start_time": "2022-11-14T11:08:09.498Z"
   },
   {
    "duration": 36,
    "start_time": "2022-11-14T11:08:16.377Z"
   },
   {
    "duration": 16,
    "start_time": "2022-11-14T11:08:57.630Z"
   },
   {
    "duration": 17,
    "start_time": "2022-11-14T11:10:58.807Z"
   },
   {
    "duration": 16,
    "start_time": "2022-11-14T11:11:10.282Z"
   },
   {
    "duration": 15,
    "start_time": "2022-11-14T11:11:12.995Z"
   },
   {
    "duration": 18,
    "start_time": "2022-11-14T11:11:19.273Z"
   },
   {
    "duration": 10,
    "start_time": "2022-11-14T11:11:44.587Z"
   },
   {
    "duration": 17,
    "start_time": "2022-11-14T11:11:53.361Z"
   },
   {
    "duration": 14,
    "start_time": "2022-11-14T11:12:09.513Z"
   },
   {
    "duration": 228,
    "start_time": "2022-11-14T11:12:12.491Z"
   },
   {
    "duration": 50,
    "start_time": "2022-11-14T11:15:56.612Z"
   },
   {
    "duration": 252,
    "start_time": "2022-11-14T11:16:57.783Z"
   },
   {
    "duration": 73,
    "start_time": "2022-11-14T11:17:10.843Z"
   },
   {
    "duration": 17,
    "start_time": "2022-11-14T11:19:54.419Z"
   },
   {
    "duration": 82,
    "start_time": "2022-11-14T14:34:56.245Z"
   },
   {
    "duration": 114,
    "start_time": "2022-11-14T14:36:32.308Z"
   },
   {
    "duration": 103,
    "start_time": "2022-11-14T14:36:58.551Z"
   },
   {
    "duration": 196,
    "start_time": "2022-11-14T14:37:05.691Z"
   },
   {
    "duration": 112,
    "start_time": "2022-11-14T14:37:24.796Z"
   },
   {
    "duration": 301,
    "start_time": "2022-11-14T14:37:42.661Z"
   },
   {
    "duration": 108,
    "start_time": "2022-11-14T15:00:11.860Z"
   },
   {
    "duration": 8,
    "start_time": "2022-11-14T15:09:38.326Z"
   },
   {
    "duration": 1984,
    "start_time": "2022-11-14T15:09:48.766Z"
   },
   {
    "duration": 26,
    "start_time": "2022-11-14T15:10:22.095Z"
   },
   {
    "duration": 7,
    "start_time": "2022-11-14T15:10:29.199Z"
   },
   {
    "duration": 6,
    "start_time": "2022-11-14T15:11:12.570Z"
   },
   {
    "duration": 5,
    "start_time": "2022-11-14T15:12:39.654Z"
   },
   {
    "duration": 27,
    "start_time": "2022-11-14T15:15:39.762Z"
   },
   {
    "duration": 19,
    "start_time": "2022-11-14T15:16:14.681Z"
   },
   {
    "duration": 19,
    "start_time": "2022-11-14T15:17:22.250Z"
   },
   {
    "duration": 7,
    "start_time": "2022-11-14T15:20:07.439Z"
   },
   {
    "duration": 354,
    "start_time": "2022-11-14T15:20:50.158Z"
   },
   {
    "duration": 339,
    "start_time": "2022-11-14T15:21:26.057Z"
   },
   {
    "duration": 220,
    "start_time": "2022-11-14T15:24:15.847Z"
   },
   {
    "duration": 251,
    "start_time": "2022-11-14T15:26:59.386Z"
   },
   {
    "duration": 366,
    "start_time": "2022-11-14T15:27:21.032Z"
   },
   {
    "duration": 295,
    "start_time": "2022-11-14T15:27:30.013Z"
   },
   {
    "duration": 44,
    "start_time": "2022-11-14T15:36:32.978Z"
   },
   {
    "duration": 115,
    "start_time": "2022-11-14T15:36:36.485Z"
   },
   {
    "duration": 13,
    "start_time": "2022-11-14T15:37:34.646Z"
   },
   {
    "duration": 20,
    "start_time": "2022-11-14T15:38:21.205Z"
   },
   {
    "duration": 13,
    "start_time": "2022-11-14T15:38:34.801Z"
   },
   {
    "duration": 17,
    "start_time": "2022-11-14T15:39:43.388Z"
   },
   {
    "duration": 4,
    "start_time": "2022-11-14T15:40:27.120Z"
   },
   {
    "duration": 16,
    "start_time": "2022-11-14T15:40:28.455Z"
   },
   {
    "duration": 924,
    "start_time": "2022-11-14T15:40:49.291Z"
   },
   {
    "duration": 16,
    "start_time": "2022-11-14T15:41:01.448Z"
   },
   {
    "duration": 129,
    "start_time": "2022-11-14T15:41:16.170Z"
   },
   {
    "duration": 128,
    "start_time": "2022-11-14T15:41:44.665Z"
   },
   {
    "duration": 102,
    "start_time": "2022-11-14T15:41:52.195Z"
   },
   {
    "duration": 111,
    "start_time": "2022-11-14T15:42:07.290Z"
   },
   {
    "duration": 315,
    "start_time": "2022-11-14T15:42:42.932Z"
   },
   {
    "duration": 201,
    "start_time": "2022-11-14T15:44:09.039Z"
   },
   {
    "duration": 196,
    "start_time": "2022-11-14T15:51:17.825Z"
   },
   {
    "duration": 199,
    "start_time": "2022-11-14T15:52:07.398Z"
   },
   {
    "duration": 955,
    "start_time": "2022-11-14T18:53:31.464Z"
   },
   {
    "duration": 17,
    "start_time": "2022-11-14T18:53:32.423Z"
   },
   {
    "duration": 24,
    "start_time": "2022-11-14T18:53:32.442Z"
   },
   {
    "duration": 20,
    "start_time": "2022-11-14T18:53:32.469Z"
   },
   {
    "duration": 30,
    "start_time": "2022-11-14T18:53:32.491Z"
   },
   {
    "duration": 39,
    "start_time": "2022-11-14T18:53:32.539Z"
   },
   {
    "duration": 10,
    "start_time": "2022-11-14T18:53:32.580Z"
   },
   {
    "duration": 50,
    "start_time": "2022-11-14T18:53:32.592Z"
   },
   {
    "duration": 7,
    "start_time": "2022-11-14T18:53:32.644Z"
   },
   {
    "duration": 32,
    "start_time": "2022-11-14T18:53:32.655Z"
   },
   {
    "duration": 6,
    "start_time": "2022-11-14T18:53:32.689Z"
   },
   {
    "duration": 13,
    "start_time": "2022-11-14T18:53:32.697Z"
   },
   {
    "duration": 26,
    "start_time": "2022-11-14T18:53:32.737Z"
   },
   {
    "duration": 21,
    "start_time": "2022-11-14T18:53:32.765Z"
   },
   {
    "duration": 454,
    "start_time": "2022-11-14T18:53:32.788Z"
   },
   {
    "duration": 375,
    "start_time": "2022-11-14T18:53:33.244Z"
   },
   {
    "duration": 61,
    "start_time": "2022-11-14T18:53:33.622Z"
   },
   {
    "duration": 623,
    "start_time": "2022-11-14T18:53:33.685Z"
   },
   {
    "duration": 225,
    "start_time": "2022-11-14T18:53:34.310Z"
   },
   {
    "duration": 995,
    "start_time": "2022-11-14T18:53:34.537Z"
   },
   {
    "duration": 384,
    "start_time": "2022-11-14T18:53:35.538Z"
   },
   {
    "duration": 374,
    "start_time": "2022-11-14T18:53:35.924Z"
   },
   {
    "duration": 240,
    "start_time": "2022-11-14T18:53:36.301Z"
   },
   {
    "duration": 255,
    "start_time": "2022-11-14T18:53:36.543Z"
   },
   {
    "duration": 271,
    "start_time": "2022-11-14T18:53:36.799Z"
   },
   {
    "duration": 283,
    "start_time": "2022-11-14T18:53:37.071Z"
   },
   {
    "duration": 18,
    "start_time": "2022-11-14T18:53:37.356Z"
   },
   {
    "duration": 364,
    "start_time": "2022-11-14T18:53:37.377Z"
   },
   {
    "duration": 77,
    "start_time": "2022-11-14T18:53:54.091Z"
   },
   {
    "duration": 6,
    "start_time": "2022-11-14T18:54:06.609Z"
   },
   {
    "duration": 12,
    "start_time": "2022-11-14T18:54:15.022Z"
   },
   {
    "duration": 648,
    "start_time": "2022-11-14T18:54:47.083Z"
   },
   {
    "duration": 73,
    "start_time": "2022-11-14T18:55:35.373Z"
   },
   {
    "duration": 11,
    "start_time": "2022-11-14T18:57:25.076Z"
   },
   {
    "duration": 9,
    "start_time": "2022-11-14T18:57:39.721Z"
   },
   {
    "duration": 13,
    "start_time": "2022-11-14T18:58:59.435Z"
   },
   {
    "duration": 12,
    "start_time": "2022-11-14T18:59:29.738Z"
   },
   {
    "duration": 26,
    "start_time": "2022-11-14T19:04:33.162Z"
   },
   {
    "duration": 24,
    "start_time": "2022-11-14T19:05:38.085Z"
   },
   {
    "duration": 23,
    "start_time": "2022-11-14T19:05:50.371Z"
   },
   {
    "duration": 17,
    "start_time": "2022-11-14T19:05:58.963Z"
   },
   {
    "duration": 12,
    "start_time": "2022-11-14T19:10:09.236Z"
   },
   {
    "duration": 5,
    "start_time": "2022-11-14T19:11:55.078Z"
   },
   {
    "duration": 13,
    "start_time": "2022-11-14T19:12:13.763Z"
   },
   {
    "duration": 53,
    "start_time": "2022-11-14T21:13:50.773Z"
   },
   {
    "duration": 1003,
    "start_time": "2022-11-14T21:14:04.203Z"
   },
   {
    "duration": 15,
    "start_time": "2022-11-14T21:14:05.208Z"
   },
   {
    "duration": 9,
    "start_time": "2022-11-14T21:14:05.224Z"
   },
   {
    "duration": 16,
    "start_time": "2022-11-14T21:14:05.235Z"
   },
   {
    "duration": 46,
    "start_time": "2022-11-14T21:14:05.253Z"
   },
   {
    "duration": 23,
    "start_time": "2022-11-14T21:14:05.301Z"
   },
   {
    "duration": 13,
    "start_time": "2022-11-14T21:14:05.325Z"
   },
   {
    "duration": 27,
    "start_time": "2022-11-14T21:14:05.339Z"
   },
   {
    "duration": 6,
    "start_time": "2022-11-14T21:14:05.368Z"
   },
   {
    "duration": 24,
    "start_time": "2022-11-14T21:14:05.375Z"
   },
   {
    "duration": 5,
    "start_time": "2022-11-14T21:14:05.400Z"
   },
   {
    "duration": 15,
    "start_time": "2022-11-14T21:14:05.407Z"
   },
   {
    "duration": 27,
    "start_time": "2022-11-14T21:14:05.423Z"
   },
   {
    "duration": 25,
    "start_time": "2022-11-14T21:14:05.452Z"
   },
   {
    "duration": 358,
    "start_time": "2022-11-14T21:14:05.479Z"
   },
   {
    "duration": 294,
    "start_time": "2022-11-14T21:14:05.838Z"
   },
   {
    "duration": 30,
    "start_time": "2022-11-14T21:14:06.133Z"
   },
   {
    "duration": 551,
    "start_time": "2022-11-14T21:14:06.164Z"
   },
   {
    "duration": 218,
    "start_time": "2022-11-14T21:14:06.717Z"
   },
   {
    "duration": 888,
    "start_time": "2022-11-14T21:14:06.938Z"
   },
   {
    "duration": 314,
    "start_time": "2022-11-14T21:14:07.827Z"
   },
   {
    "duration": 331,
    "start_time": "2022-11-14T21:14:08.142Z"
   },
   {
    "duration": 211,
    "start_time": "2022-11-14T21:14:08.475Z"
   },
   {
    "duration": 217,
    "start_time": "2022-11-14T21:14:08.688Z"
   },
   {
    "duration": 228,
    "start_time": "2022-11-14T21:14:08.907Z"
   },
   {
    "duration": 251,
    "start_time": "2022-11-14T21:14:09.137Z"
   },
   {
    "duration": 18,
    "start_time": "2022-11-14T21:14:09.390Z"
   },
   {
    "duration": 305,
    "start_time": "2022-11-14T21:14:09.410Z"
   },
   {
    "duration": 532,
    "start_time": "2022-11-14T21:14:09.716Z"
   },
   {
    "duration": 11,
    "start_time": "2022-11-14T21:14:10.249Z"
   },
   {
    "duration": 12,
    "start_time": "2022-11-14T21:16:57.149Z"
   },
   {
    "duration": 14,
    "start_time": "2022-11-14T21:19:17.881Z"
   },
   {
    "duration": 110,
    "start_time": "2022-11-14T21:22:05.919Z"
   },
   {
    "duration": 296,
    "start_time": "2022-11-14T21:22:18.914Z"
   },
   {
    "duration": 684,
    "start_time": "2022-11-14T23:52:22.601Z"
   },
   {
    "duration": 12,
    "start_time": "2022-11-14T23:52:23.286Z"
   },
   {
    "duration": 8,
    "start_time": "2022-11-14T23:52:23.299Z"
   },
   {
    "duration": 13,
    "start_time": "2022-11-14T23:52:23.308Z"
   },
   {
    "duration": 51,
    "start_time": "2022-11-14T23:52:23.323Z"
   },
   {
    "duration": 22,
    "start_time": "2022-11-14T23:52:23.375Z"
   },
   {
    "duration": 19,
    "start_time": "2022-11-14T23:52:23.399Z"
   },
   {
    "duration": 50,
    "start_time": "2022-11-14T23:52:23.419Z"
   },
   {
    "duration": 6,
    "start_time": "2022-11-14T23:52:23.470Z"
   },
   {
    "duration": 19,
    "start_time": "2022-11-14T23:52:23.478Z"
   },
   {
    "duration": 5,
    "start_time": "2022-11-14T23:52:23.498Z"
   },
   {
    "duration": 35,
    "start_time": "2022-11-14T23:52:23.505Z"
   },
   {
    "duration": 28,
    "start_time": "2022-11-14T23:52:23.541Z"
   },
   {
    "duration": 14,
    "start_time": "2022-11-14T23:52:23.571Z"
   },
   {
    "duration": 329,
    "start_time": "2022-11-14T23:52:23.587Z"
   },
   {
    "duration": 270,
    "start_time": "2022-11-14T23:52:23.918Z"
   },
   {
    "duration": 24,
    "start_time": "2022-11-14T23:52:24.190Z"
   },
   {
    "duration": 469,
    "start_time": "2022-11-14T23:52:24.216Z"
   },
   {
    "duration": 208,
    "start_time": "2022-11-14T23:52:24.687Z"
   },
   {
    "duration": 805,
    "start_time": "2022-11-14T23:52:24.897Z"
   },
   {
    "duration": 273,
    "start_time": "2022-11-14T23:52:25.704Z"
   },
   {
    "duration": 300,
    "start_time": "2022-11-14T23:52:25.979Z"
   },
   {
    "duration": 208,
    "start_time": "2022-11-14T23:52:26.281Z"
   },
   {
    "duration": 194,
    "start_time": "2022-11-14T23:52:26.491Z"
   },
   {
    "duration": 214,
    "start_time": "2022-11-14T23:52:26.686Z"
   },
   {
    "duration": 224,
    "start_time": "2022-11-14T23:52:26.901Z"
   },
   {
    "duration": 15,
    "start_time": "2022-11-14T23:52:27.126Z"
   },
   {
    "duration": 298,
    "start_time": "2022-11-14T23:52:27.143Z"
   },
   {
    "duration": 510,
    "start_time": "2022-11-14T23:52:27.442Z"
   },
   {
    "duration": 11,
    "start_time": "2022-11-14T23:52:27.954Z"
   },
   {
    "duration": 67,
    "start_time": "2022-11-15T00:02:19.822Z"
   },
   {
    "duration": 892,
    "start_time": "2022-11-15T08:41:37.063Z"
   },
   {
    "duration": 16,
    "start_time": "2022-11-15T08:41:37.957Z"
   },
   {
    "duration": 5,
    "start_time": "2022-11-15T08:41:37.975Z"
   },
   {
    "duration": 11,
    "start_time": "2022-11-15T08:41:37.982Z"
   },
   {
    "duration": 42,
    "start_time": "2022-11-15T08:41:37.995Z"
   },
   {
    "duration": 25,
    "start_time": "2022-11-15T08:41:38.039Z"
   },
   {
    "duration": 9,
    "start_time": "2022-11-15T08:41:38.066Z"
   },
   {
    "duration": 46,
    "start_time": "2022-11-15T08:41:38.077Z"
   },
   {
    "duration": 8,
    "start_time": "2022-11-15T08:41:38.125Z"
   },
   {
    "duration": 20,
    "start_time": "2022-11-15T08:41:38.135Z"
   },
   {
    "duration": 5,
    "start_time": "2022-11-15T08:41:38.157Z"
   },
   {
    "duration": 9,
    "start_time": "2022-11-15T08:41:38.163Z"
   },
   {
    "duration": 18,
    "start_time": "2022-11-15T08:41:38.173Z"
   },
   {
    "duration": 43,
    "start_time": "2022-11-15T08:41:38.193Z"
   },
   {
    "duration": 94,
    "start_time": "2022-11-15T08:41:38.238Z"
   },
   {
    "duration": 390,
    "start_time": "2022-11-15T08:41:38.333Z"
   },
   {
    "duration": 319,
    "start_time": "2022-11-15T08:41:38.725Z"
   },
   {
    "duration": 33,
    "start_time": "2022-11-15T08:41:39.046Z"
   },
   {
    "duration": 591,
    "start_time": "2022-11-15T08:41:39.080Z"
   },
   {
    "duration": 230,
    "start_time": "2022-11-15T08:41:39.672Z"
   },
   {
    "duration": 958,
    "start_time": "2022-11-15T08:41:39.904Z"
   },
   {
    "duration": 323,
    "start_time": "2022-11-15T08:41:40.863Z"
   },
   {
    "duration": 363,
    "start_time": "2022-11-15T08:41:41.187Z"
   },
   {
    "duration": 234,
    "start_time": "2022-11-15T08:41:41.552Z"
   },
   {
    "duration": 236,
    "start_time": "2022-11-15T08:41:41.788Z"
   },
   {
    "duration": 251,
    "start_time": "2022-11-15T08:41:42.026Z"
   },
   {
    "duration": 271,
    "start_time": "2022-11-15T08:41:42.279Z"
   },
   {
    "duration": 20,
    "start_time": "2022-11-15T08:41:42.553Z"
   },
   {
    "duration": 331,
    "start_time": "2022-11-15T08:41:42.575Z"
   },
   {
    "duration": 532,
    "start_time": "2022-11-15T08:41:42.907Z"
   },
   {
    "duration": 12,
    "start_time": "2022-11-15T08:41:43.441Z"
   },
   {
    "duration": 65,
    "start_time": "2022-11-15T08:49:17.061Z"
   },
   {
    "duration": 118,
    "start_time": "2022-11-15T08:53:10.809Z"
   },
   {
    "duration": 669,
    "start_time": "2022-11-15T08:53:44.822Z"
   },
   {
    "duration": 71,
    "start_time": "2022-11-15T08:53:45.493Z"
   },
   {
    "duration": 14,
    "start_time": "2022-11-15T08:53:45.565Z"
   },
   {
    "duration": 7,
    "start_time": "2022-11-15T08:53:45.581Z"
   },
   {
    "duration": 11,
    "start_time": "2022-11-15T08:53:45.590Z"
   },
   {
    "duration": 34,
    "start_time": "2022-11-15T08:53:45.603Z"
   },
   {
    "duration": 23,
    "start_time": "2022-11-15T08:53:45.639Z"
   },
   {
    "duration": 6,
    "start_time": "2022-11-15T08:53:45.664Z"
   },
   {
    "duration": 31,
    "start_time": "2022-11-15T08:53:45.671Z"
   },
   {
    "duration": 4,
    "start_time": "2022-11-15T08:53:45.722Z"
   },
   {
    "duration": 22,
    "start_time": "2022-11-15T08:53:45.728Z"
   },
   {
    "duration": 5,
    "start_time": "2022-11-15T08:53:45.752Z"
   },
   {
    "duration": 15,
    "start_time": "2022-11-15T08:53:45.758Z"
   },
   {
    "duration": 20,
    "start_time": "2022-11-15T08:53:45.774Z"
   },
   {
    "duration": 28,
    "start_time": "2022-11-15T08:53:45.795Z"
   },
   {
    "duration": 66,
    "start_time": "2022-11-15T08:53:45.825Z"
   },
   {
    "duration": 311,
    "start_time": "2022-11-15T08:53:45.893Z"
   },
   {
    "duration": 228,
    "start_time": "2022-11-15T08:53:46.206Z"
   },
   {
    "duration": 28,
    "start_time": "2022-11-15T08:53:46.436Z"
   },
   {
    "duration": 513,
    "start_time": "2022-11-15T08:53:46.466Z"
   },
   {
    "duration": 213,
    "start_time": "2022-11-15T08:53:46.980Z"
   },
   {
    "duration": 932,
    "start_time": "2022-11-15T08:53:47.195Z"
   },
   {
    "duration": 317,
    "start_time": "2022-11-15T08:53:48.129Z"
   },
   {
    "duration": 361,
    "start_time": "2022-11-15T08:53:48.448Z"
   },
   {
    "duration": 279,
    "start_time": "2022-11-15T08:53:48.811Z"
   },
   {
    "duration": 239,
    "start_time": "2022-11-15T08:53:49.092Z"
   },
   {
    "duration": 252,
    "start_time": "2022-11-15T08:53:49.332Z"
   },
   {
    "duration": 271,
    "start_time": "2022-11-15T08:53:49.587Z"
   },
   {
    "duration": 17,
    "start_time": "2022-11-15T08:53:49.860Z"
   },
   {
    "duration": 320,
    "start_time": "2022-11-15T08:53:49.878Z"
   },
   {
    "duration": 536,
    "start_time": "2022-11-15T08:53:50.200Z"
   },
   {
    "duration": 12,
    "start_time": "2022-11-15T08:53:50.737Z"
   },
   {
    "duration": 275,
    "start_time": "2022-11-15T09:02:56.011Z"
   },
   {
    "duration": 269,
    "start_time": "2022-11-15T09:03:07.326Z"
   },
   {
    "duration": 290,
    "start_time": "2022-11-15T09:03:59.625Z"
   },
   {
    "duration": 279,
    "start_time": "2022-11-15T09:04:19.870Z"
   },
   {
    "duration": 250,
    "start_time": "2022-11-15T09:05:20.395Z"
   },
   {
    "duration": 158,
    "start_time": "2022-11-15T09:08:50.053Z"
   },
   {
    "duration": 313,
    "start_time": "2022-11-15T09:09:01.614Z"
   },
   {
    "duration": 401,
    "start_time": "2022-11-15T09:09:24.370Z"
   },
   {
    "duration": 11,
    "start_time": "2022-11-15T09:10:13.502Z"
   },
   {
    "duration": 10,
    "start_time": "2022-11-15T09:10:47.443Z"
   },
   {
    "duration": 10,
    "start_time": "2022-11-15T09:14:45.528Z"
   },
   {
    "duration": 10,
    "start_time": "2022-11-15T09:14:53.574Z"
   },
   {
    "duration": 278,
    "start_time": "2022-11-15T09:14:58.332Z"
   },
   {
    "duration": 284,
    "start_time": "2022-11-15T09:15:06.748Z"
   },
   {
    "duration": 293,
    "start_time": "2022-11-15T09:15:20.799Z"
   },
   {
    "duration": 278,
    "start_time": "2022-11-15T09:21:25.922Z"
   },
   {
    "duration": 77,
    "start_time": "2022-11-15T09:27:51.373Z"
   },
   {
    "duration": 78,
    "start_time": "2022-11-15T09:28:08.226Z"
   },
   {
    "duration": 36,
    "start_time": "2022-11-15T09:28:52.722Z"
   },
   {
    "duration": 1609,
    "start_time": "2022-11-15T09:29:24.153Z"
   },
   {
    "duration": 1476,
    "start_time": "2022-11-15T09:29:42.293Z"
   },
   {
    "duration": 26,
    "start_time": "2022-11-15T09:31:50.402Z"
   },
   {
    "duration": 1445,
    "start_time": "2022-11-15T09:33:01.997Z"
   },
   {
    "duration": 74,
    "start_time": "2022-11-15T09:33:57.590Z"
   },
   {
    "duration": 1296,
    "start_time": "2022-11-15T09:34:30.798Z"
   },
   {
    "duration": 78,
    "start_time": "2022-11-15T09:35:51.687Z"
   },
   {
    "duration": 17,
    "start_time": "2022-11-15T09:36:56.432Z"
   },
   {
    "duration": 1346,
    "start_time": "2022-11-15T09:37:04.877Z"
   },
   {
    "duration": 720,
    "start_time": "2022-11-19T13:08:29.092Z"
   },
   {
    "duration": 116,
    "start_time": "2022-11-19T13:08:29.814Z"
   },
   {
    "duration": 13,
    "start_time": "2022-11-19T13:08:29.932Z"
   },
   {
    "duration": 7,
    "start_time": "2022-11-19T13:08:29.946Z"
   },
   {
    "duration": 39,
    "start_time": "2022-11-19T13:08:29.954Z"
   },
   {
    "duration": 21,
    "start_time": "2022-11-19T13:08:29.994Z"
   },
   {
    "duration": 23,
    "start_time": "2022-11-19T13:08:30.016Z"
   },
   {
    "duration": 26,
    "start_time": "2022-11-19T13:08:30.041Z"
   },
   {
    "duration": 45,
    "start_time": "2022-11-19T13:08:30.068Z"
   },
   {
    "duration": 14,
    "start_time": "2022-11-19T13:08:30.114Z"
   },
   {
    "duration": 20,
    "start_time": "2022-11-19T13:08:30.129Z"
   },
   {
    "duration": 4,
    "start_time": "2022-11-19T13:08:30.151Z"
   },
   {
    "duration": 17,
    "start_time": "2022-11-19T13:08:30.157Z"
   },
   {
    "duration": 32,
    "start_time": "2022-11-19T13:08:30.177Z"
   },
   {
    "duration": 9,
    "start_time": "2022-11-19T13:08:30.211Z"
   },
   {
    "duration": 51,
    "start_time": "2022-11-19T13:08:30.221Z"
   },
   {
    "duration": 273,
    "start_time": "2022-11-19T13:08:30.274Z"
   },
   {
    "duration": 197,
    "start_time": "2022-11-19T13:08:30.549Z"
   },
   {
    "duration": 25,
    "start_time": "2022-11-19T13:08:30.748Z"
   },
   {
    "duration": 465,
    "start_time": "2022-11-19T13:08:30.774Z"
   },
   {
    "duration": 197,
    "start_time": "2022-11-19T13:08:31.241Z"
   },
   {
    "duration": 772,
    "start_time": "2022-11-19T13:08:31.440Z"
   },
   {
    "duration": 264,
    "start_time": "2022-11-19T13:08:32.214Z"
   },
   {
    "duration": 298,
    "start_time": "2022-11-19T13:08:32.480Z"
   },
   {
    "duration": 319,
    "start_time": "2022-11-19T13:08:32.780Z"
   },
   {
    "duration": 0,
    "start_time": "2022-11-19T13:08:33.100Z"
   },
   {
    "duration": 0,
    "start_time": "2022-11-19T13:08:33.102Z"
   },
   {
    "duration": 0,
    "start_time": "2022-11-19T13:08:33.103Z"
   },
   {
    "duration": 0,
    "start_time": "2022-11-19T13:08:33.104Z"
   },
   {
    "duration": 0,
    "start_time": "2022-11-19T13:08:33.105Z"
   },
   {
    "duration": 0,
    "start_time": "2022-11-19T13:08:33.106Z"
   },
   {
    "duration": 0,
    "start_time": "2022-11-19T13:08:33.107Z"
   },
   {
    "duration": 0,
    "start_time": "2022-11-19T13:08:33.108Z"
   },
   {
    "duration": 0,
    "start_time": "2022-11-19T13:08:33.109Z"
   },
   {
    "duration": 0,
    "start_time": "2022-11-19T13:08:33.110Z"
   },
   {
    "duration": 262,
    "start_time": "2022-11-19T13:12:02.937Z"
   },
   {
    "duration": 258,
    "start_time": "2022-11-19T13:12:13.936Z"
   },
   {
    "duration": 255,
    "start_time": "2022-11-19T13:12:23.144Z"
   },
   {
    "duration": 246,
    "start_time": "2022-11-19T13:12:34.230Z"
   },
   {
    "duration": 319,
    "start_time": "2022-11-19T13:21:55.760Z"
   },
   {
    "duration": 21,
    "start_time": "2022-11-19T13:21:59.856Z"
   },
   {
    "duration": 1152,
    "start_time": "2022-11-19T13:22:02.438Z"
   },
   {
    "duration": 187,
    "start_time": "2022-11-19T13:22:25.891Z"
   },
   {
    "duration": 511,
    "start_time": "2022-11-19T13:24:56.054Z"
   },
   {
    "duration": 9,
    "start_time": "2022-11-19T13:25:12.591Z"
   },
   {
    "duration": 120,
    "start_time": "2022-11-19T13:31:57.253Z"
   },
   {
    "duration": 124,
    "start_time": "2022-11-19T13:32:22.534Z"
   },
   {
    "duration": 9,
    "start_time": "2022-11-19T13:36:03.805Z"
   },
   {
    "duration": 134,
    "start_time": "2022-11-19T13:38:02.074Z"
   },
   {
    "duration": 133,
    "start_time": "2022-11-19T13:38:29.079Z"
   },
   {
    "duration": 123,
    "start_time": "2022-11-19T13:39:39.147Z"
   },
   {
    "duration": 25,
    "start_time": "2022-11-19T13:41:13.274Z"
   },
   {
    "duration": 7,
    "start_time": "2022-11-19T13:41:34.044Z"
   },
   {
    "duration": 307,
    "start_time": "2022-11-19T13:45:20.011Z"
   },
   {
    "duration": 218,
    "start_time": "2022-11-19T13:51:02.454Z"
   },
   {
    "duration": 337,
    "start_time": "2022-11-19T13:51:18.999Z"
   },
   {
    "duration": 17,
    "start_time": "2022-11-19T13:51:21.924Z"
   },
   {
    "duration": 265,
    "start_time": "2022-11-19T13:51:30.462Z"
   },
   {
    "duration": 37,
    "start_time": "2022-11-19T13:52:56.522Z"
   },
   {
    "duration": 803,
    "start_time": "2022-11-19T13:53:13.174Z"
   },
   {
    "duration": 646,
    "start_time": "2022-11-19T13:53:45.500Z"
   },
   {
    "duration": 806,
    "start_time": "2022-11-22T18:49:58.764Z"
   },
   {
    "duration": 131,
    "start_time": "2022-11-22T18:49:59.574Z"
   },
   {
    "duration": 15,
    "start_time": "2022-11-22T18:49:59.706Z"
   },
   {
    "duration": 8,
    "start_time": "2022-11-22T18:49:59.723Z"
   },
   {
    "duration": 28,
    "start_time": "2022-11-22T18:49:59.733Z"
   },
   {
    "duration": 24,
    "start_time": "2022-11-22T18:49:59.763Z"
   },
   {
    "duration": 24,
    "start_time": "2022-11-22T18:49:59.789Z"
   },
   {
    "duration": 7,
    "start_time": "2022-11-22T18:49:59.814Z"
   },
   {
    "duration": 33,
    "start_time": "2022-11-22T18:49:59.822Z"
   },
   {
    "duration": 13,
    "start_time": "2022-11-22T18:49:59.858Z"
   },
   {
    "duration": 20,
    "start_time": "2022-11-22T18:49:59.874Z"
   },
   {
    "duration": 5,
    "start_time": "2022-11-22T18:49:59.895Z"
   },
   {
    "duration": 13,
    "start_time": "2022-11-22T18:49:59.902Z"
   },
   {
    "duration": 29,
    "start_time": "2022-11-22T18:49:59.917Z"
   },
   {
    "duration": 24,
    "start_time": "2022-11-22T18:49:59.947Z"
   },
   {
    "duration": 63,
    "start_time": "2022-11-22T18:49:59.973Z"
   },
   {
    "duration": 309,
    "start_time": "2022-11-22T18:50:00.045Z"
   },
   {
    "duration": 228,
    "start_time": "2022-11-22T18:50:00.355Z"
   },
   {
    "duration": 28,
    "start_time": "2022-11-22T18:50:00.585Z"
   },
   {
    "duration": 516,
    "start_time": "2022-11-22T18:50:00.615Z"
   },
   {
    "duration": 223,
    "start_time": "2022-11-22T18:50:01.135Z"
   },
   {
    "duration": 915,
    "start_time": "2022-11-22T18:50:01.360Z"
   },
   {
    "duration": 412,
    "start_time": "2022-11-22T18:50:02.277Z"
   },
   {
    "duration": 376,
    "start_time": "2022-11-22T18:50:02.690Z"
   },
   {
    "duration": 301,
    "start_time": "2022-11-22T18:50:03.068Z"
   },
   {
    "duration": 7,
    "start_time": "2022-11-22T18:50:03.371Z"
   },
   {
    "duration": 296,
    "start_time": "2022-11-22T18:50:03.380Z"
   },
   {
    "duration": 22,
    "start_time": "2022-11-22T18:50:03.679Z"
   },
   {
    "duration": 1339,
    "start_time": "2022-11-22T18:50:03.703Z"
   },
   {
    "duration": 327,
    "start_time": "2022-11-22T18:50:05.045Z"
   },
   {
    "duration": 324,
    "start_time": "2022-11-22T18:50:05.374Z"
   },
   {
    "duration": 753,
    "start_time": "2022-11-22T18:50:05.700Z"
   },
   {
    "duration": 1000,
    "start_time": "2022-11-22T18:50:06.454Z"
   },
   {
    "duration": 18,
    "start_time": "2022-11-22T18:50:07.456Z"
   },
   {
    "duration": 346,
    "start_time": "2022-11-22T18:50:07.476Z"
   },
   {
    "duration": 506,
    "start_time": "2022-11-22T18:50:07.825Z"
   },
   {
    "duration": 146,
    "start_time": "2022-11-22T18:50:08.335Z"
   },
   {
    "duration": 11,
    "start_time": "2022-11-22T18:50:08.483Z"
   },
   {
    "duration": 189,
    "start_time": "2022-11-22T18:50:08.495Z"
   },
   {
    "duration": 53,
    "start_time": "2022-11-22T18:51:55.964Z"
   },
   {
    "duration": 46,
    "start_time": "2022-11-22T19:02:29.084Z"
   },
   {
    "duration": 47,
    "start_time": "2022-11-22T19:03:33.786Z"
   },
   {
    "duration": 1076,
    "start_time": "2022-11-22T19:07:09.186Z"
   },
   {
    "duration": 423,
    "start_time": "2022-11-22T19:07:30.558Z"
   },
   {
    "duration": 511,
    "start_time": "2022-11-22T19:08:52.052Z"
   },
   {
    "duration": 391,
    "start_time": "2022-11-22T19:09:36.095Z"
   },
   {
    "duration": 445,
    "start_time": "2022-11-22T19:10:31.065Z"
   },
   {
    "duration": 405,
    "start_time": "2022-11-22T19:10:46.778Z"
   },
   {
    "duration": 56,
    "start_time": "2022-11-22T19:12:08.893Z"
   },
   {
    "duration": 62,
    "start_time": "2022-11-22T19:12:43.808Z"
   },
   {
    "duration": 486,
    "start_time": "2022-11-22T19:12:56.526Z"
   },
   {
    "duration": 421,
    "start_time": "2022-11-22T19:13:10.194Z"
   },
   {
    "duration": 406,
    "start_time": "2022-11-22T19:13:29.625Z"
   },
   {
    "duration": 834,
    "start_time": "2022-11-22T19:14:56.991Z"
   },
   {
    "duration": 739,
    "start_time": "2022-11-22T19:15:08.835Z"
   },
   {
    "duration": 659,
    "start_time": "2022-11-22T19:15:41.418Z"
   },
   {
    "duration": 47,
    "start_time": "2022-11-22T19:29:49.857Z"
   },
   {
    "duration": 64,
    "start_time": "2022-11-22T19:30:23.508Z"
   },
   {
    "duration": 590,
    "start_time": "2022-11-23T15:52:57.177Z"
   },
   {
    "duration": 71,
    "start_time": "2022-11-23T15:52:57.769Z"
   },
   {
    "duration": 13,
    "start_time": "2022-11-23T15:52:57.841Z"
   },
   {
    "duration": 6,
    "start_time": "2022-11-23T15:52:57.856Z"
   },
   {
    "duration": 8,
    "start_time": "2022-11-23T15:52:57.864Z"
   },
   {
    "duration": 16,
    "start_time": "2022-11-23T15:52:57.874Z"
   },
   {
    "duration": 20,
    "start_time": "2022-11-23T15:52:57.891Z"
   },
   {
    "duration": 6,
    "start_time": "2022-11-23T15:52:57.912Z"
   },
   {
    "duration": 49,
    "start_time": "2022-11-23T15:52:57.919Z"
   },
   {
    "duration": 5,
    "start_time": "2022-11-23T15:52:57.969Z"
   },
   {
    "duration": 26,
    "start_time": "2022-11-23T15:52:57.976Z"
   },
   {
    "duration": 5,
    "start_time": "2022-11-23T15:52:58.003Z"
   },
   {
    "duration": 12,
    "start_time": "2022-11-23T15:52:58.009Z"
   },
   {
    "duration": 16,
    "start_time": "2022-11-23T15:52:58.024Z"
   },
   {
    "duration": 9,
    "start_time": "2022-11-23T15:52:58.053Z"
   },
   {
    "duration": 42,
    "start_time": "2022-11-23T15:52:58.063Z"
   },
   {
    "duration": 287,
    "start_time": "2022-11-23T15:52:58.107Z"
   },
   {
    "duration": 207,
    "start_time": "2022-11-23T15:52:58.396Z"
   },
   {
    "duration": 27,
    "start_time": "2022-11-23T15:52:58.605Z"
   },
   {
    "duration": 472,
    "start_time": "2022-11-23T15:52:58.633Z"
   },
   {
    "duration": 196,
    "start_time": "2022-11-23T15:52:59.107Z"
   },
   {
    "duration": 816,
    "start_time": "2022-11-23T15:52:59.305Z"
   },
   {
    "duration": 300,
    "start_time": "2022-11-23T15:53:00.122Z"
   },
   {
    "duration": 314,
    "start_time": "2022-11-23T15:53:00.423Z"
   },
   {
    "duration": 269,
    "start_time": "2022-11-23T15:53:00.738Z"
   },
   {
    "duration": 7,
    "start_time": "2022-11-23T15:53:01.008Z"
   },
   {
    "duration": 266,
    "start_time": "2022-11-23T15:53:01.016Z"
   },
   {
    "duration": 22,
    "start_time": "2022-11-23T15:53:01.284Z"
   },
   {
    "duration": 1233,
    "start_time": "2022-11-23T15:53:01.307Z"
   },
   {
    "duration": 300,
    "start_time": "2022-11-23T15:53:02.552Z"
   },
   {
    "duration": 279,
    "start_time": "2022-11-23T15:53:02.854Z"
   },
   {
    "duration": 550,
    "start_time": "2022-11-23T15:53:03.135Z"
   },
   {
    "duration": 629,
    "start_time": "2022-11-23T15:53:03.687Z"
   },
   {
    "duration": 277,
    "start_time": "2022-11-23T15:53:04.317Z"
   },
   {
    "duration": 477,
    "start_time": "2022-11-23T15:53:04.596Z"
   },
   {
    "duration": 142,
    "start_time": "2022-11-23T15:53:05.075Z"
   },
   {
    "duration": 10,
    "start_time": "2022-11-23T15:53:05.219Z"
   },
   {
    "duration": 174,
    "start_time": "2022-11-23T15:53:05.230Z"
   },
   {
    "duration": 581,
    "start_time": "2022-11-23T15:56:29.877Z"
   },
   {
    "duration": 74,
    "start_time": "2022-11-23T15:56:30.460Z"
   },
   {
    "duration": 12,
    "start_time": "2022-11-23T15:56:30.536Z"
   },
   {
    "duration": 4,
    "start_time": "2022-11-23T15:56:30.551Z"
   },
   {
    "duration": 23,
    "start_time": "2022-11-23T15:56:30.557Z"
   },
   {
    "duration": 19,
    "start_time": "2022-11-23T15:56:30.581Z"
   },
   {
    "duration": 23,
    "start_time": "2022-11-23T15:56:30.602Z"
   },
   {
    "duration": 33,
    "start_time": "2022-11-23T15:56:30.627Z"
   },
   {
    "duration": 38,
    "start_time": "2022-11-23T15:56:30.662Z"
   },
   {
    "duration": 9,
    "start_time": "2022-11-23T15:56:30.703Z"
   },
   {
    "duration": 40,
    "start_time": "2022-11-23T15:56:30.714Z"
   },
   {
    "duration": 17,
    "start_time": "2022-11-23T15:56:30.756Z"
   },
   {
    "duration": 34,
    "start_time": "2022-11-23T15:56:30.774Z"
   },
   {
    "duration": 29,
    "start_time": "2022-11-23T15:56:30.810Z"
   },
   {
    "duration": 18,
    "start_time": "2022-11-23T15:56:30.841Z"
   },
   {
    "duration": 59,
    "start_time": "2022-11-23T15:56:30.861Z"
   },
   {
    "duration": 274,
    "start_time": "2022-11-23T15:56:30.922Z"
   },
   {
    "duration": 199,
    "start_time": "2022-11-23T15:56:31.198Z"
   },
   {
    "duration": 26,
    "start_time": "2022-11-23T15:56:31.398Z"
   },
   {
    "duration": 464,
    "start_time": "2022-11-23T15:56:31.425Z"
   },
   {
    "duration": 193,
    "start_time": "2022-11-23T15:56:31.891Z"
   },
   {
    "duration": 858,
    "start_time": "2022-11-23T15:56:32.085Z"
   },
   {
    "duration": 298,
    "start_time": "2022-11-23T15:56:32.944Z"
   },
   {
    "duration": 317,
    "start_time": "2022-11-23T15:56:33.244Z"
   },
   {
    "duration": 272,
    "start_time": "2022-11-23T15:56:33.563Z"
   },
   {
    "duration": 15,
    "start_time": "2022-11-23T15:56:33.837Z"
   },
   {
    "duration": 260,
    "start_time": "2022-11-23T15:56:33.854Z"
   },
   {
    "duration": 34,
    "start_time": "2022-11-23T15:56:34.118Z"
   },
   {
    "duration": 1225,
    "start_time": "2022-11-23T15:56:34.154Z"
   },
   {
    "duration": 287,
    "start_time": "2022-11-23T15:56:35.381Z"
   },
   {
    "duration": 283,
    "start_time": "2022-11-23T15:56:35.669Z"
   },
   {
    "duration": 540,
    "start_time": "2022-11-23T15:56:35.953Z"
   },
   {
    "duration": 634,
    "start_time": "2022-11-23T15:56:36.495Z"
   },
   {
    "duration": 288,
    "start_time": "2022-11-23T15:56:37.131Z"
   },
   {
    "duration": 495,
    "start_time": "2022-11-23T15:56:37.421Z"
   },
   {
    "duration": 135,
    "start_time": "2022-11-23T15:56:37.917Z"
   },
   {
    "duration": 9,
    "start_time": "2022-11-23T15:56:38.054Z"
   },
   {
    "duration": 148,
    "start_time": "2022-11-23T15:56:38.065Z"
   },
   {
    "duration": 839,
    "start_time": "2022-11-23T17:12:39.410Z"
   },
   {
    "duration": 127,
    "start_time": "2022-11-23T17:12:40.251Z"
   },
   {
    "duration": 20,
    "start_time": "2022-11-23T17:12:40.380Z"
   },
   {
    "duration": 6,
    "start_time": "2022-11-23T17:12:40.403Z"
   },
   {
    "duration": 22,
    "start_time": "2022-11-23T17:12:40.411Z"
   },
   {
    "duration": 28,
    "start_time": "2022-11-23T17:12:40.434Z"
   },
   {
    "duration": 44,
    "start_time": "2022-11-23T17:12:40.463Z"
   },
   {
    "duration": 9,
    "start_time": "2022-11-23T17:12:40.509Z"
   },
   {
    "duration": 35,
    "start_time": "2022-11-23T17:12:40.519Z"
   },
   {
    "duration": 6,
    "start_time": "2022-11-23T17:12:40.557Z"
   },
   {
    "duration": 30,
    "start_time": "2022-11-23T17:12:40.565Z"
   },
   {
    "duration": 6,
    "start_time": "2022-11-23T17:12:40.596Z"
   },
   {
    "duration": 17,
    "start_time": "2022-11-23T17:12:40.604Z"
   },
   {
    "duration": 26,
    "start_time": "2022-11-23T17:12:40.623Z"
   },
   {
    "duration": 23,
    "start_time": "2022-11-23T17:12:40.651Z"
   },
   {
    "duration": 83,
    "start_time": "2022-11-23T17:12:40.676Z"
   },
   {
    "duration": 385,
    "start_time": "2022-11-23T17:12:40.761Z"
   },
   {
    "duration": 297,
    "start_time": "2022-11-23T17:12:41.148Z"
   },
   {
    "duration": 29,
    "start_time": "2022-11-23T17:12:41.447Z"
   },
   {
    "duration": 533,
    "start_time": "2022-11-23T17:12:41.478Z"
   },
   {
    "duration": 211,
    "start_time": "2022-11-23T17:12:42.013Z"
   },
   {
    "duration": 972,
    "start_time": "2022-11-23T17:12:42.226Z"
   },
   {
    "duration": 380,
    "start_time": "2022-11-23T17:12:43.200Z"
   },
   {
    "duration": 367,
    "start_time": "2022-11-23T17:12:43.582Z"
   },
   {
    "duration": 4,
    "start_time": "2022-11-23T17:18:28.231Z"
   },
   {
    "duration": 77,
    "start_time": "2022-11-23T17:18:28.237Z"
   },
   {
    "duration": 15,
    "start_time": "2022-11-23T17:18:28.316Z"
   },
   {
    "duration": 5,
    "start_time": "2022-11-23T17:18:28.333Z"
   },
   {
    "duration": 27,
    "start_time": "2022-11-23T17:18:28.340Z"
   },
   {
    "duration": 31,
    "start_time": "2022-11-23T17:18:28.369Z"
   },
   {
    "duration": 23,
    "start_time": "2022-11-23T17:18:28.402Z"
   },
   {
    "duration": 11,
    "start_time": "2022-11-23T17:18:28.427Z"
   },
   {
    "duration": 28,
    "start_time": "2022-11-23T17:18:28.440Z"
   },
   {
    "duration": 5,
    "start_time": "2022-11-23T17:18:28.470Z"
   },
   {
    "duration": 23,
    "start_time": "2022-11-23T17:18:28.476Z"
   },
   {
    "duration": 4,
    "start_time": "2022-11-23T17:18:28.501Z"
   },
   {
    "duration": 13,
    "start_time": "2022-11-23T17:18:28.506Z"
   },
   {
    "duration": 16,
    "start_time": "2022-11-23T17:18:28.536Z"
   },
   {
    "duration": 20,
    "start_time": "2022-11-23T17:18:28.553Z"
   },
   {
    "duration": 96,
    "start_time": "2022-11-23T17:18:28.575Z"
   },
   {
    "duration": 364,
    "start_time": "2022-11-23T17:18:28.673Z"
   },
   {
    "duration": 402,
    "start_time": "2022-11-23T17:18:29.038Z"
   },
   {
    "duration": 37,
    "start_time": "2022-11-23T17:18:29.442Z"
   },
   {
    "duration": 521,
    "start_time": "2022-11-23T17:18:29.481Z"
   },
   {
    "duration": 217,
    "start_time": "2022-11-23T17:18:30.004Z"
   },
   {
    "duration": 902,
    "start_time": "2022-11-23T17:18:30.222Z"
   },
   {
    "duration": 425,
    "start_time": "2022-11-23T17:18:31.125Z"
   },
   {
    "duration": 280,
    "start_time": "2022-11-23T17:18:31.552Z"
   },
   {
    "duration": 327,
    "start_time": "2022-11-23T17:18:31.835Z"
   },
   {
    "duration": 9,
    "start_time": "2022-11-23T17:18:32.165Z"
   },
   {
    "duration": 260,
    "start_time": "2022-11-23T17:18:32.176Z"
   },
   {
    "duration": 22,
    "start_time": "2022-11-23T17:18:32.437Z"
   },
   {
    "duration": 1328,
    "start_time": "2022-11-23T17:18:32.460Z"
   },
   {
    "duration": 205,
    "start_time": "2022-11-23T17:18:33.790Z"
   },
   {
    "duration": 308,
    "start_time": "2022-11-23T17:18:33.997Z"
   },
   {
    "duration": 759,
    "start_time": "2022-11-23T17:18:34.307Z"
   },
   {
    "duration": 710,
    "start_time": "2022-11-23T17:18:35.067Z"
   },
   {
    "duration": 325,
    "start_time": "2022-11-23T17:18:35.779Z"
   },
   {
    "duration": 10,
    "start_time": "2022-11-23T17:18:36.107Z"
   },
   {
    "duration": 160,
    "start_time": "2022-11-23T17:18:36.118Z"
   },
   {
    "duration": 10,
    "start_time": "2022-11-23T17:18:36.280Z"
   },
   {
    "duration": 158,
    "start_time": "2022-11-23T17:18:36.292Z"
   },
   {
    "duration": 296,
    "start_time": "2022-11-23T17:19:40.935Z"
   },
   {
    "duration": 296,
    "start_time": "2022-11-23T17:22:50.144Z"
   },
   {
    "duration": 590,
    "start_time": "2022-11-24T12:22:13.970Z"
   },
   {
    "duration": 72,
    "start_time": "2022-11-24T12:22:14.562Z"
   },
   {
    "duration": 12,
    "start_time": "2022-11-24T12:22:14.635Z"
   },
   {
    "duration": 9,
    "start_time": "2022-11-24T12:22:14.649Z"
   },
   {
    "duration": 12,
    "start_time": "2022-11-24T12:22:14.659Z"
   },
   {
    "duration": 18,
    "start_time": "2022-11-24T12:22:14.672Z"
   },
   {
    "duration": 18,
    "start_time": "2022-11-24T12:22:14.692Z"
   },
   {
    "duration": 7,
    "start_time": "2022-11-24T12:22:14.711Z"
   },
   {
    "duration": 31,
    "start_time": "2022-11-24T12:22:14.720Z"
   },
   {
    "duration": 6,
    "start_time": "2022-11-24T12:22:14.753Z"
   },
   {
    "duration": 20,
    "start_time": "2022-11-24T12:22:14.775Z"
   },
   {
    "duration": 5,
    "start_time": "2022-11-24T12:22:14.797Z"
   },
   {
    "duration": 33,
    "start_time": "2022-11-24T12:22:14.804Z"
   },
   {
    "duration": 32,
    "start_time": "2022-11-24T12:22:14.838Z"
   },
   {
    "duration": 40,
    "start_time": "2022-11-24T12:22:14.872Z"
   },
   {
    "duration": 78,
    "start_time": "2022-11-24T12:22:14.914Z"
   },
   {
    "duration": 349,
    "start_time": "2022-11-24T12:22:14.994Z"
   },
   {
    "duration": 292,
    "start_time": "2022-11-24T12:22:15.345Z"
   },
   {
    "duration": 38,
    "start_time": "2022-11-24T12:22:15.638Z"
   },
   {
    "duration": 464,
    "start_time": "2022-11-24T12:22:15.678Z"
   },
   {
    "duration": 186,
    "start_time": "2022-11-24T12:22:16.144Z"
   },
   {
    "duration": 818,
    "start_time": "2022-11-24T12:22:16.331Z"
   },
   {
    "duration": 290,
    "start_time": "2022-11-24T12:22:17.150Z"
   },
   {
    "duration": 323,
    "start_time": "2022-11-24T12:22:17.442Z"
   },
   {
    "duration": 273,
    "start_time": "2022-11-24T12:22:17.767Z"
   },
   {
    "duration": 8,
    "start_time": "2022-11-24T12:22:18.042Z"
   },
   {
    "duration": 217,
    "start_time": "2022-11-24T12:22:18.051Z"
   },
   {
    "duration": 23,
    "start_time": "2022-11-24T12:22:18.278Z"
   },
   {
    "duration": 1251,
    "start_time": "2022-11-24T12:22:18.302Z"
   },
   {
    "duration": 174,
    "start_time": "2022-11-24T12:22:19.554Z"
   },
   {
    "duration": 295,
    "start_time": "2022-11-24T12:22:19.729Z"
   },
   {
    "duration": 559,
    "start_time": "2022-11-24T12:22:20.026Z"
   },
   {
    "duration": 614,
    "start_time": "2022-11-24T12:22:20.587Z"
   },
   {
    "duration": 388,
    "start_time": "2022-11-24T12:22:21.202Z"
   },
   {
    "duration": 377,
    "start_time": "2022-11-24T12:22:21.592Z"
   },
   {
    "duration": 131,
    "start_time": "2022-11-24T12:22:21.975Z"
   },
   {
    "duration": 10,
    "start_time": "2022-11-24T12:22:22.107Z"
   },
   {
    "duration": 133,
    "start_time": "2022-11-24T12:22:22.118Z"
   },
   {
    "duration": 308,
    "start_time": "2022-11-24T12:30:44.662Z"
   }
  ],
  "kernelspec": {
   "display_name": "Python 3 (ipykernel)",
   "language": "python",
   "name": "python3"
  },
  "language_info": {
   "codemirror_mode": {
    "name": "ipython",
    "version": 3
   },
   "file_extension": ".py",
   "mimetype": "text/x-python",
   "name": "python",
   "nbconvert_exporter": "python",
   "pygments_lexer": "ipython3",
   "version": "3.9.5"
  },
  "toc": {
   "base_numbering": 1,
   "nav_menu": {},
   "number_sections": true,
   "sideBar": true,
   "skip_h1_title": true,
   "title_cell": "Table of Contents",
   "title_sidebar": "Contents",
   "toc_cell": false,
   "toc_position": {},
   "toc_section_display": true,
   "toc_window_display": false
  }
 },
 "nbformat": 4,
 "nbformat_minor": 2
}
